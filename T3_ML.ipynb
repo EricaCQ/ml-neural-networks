{
  "nbformat": 4,
  "nbformat_minor": 0,
  "metadata": {
    "colab": {
      "name": "T3_ML.ipynb",
      "provenance": [],
      "toc_visible": true
    },
    "kernelspec": {
      "name": "python3",
      "display_name": "Python 3"
    },
    "language_info": {
      "name": "python"
    }
  },
  "cells": [
    {
      "cell_type": "markdown",
      "metadata": {
        "id": "7eLd4lsJzRw0"
      },
      "source": [
        "Programa de Pós-graduação em Ciências da Computação (PPCIC)\n",
        "\n",
        "Centro Federal de Educação Tecnológica Celso Suckow da Fonseca – (CEFET/RJ)\n",
        "\n",
        "Disciplina: Aprendizado de Máquina\n",
        "\n",
        "Prof.: Eduardo Bezerra\n",
        "\n",
        "Aluna: Érica Carneiro\n"
      ]
    },
    {
      "cell_type": "markdown",
      "metadata": {
        "id": "s1DX3pkBMdCG"
      },
      "source": [
        "#1 Aprendizado de Comitês\n"
      ]
    },
    {
      "cell_type": "markdown",
      "metadata": {
        "id": "C3RnNIMSsd6-"
      },
      "source": [
        "O aprendizado de comitês faz uso de diversas abordagens quem combinam técnicas de aprendizado supervisionado em um modelo preditivo. Seu princiapal objetivo é construir uma coleção de preditores que, juntos, são capazaes de executar uma predição melhor do que cada um deles separadamente. Além disso, visa diminuir a variância e/ou viés, melhorando a força preditiva. O método pode, ainda, ser aplicado às tarefas de classificaçãoe de regressão. \n",
        "\n",
        "Além disso, é importante ressaltar que, em um comitê que haja diversidade entre os componentes. Algumas abordagens que ajudam a incrementar essa diversidade são: \n",
        "\n",
        "*   O uso de diferentes parâmetros de treinamento para a mesma família de classificadores;\n",
        "*   O uso de diferentes parâmetros de treinamento para a mesma família de classificadores;\n",
        "* O uso de diferentes parâmetros de treinamento para a mesma família de classificadores;\n",
        "* O uso de diferentes tipos de classificadores;\n",
        "* Uso de diferentes conjuntos de características;\n",
        "* Manipulação do conjunto de treinamento.\n",
        "\n"
      ]
    },
    {
      "cell_type": "markdown",
      "metadata": {
        "id": "MXYucLwaHMu6"
      },
      "source": [
        "## Importação de bibliotecas das principais bibliotecas\n"
      ]
    },
    {
      "cell_type": "markdown",
      "metadata": {
        "id": "KCGWjqE9stSq"
      },
      "source": [
        "Para a correta execução das funções de predição em aprendizado de máquina, o uso de algumas bibliotecas em Python são de grande para o auxílio e execução dos algoritmo presentes neste trabalhos. Ressalta-se que optou-se por executar todas as funções dentro do presente documento de modo a facilitar a visualilzação, aprendizado e possíveis inferências que as mesmas poderiam trazer ao leitor e autor do presente documento. "
      ]
    },
    {
      "cell_type": "markdown",
      "metadata": {
        "id": "otwaAfa7swgD"
      },
      "source": [
        "Importação de bibliotecas necessária para aprendizado de máquina e abordagem de aprendicado de comitês:"
      ]
    },
    {
      "cell_type": "code",
      "metadata": {
        "id": "QwluDyzdEDp_"
      },
      "source": [
        "import pandas as pd\n",
        "from sklearn.model_selection import train_test_split\n",
        "from sklearn.preprocessing import StandardScaler\n",
        "from sklearn.model_selection import learning_curve\n",
        "import matplotlib.pyplot as plt\n",
        "from sklearn.metrics import classification_report\n",
        "import numpy as np\n"
      ],
      "execution_count": null,
      "outputs": []
    },
    {
      "cell_type": "markdown",
      "metadata": {
        "id": "G8aqQz7SJEkV"
      },
      "source": [
        "Carregamento de dados"
      ]
    },
    {
      "cell_type": "code",
      "metadata": {
        "colab": {
          "base_uri": "https://localhost:8080/",
          "height": 206
        },
        "id": "Q-Qex2QmHcQP",
        "outputId": "934ad0d4-7482-4c65-d205-4b298877633c"
      },
      "source": [
        "data1 = 'https://raw.githubusercontent.com/MLRG-CEFET-RJ/ml-class/master/ml-t3/datasets/credtrain.txt'\n",
        "dados1 = pd.read_table(data1,\n",
        "                      sep='\\t',\n",
        "                      header=None,\n",
        "                      names=['ESCT', 'NDEP', 'RENDA', 'TIPOR', 'VBEM', 'NPARC', 'TEL', 'IDADE', 'RESMS', 'ENTRADA', 'CLASSE'])\n",
        "X = dados1.iloc[:, 0:-1].values\n",
        "y = dados1.iloc[:, -1:].values\n",
        "\n",
        "dados1.head()"
      ],
      "execution_count": null,
      "outputs": [
        {
          "output_type": "execute_result",
          "data": {
            "text/html": [
              "<div>\n",
              "<style scoped>\n",
              "    .dataframe tbody tr th:only-of-type {\n",
              "        vertical-align: middle;\n",
              "    }\n",
              "\n",
              "    .dataframe tbody tr th {\n",
              "        vertical-align: top;\n",
              "    }\n",
              "\n",
              "    .dataframe thead th {\n",
              "        text-align: right;\n",
              "    }\n",
              "</style>\n",
              "<table border=\"1\" class=\"dataframe\">\n",
              "  <thead>\n",
              "    <tr style=\"text-align: right;\">\n",
              "      <th></th>\n",
              "      <th>ESCT</th>\n",
              "      <th>NDEP</th>\n",
              "      <th>RENDA</th>\n",
              "      <th>TIPOR</th>\n",
              "      <th>VBEM</th>\n",
              "      <th>NPARC</th>\n",
              "      <th>TEL</th>\n",
              "      <th>IDADE</th>\n",
              "      <th>RESMS</th>\n",
              "      <th>ENTRADA</th>\n",
              "      <th>CLASSE</th>\n",
              "    </tr>\n",
              "  </thead>\n",
              "  <tbody>\n",
              "    <tr>\n",
              "      <th>1</th>\n",
              "      <td>0</td>\n",
              "      <td>360</td>\n",
              "      <td>0</td>\n",
              "      <td>313</td>\n",
              "      <td>9</td>\n",
              "      <td>52</td>\n",
              "      <td>0</td>\n",
              "      <td>25</td>\n",
              "      <td>48</td>\n",
              "      <td>0</td>\n",
              "      <td>1</td>\n",
              "    </tr>\n",
              "    <tr>\n",
              "      <th>0</th>\n",
              "      <td>0</td>\n",
              "      <td>350</td>\n",
              "      <td>1</td>\n",
              "      <td>468</td>\n",
              "      <td>10</td>\n",
              "      <td>65</td>\n",
              "      <td>0</td>\n",
              "      <td>33</td>\n",
              "      <td>6</td>\n",
              "      <td>0</td>\n",
              "      <td>1</td>\n",
              "    </tr>\n",
              "    <tr>\n",
              "      <th>0</th>\n",
              "      <td>0</td>\n",
              "      <td>1100</td>\n",
              "      <td>0</td>\n",
              "      <td>829</td>\n",
              "      <td>9</td>\n",
              "      <td>125</td>\n",
              "      <td>0</td>\n",
              "      <td>56</td>\n",
              "      <td>48</td>\n",
              "      <td>0</td>\n",
              "      <td>1</td>\n",
              "    </tr>\n",
              "    <tr>\n",
              "      <th>0</th>\n",
              "      <td>0</td>\n",
              "      <td>3000</td>\n",
              "      <td>0</td>\n",
              "      <td>552</td>\n",
              "      <td>12</td>\n",
              "      <td>76</td>\n",
              "      <td>1</td>\n",
              "      <td>31</td>\n",
              "      <td>60</td>\n",
              "      <td>0</td>\n",
              "      <td>1</td>\n",
              "    </tr>\n",
              "    <tr>\n",
              "      <th>1</th>\n",
              "      <td>0</td>\n",
              "      <td>1000</td>\n",
              "      <td>0</td>\n",
              "      <td>809</td>\n",
              "      <td>12</td>\n",
              "      <td>111</td>\n",
              "      <td>0</td>\n",
              "      <td>24</td>\n",
              "      <td>7</td>\n",
              "      <td>0</td>\n",
              "      <td>1</td>\n",
              "    </tr>\n",
              "  </tbody>\n",
              "</table>\n",
              "</div>"
            ],
            "text/plain": [
              "   ESCT  NDEP  RENDA  TIPOR  VBEM  NPARC  TEL  IDADE  RESMS  ENTRADA  CLASSE\n",
              "1     0   360      0    313     9     52    0     25     48        0       1\n",
              "0     0   350      1    468    10     65    0     33      6        0       1\n",
              "0     0  1100      0    829     9    125    0     56     48        0       1\n",
              "0     0  3000      0    552    12     76    1     31     60        0       1\n",
              "1     0  1000      0    809    12    111    0     24      7        0       1"
            ]
          },
          "metadata": {
            "tags": []
          },
          "execution_count": 2
        }
      ]
    },
    {
      "cell_type": "code",
      "metadata": {
        "colab": {
          "base_uri": "https://localhost:8080/",
          "height": 206
        },
        "id": "8X3oIfTxM-xH",
        "outputId": "50b22168-f1f6-430a-8d26-8d92d038398f"
      },
      "source": [
        "data2 = 'https://raw.githubusercontent.com/MLRG-CEFET-RJ/ml-class/master/ml-t3/datasets/credtest.txt'\n",
        "dados2 = pd.read_table(data1,\n",
        "                      sep='\\t',\n",
        "                      header=None,\n",
        "                      names=['ESCT', 'NDEP', 'RENDA', 'TIPOR', 'VBEM', 'NPARC', 'TEL', 'IDADE', 'RESMS', 'ENTRADA', 'CLASSE'])\n",
        "X_test = dados2.iloc[:, 0:-1].values\n",
        "y_test = dados2.iloc[:, -1:].values\n",
        "\n",
        "dados2.head()"
      ],
      "execution_count": null,
      "outputs": [
        {
          "output_type": "execute_result",
          "data": {
            "text/html": [
              "<div>\n",
              "<style scoped>\n",
              "    .dataframe tbody tr th:only-of-type {\n",
              "        vertical-align: middle;\n",
              "    }\n",
              "\n",
              "    .dataframe tbody tr th {\n",
              "        vertical-align: top;\n",
              "    }\n",
              "\n",
              "    .dataframe thead th {\n",
              "        text-align: right;\n",
              "    }\n",
              "</style>\n",
              "<table border=\"1\" class=\"dataframe\">\n",
              "  <thead>\n",
              "    <tr style=\"text-align: right;\">\n",
              "      <th></th>\n",
              "      <th>ESCT</th>\n",
              "      <th>NDEP</th>\n",
              "      <th>RENDA</th>\n",
              "      <th>TIPOR</th>\n",
              "      <th>VBEM</th>\n",
              "      <th>NPARC</th>\n",
              "      <th>TEL</th>\n",
              "      <th>IDADE</th>\n",
              "      <th>RESMS</th>\n",
              "      <th>ENTRADA</th>\n",
              "      <th>CLASSE</th>\n",
              "    </tr>\n",
              "  </thead>\n",
              "  <tbody>\n",
              "    <tr>\n",
              "      <th>1</th>\n",
              "      <td>0</td>\n",
              "      <td>360</td>\n",
              "      <td>0</td>\n",
              "      <td>313</td>\n",
              "      <td>9</td>\n",
              "      <td>52</td>\n",
              "      <td>0</td>\n",
              "      <td>25</td>\n",
              "      <td>48</td>\n",
              "      <td>0</td>\n",
              "      <td>1</td>\n",
              "    </tr>\n",
              "    <tr>\n",
              "      <th>0</th>\n",
              "      <td>0</td>\n",
              "      <td>350</td>\n",
              "      <td>1</td>\n",
              "      <td>468</td>\n",
              "      <td>10</td>\n",
              "      <td>65</td>\n",
              "      <td>0</td>\n",
              "      <td>33</td>\n",
              "      <td>6</td>\n",
              "      <td>0</td>\n",
              "      <td>1</td>\n",
              "    </tr>\n",
              "    <tr>\n",
              "      <th>0</th>\n",
              "      <td>0</td>\n",
              "      <td>1100</td>\n",
              "      <td>0</td>\n",
              "      <td>829</td>\n",
              "      <td>9</td>\n",
              "      <td>125</td>\n",
              "      <td>0</td>\n",
              "      <td>56</td>\n",
              "      <td>48</td>\n",
              "      <td>0</td>\n",
              "      <td>1</td>\n",
              "    </tr>\n",
              "    <tr>\n",
              "      <th>0</th>\n",
              "      <td>0</td>\n",
              "      <td>3000</td>\n",
              "      <td>0</td>\n",
              "      <td>552</td>\n",
              "      <td>12</td>\n",
              "      <td>76</td>\n",
              "      <td>1</td>\n",
              "      <td>31</td>\n",
              "      <td>60</td>\n",
              "      <td>0</td>\n",
              "      <td>1</td>\n",
              "    </tr>\n",
              "    <tr>\n",
              "      <th>1</th>\n",
              "      <td>0</td>\n",
              "      <td>1000</td>\n",
              "      <td>0</td>\n",
              "      <td>809</td>\n",
              "      <td>12</td>\n",
              "      <td>111</td>\n",
              "      <td>0</td>\n",
              "      <td>24</td>\n",
              "      <td>7</td>\n",
              "      <td>0</td>\n",
              "      <td>1</td>\n",
              "    </tr>\n",
              "  </tbody>\n",
              "</table>\n",
              "</div>"
            ],
            "text/plain": [
              "   ESCT  NDEP  RENDA  TIPOR  VBEM  NPARC  TEL  IDADE  RESMS  ENTRADA  CLASSE\n",
              "1     0   360      0    313     9     52    0     25     48        0       1\n",
              "0     0   350      1    468    10     65    0     33      6        0       1\n",
              "0     0  1100      0    829     9    125    0     56     48        0       1\n",
              "0     0  3000      0    552    12     76    1     31     60        0       1\n",
              "1     0  1000      0    809    12    111    0     24      7        0       1"
            ]
          },
          "metadata": {
            "tags": []
          },
          "execution_count": 3
        }
      ]
    },
    {
      "cell_type": "markdown",
      "metadata": {
        "id": "kVeBsuQMs1pK"
      },
      "source": [
        "Divisão aleatória da matriz de dados e so vetor de rótulo correspondente em um X_train, X_test, X_val, y_train, y_test, y_val com o Sklearn."
      ]
    },
    {
      "cell_type": "code",
      "metadata": {
        "id": "umhquOIoSJI3"
      },
      "source": [
        "X_train, X_val, y_train, y_val = train_test_split(X, y, \n",
        "                                                    test_size=0.2)"
      ],
      "execution_count": null,
      "outputs": []
    },
    {
      "cell_type": "markdown",
      "metadata": {
        "id": "cr0YK4XISfSj"
      },
      "source": [
        "A padronização de um conjunto de dados é um requisito comum para muitos estimadores de aprendizado de máquina: eles podem se comportar inadequadamente caso seus recursos individuais não se assemelhem aos dados distribuídos (por exemplo, Gaussiano com média 0 e variação unitária).\n",
        "\n",
        "Isso ocorre pois muitos elementos usados ​​na função de um algoritmo de aprendizagem (como o kernel RBF de Support Vector Machines, L1 e L2 de modelos lineares) assumem que todos os recursos estão centralizados em torno de 0 e têm variância na mesma ordem. Caso uma característica tenha uma variância maior do que as outras, ela pode dominar a função, tornando estimador incapaz de aprender com outras características.\n",
        "\n",
        "\n",
        "Assim, utiliza-se a função StandardScaler()da Scikit Learn  fim de padronizar os recursos e remover a média, escalonando-as para a variação da unidade. Desta forma, a pontuação padrão de uma amostra x é calculada como:\n",
        "\n",
        "    z = (x - u) / s\n",
        "\n",
        "onde u é a média das amostras de treinamento ou zero se with_mean = False, es é o desvio padrão das amostras de treinamento ou um se with_std = False.\n",
        "\n",
        "A centralização e o dimensionamento acontecem independentemente em cada recurso, computando as estatísticas relevantes nas amostras do conjunto de treinamento. A média e o desvio padrão são, então, armazenados para serem usados ​​em dados posteriores na transformação.\n",
        "\n",
        "\n",
        "Este scaler também pode ser aplicado a matrizes CSR ou CSC esparsas passando with_mean = False para evitar quebrar a estrutura de esparsidade dos dados."
      ]
    },
    {
      "cell_type": "code",
      "metadata": {
        "id": "Wbdjvge2SQ-M"
      },
      "source": [
        "scaler = StandardScaler()\n",
        "scaler.fit(X_train)\n",
        "\n",
        "X_train_scaled = scaler.transform(X_train)\n",
        "X_val_scaled = scaler.transform(X_val)\n",
        "X_test_scaled = scaler.transform(X_test)"
      ],
      "execution_count": null,
      "outputs": []
    },
    {
      "cell_type": "markdown",
      "metadata": {
        "id": "i7rLFkXUTAej"
      },
      "source": [
        "##1.1 Boosting"
      ]
    },
    {
      "cell_type": "markdown",
      "metadata": {
        "id": "Lzeujnv9s-z8"
      },
      "source": [
        "Boosting é um método que mescla diferentes tipos de previsões que diminui os viés, mas não a variância. Nele, um conjunto sequencial ajusta iterativamente o peso da observação de acordo com a última classificação. Caso uma observação seja classificada incorretamente, seu peso aumentará. O termo ‘Boosting’ em uma linguagem leiga, refere-se a algoritmos que convertem um modelo de treino fraco em outro mais forte. Assim, ele diminui o erro de polarização e constrói modelos preditivos mais confiáveis.\n",
        "\n",
        "Os pontos de dados previstos incorretamente em cada iteração são identificados e seus pesos aumentados. O algoritmo de Boosting aloca pesos para cada modelo resultante durante o treinamento. Um aprendizado com bons resultados de previsão de dados de treinamento receberá um peso maior. Ao avaliar um novo modelo de treino, o Boosting acompanhará seus erros."
      ]
    },
    {
      "cell_type": "markdown",
      "metadata": {
        "id": "rz-udqjUtB1J"
      },
      "source": [
        "Importanto a AdaBoostClassifier do Scikit Learn.\n"
      ]
    },
    {
      "cell_type": "markdown",
      "metadata": {
        "id": "ajZjbr1mtGhr"
      },
      "source": [
        "Trata-se de um metaestimador que ajusta um classificador no conjunto de dados original e, em seguida, adequa as cópias adicionais do classificador no mesmo conjunto de dados. É também responsável por implementar o algoritmo conhecido como AdaBoost-SAMME. Assim, os pesos das instâncias classificadas incorretamente são ajustados de modo que os classificadores subsequentes se concentrem nos casos difíceis."
      ]
    },
    {
      "cell_type": "code",
      "metadata": {
        "id": "rg27wGS8TGNz"
      },
      "source": [
        "from sklearn.ensemble import AdaBoostClassifier\n",
        "\n"
      ],
      "execution_count": null,
      "outputs": []
    },
    {
      "cell_type": "markdown",
      "metadata": {
        "id": "QgpffmhptJch"
      },
      "source": [
        "Construção de um classificador otimizado a partir do conjunto de treinamento (X, y) e predição de X."
      ]
    },
    {
      "cell_type": "code",
      "metadata": {
        "colab": {
          "base_uri": "https://localhost:8080/"
        },
        "id": "tW7h93C_TYgb",
        "outputId": "0d864f40-1528-4a5a-d057-e11839ecbc01"
      },
      "source": [
        "clf = AdaBoostClassifier(n_estimators=100, random_state=0)\n",
        "clf.fit(X_train_scaled, y_train)\n",
        "#y_pred = clf.predict(X_val_scaled)\n",
        "y_pred = clf.predict(X_test_scaled)\n",
        "clf.score(X_test_scaled, y_test)"
      ],
      "execution_count": null,
      "outputs": [
        {
          "output_type": "stream",
          "text": [
            "/usr/local/lib/python3.7/dist-packages/sklearn/utils/validation.py:760: DataConversionWarning: A column-vector y was passed when a 1d array was expected. Please change the shape of y to (n_samples, ), for example using ravel().\n",
            "  y = column_or_1d(y, warn=True)\n"
          ],
          "name": "stderr"
        },
        {
          "output_type": "execute_result",
          "data": {
            "text/plain": [
              "0.902"
            ]
          },
          "metadata": {
            "tags": []
          },
          "execution_count": 7
        }
      ]
    },
    {
      "cell_type": "markdown",
      "metadata": {
        "id": "816NBAAZtLbx"
      },
      "source": [
        "Configurando a dimensão do array de treinos."
      ]
    },
    {
      "cell_type": "code",
      "metadata": {
        "id": "TwYut9G4T7Jq"
      },
      "source": [
        "train_sizes = np.arange(0.1,1,0.1)"
      ],
      "execution_count": null,
      "outputs": []
    },
    {
      "cell_type": "markdown",
      "metadata": {
        "id": "7AyL9y2OtOLJ"
      },
      "source": [
        "Aplica-se a função learning_curve do Sckit Learn.\n",
        "\n",
        "Com ela, é possível determinar um treinamento por meio da validação cruzada, bem como as pontuações de teste para diferentes tamanhos de conjuntos de treinamento.\n",
        "\n",
        "Um gerador de validação cruzada divide todo o conjunto de dados k vezes nos dados de treinamento e teste. Subconjuntos do conjunto de treinamento com tamanhos variados serão usados ​​para treinar o estimador e uma pontuação para cada tamanho de subconjunto de treinamento e o conjunto de teste será calculado. Posteriormente, será calculada a média das pontuações de todas as k corridas para cada tamanho de subconjunto de treinamento."
      ]
    },
    {
      "cell_type": "code",
      "metadata": {
        "colab": {
          "base_uri": "https://localhost:8080/"
        },
        "id": "i8KISmUlUA8C",
        "outputId": "4d35cc00-dea6-49f0-b327-f9d0d012dde7"
      },
      "source": [
        "train_sizes, train_scores, validation_scores = learning_curve(estimator = clf,\n",
        "                                                                X = X_train_scaled,y = y_train, train_sizes = train_sizes, cv = 5,\n",
        "                                                                scoring = 'accuracy')"
      ],
      "execution_count": null,
      "outputs": [
        {
          "output_type": "stream",
          "text": [
            "/usr/local/lib/python3.7/dist-packages/sklearn/utils/validation.py:760: DataConversionWarning: A column-vector y was passed when a 1d array was expected. Please change the shape of y to (n_samples, ), for example using ravel().\n",
            "  y = column_or_1d(y, warn=True)\n",
            "/usr/local/lib/python3.7/dist-packages/sklearn/utils/validation.py:760: DataConversionWarning: A column-vector y was passed when a 1d array was expected. Please change the shape of y to (n_samples, ), for example using ravel().\n",
            "  y = column_or_1d(y, warn=True)\n",
            "/usr/local/lib/python3.7/dist-packages/sklearn/utils/validation.py:760: DataConversionWarning: A column-vector y was passed when a 1d array was expected. Please change the shape of y to (n_samples, ), for example using ravel().\n",
            "  y = column_or_1d(y, warn=True)\n",
            "/usr/local/lib/python3.7/dist-packages/sklearn/utils/validation.py:760: DataConversionWarning: A column-vector y was passed when a 1d array was expected. Please change the shape of y to (n_samples, ), for example using ravel().\n",
            "  y = column_or_1d(y, warn=True)\n",
            "/usr/local/lib/python3.7/dist-packages/sklearn/utils/validation.py:760: DataConversionWarning: A column-vector y was passed when a 1d array was expected. Please change the shape of y to (n_samples, ), for example using ravel().\n",
            "  y = column_or_1d(y, warn=True)\n",
            "/usr/local/lib/python3.7/dist-packages/sklearn/utils/validation.py:760: DataConversionWarning: A column-vector y was passed when a 1d array was expected. Please change the shape of y to (n_samples, ), for example using ravel().\n",
            "  y = column_or_1d(y, warn=True)\n",
            "/usr/local/lib/python3.7/dist-packages/sklearn/utils/validation.py:760: DataConversionWarning: A column-vector y was passed when a 1d array was expected. Please change the shape of y to (n_samples, ), for example using ravel().\n",
            "  y = column_or_1d(y, warn=True)\n",
            "/usr/local/lib/python3.7/dist-packages/sklearn/utils/validation.py:760: DataConversionWarning: A column-vector y was passed when a 1d array was expected. Please change the shape of y to (n_samples, ), for example using ravel().\n",
            "  y = column_or_1d(y, warn=True)\n",
            "/usr/local/lib/python3.7/dist-packages/sklearn/utils/validation.py:760: DataConversionWarning: A column-vector y was passed when a 1d array was expected. Please change the shape of y to (n_samples, ), for example using ravel().\n",
            "  y = column_or_1d(y, warn=True)\n",
            "/usr/local/lib/python3.7/dist-packages/sklearn/utils/validation.py:760: DataConversionWarning: A column-vector y was passed when a 1d array was expected. Please change the shape of y to (n_samples, ), for example using ravel().\n",
            "  y = column_or_1d(y, warn=True)\n",
            "/usr/local/lib/python3.7/dist-packages/sklearn/utils/validation.py:760: DataConversionWarning: A column-vector y was passed when a 1d array was expected. Please change the shape of y to (n_samples, ), for example using ravel().\n",
            "  y = column_or_1d(y, warn=True)\n",
            "/usr/local/lib/python3.7/dist-packages/sklearn/utils/validation.py:760: DataConversionWarning: A column-vector y was passed when a 1d array was expected. Please change the shape of y to (n_samples, ), for example using ravel().\n",
            "  y = column_or_1d(y, warn=True)\n",
            "/usr/local/lib/python3.7/dist-packages/sklearn/utils/validation.py:760: DataConversionWarning: A column-vector y was passed when a 1d array was expected. Please change the shape of y to (n_samples, ), for example using ravel().\n",
            "  y = column_or_1d(y, warn=True)\n",
            "/usr/local/lib/python3.7/dist-packages/sklearn/utils/validation.py:760: DataConversionWarning: A column-vector y was passed when a 1d array was expected. Please change the shape of y to (n_samples, ), for example using ravel().\n",
            "  y = column_or_1d(y, warn=True)\n",
            "/usr/local/lib/python3.7/dist-packages/sklearn/utils/validation.py:760: DataConversionWarning: A column-vector y was passed when a 1d array was expected. Please change the shape of y to (n_samples, ), for example using ravel().\n",
            "  y = column_or_1d(y, warn=True)\n",
            "/usr/local/lib/python3.7/dist-packages/sklearn/utils/validation.py:760: DataConversionWarning: A column-vector y was passed when a 1d array was expected. Please change the shape of y to (n_samples, ), for example using ravel().\n",
            "  y = column_or_1d(y, warn=True)\n",
            "/usr/local/lib/python3.7/dist-packages/sklearn/utils/validation.py:760: DataConversionWarning: A column-vector y was passed when a 1d array was expected. Please change the shape of y to (n_samples, ), for example using ravel().\n",
            "  y = column_or_1d(y, warn=True)\n",
            "/usr/local/lib/python3.7/dist-packages/sklearn/utils/validation.py:760: DataConversionWarning: A column-vector y was passed when a 1d array was expected. Please change the shape of y to (n_samples, ), for example using ravel().\n",
            "  y = column_or_1d(y, warn=True)\n",
            "/usr/local/lib/python3.7/dist-packages/sklearn/utils/validation.py:760: DataConversionWarning: A column-vector y was passed when a 1d array was expected. Please change the shape of y to (n_samples, ), for example using ravel().\n",
            "  y = column_or_1d(y, warn=True)\n",
            "/usr/local/lib/python3.7/dist-packages/sklearn/utils/validation.py:760: DataConversionWarning: A column-vector y was passed when a 1d array was expected. Please change the shape of y to (n_samples, ), for example using ravel().\n",
            "  y = column_or_1d(y, warn=True)\n",
            "/usr/local/lib/python3.7/dist-packages/sklearn/utils/validation.py:760: DataConversionWarning: A column-vector y was passed when a 1d array was expected. Please change the shape of y to (n_samples, ), for example using ravel().\n",
            "  y = column_or_1d(y, warn=True)\n",
            "/usr/local/lib/python3.7/dist-packages/sklearn/utils/validation.py:760: DataConversionWarning: A column-vector y was passed when a 1d array was expected. Please change the shape of y to (n_samples, ), for example using ravel().\n",
            "  y = column_or_1d(y, warn=True)\n",
            "/usr/local/lib/python3.7/dist-packages/sklearn/utils/validation.py:760: DataConversionWarning: A column-vector y was passed when a 1d array was expected. Please change the shape of y to (n_samples, ), for example using ravel().\n",
            "  y = column_or_1d(y, warn=True)\n",
            "/usr/local/lib/python3.7/dist-packages/sklearn/utils/validation.py:760: DataConversionWarning: A column-vector y was passed when a 1d array was expected. Please change the shape of y to (n_samples, ), for example using ravel().\n",
            "  y = column_or_1d(y, warn=True)\n",
            "/usr/local/lib/python3.7/dist-packages/sklearn/utils/validation.py:760: DataConversionWarning: A column-vector y was passed when a 1d array was expected. Please change the shape of y to (n_samples, ), for example using ravel().\n",
            "  y = column_or_1d(y, warn=True)\n",
            "/usr/local/lib/python3.7/dist-packages/sklearn/utils/validation.py:760: DataConversionWarning: A column-vector y was passed when a 1d array was expected. Please change the shape of y to (n_samples, ), for example using ravel().\n",
            "  y = column_or_1d(y, warn=True)\n",
            "/usr/local/lib/python3.7/dist-packages/sklearn/utils/validation.py:760: DataConversionWarning: A column-vector y was passed when a 1d array was expected. Please change the shape of y to (n_samples, ), for example using ravel().\n",
            "  y = column_or_1d(y, warn=True)\n",
            "/usr/local/lib/python3.7/dist-packages/sklearn/utils/validation.py:760: DataConversionWarning: A column-vector y was passed when a 1d array was expected. Please change the shape of y to (n_samples, ), for example using ravel().\n",
            "  y = column_or_1d(y, warn=True)\n",
            "/usr/local/lib/python3.7/dist-packages/sklearn/utils/validation.py:760: DataConversionWarning: A column-vector y was passed when a 1d array was expected. Please change the shape of y to (n_samples, ), for example using ravel().\n",
            "  y = column_or_1d(y, warn=True)\n",
            "/usr/local/lib/python3.7/dist-packages/sklearn/utils/validation.py:760: DataConversionWarning: A column-vector y was passed when a 1d array was expected. Please change the shape of y to (n_samples, ), for example using ravel().\n",
            "  y = column_or_1d(y, warn=True)\n",
            "/usr/local/lib/python3.7/dist-packages/sklearn/utils/validation.py:760: DataConversionWarning: A column-vector y was passed when a 1d array was expected. Please change the shape of y to (n_samples, ), for example using ravel().\n",
            "  y = column_or_1d(y, warn=True)\n",
            "/usr/local/lib/python3.7/dist-packages/sklearn/utils/validation.py:760: DataConversionWarning: A column-vector y was passed when a 1d array was expected. Please change the shape of y to (n_samples, ), for example using ravel().\n",
            "  y = column_or_1d(y, warn=True)\n",
            "/usr/local/lib/python3.7/dist-packages/sklearn/utils/validation.py:760: DataConversionWarning: A column-vector y was passed when a 1d array was expected. Please change the shape of y to (n_samples, ), for example using ravel().\n",
            "  y = column_or_1d(y, warn=True)\n",
            "/usr/local/lib/python3.7/dist-packages/sklearn/utils/validation.py:760: DataConversionWarning: A column-vector y was passed when a 1d array was expected. Please change the shape of y to (n_samples, ), for example using ravel().\n",
            "  y = column_or_1d(y, warn=True)\n",
            "/usr/local/lib/python3.7/dist-packages/sklearn/utils/validation.py:760: DataConversionWarning: A column-vector y was passed when a 1d array was expected. Please change the shape of y to (n_samples, ), for example using ravel().\n",
            "  y = column_or_1d(y, warn=True)\n",
            "/usr/local/lib/python3.7/dist-packages/sklearn/utils/validation.py:760: DataConversionWarning: A column-vector y was passed when a 1d array was expected. Please change the shape of y to (n_samples, ), for example using ravel().\n",
            "  y = column_or_1d(y, warn=True)\n",
            "/usr/local/lib/python3.7/dist-packages/sklearn/utils/validation.py:760: DataConversionWarning: A column-vector y was passed when a 1d array was expected. Please change the shape of y to (n_samples, ), for example using ravel().\n",
            "  y = column_or_1d(y, warn=True)\n",
            "/usr/local/lib/python3.7/dist-packages/sklearn/utils/validation.py:760: DataConversionWarning: A column-vector y was passed when a 1d array was expected. Please change the shape of y to (n_samples, ), for example using ravel().\n",
            "  y = column_or_1d(y, warn=True)\n",
            "/usr/local/lib/python3.7/dist-packages/sklearn/utils/validation.py:760: DataConversionWarning: A column-vector y was passed when a 1d array was expected. Please change the shape of y to (n_samples, ), for example using ravel().\n",
            "  y = column_or_1d(y, warn=True)\n",
            "/usr/local/lib/python3.7/dist-packages/sklearn/utils/validation.py:760: DataConversionWarning: A column-vector y was passed when a 1d array was expected. Please change the shape of y to (n_samples, ), for example using ravel().\n",
            "  y = column_or_1d(y, warn=True)\n",
            "/usr/local/lib/python3.7/dist-packages/sklearn/utils/validation.py:760: DataConversionWarning: A column-vector y was passed when a 1d array was expected. Please change the shape of y to (n_samples, ), for example using ravel().\n",
            "  y = column_or_1d(y, warn=True)\n",
            "/usr/local/lib/python3.7/dist-packages/sklearn/utils/validation.py:760: DataConversionWarning: A column-vector y was passed when a 1d array was expected. Please change the shape of y to (n_samples, ), for example using ravel().\n",
            "  y = column_or_1d(y, warn=True)\n",
            "/usr/local/lib/python3.7/dist-packages/sklearn/utils/validation.py:760: DataConversionWarning: A column-vector y was passed when a 1d array was expected. Please change the shape of y to (n_samples, ), for example using ravel().\n",
            "  y = column_or_1d(y, warn=True)\n",
            "/usr/local/lib/python3.7/dist-packages/sklearn/utils/validation.py:760: DataConversionWarning: A column-vector y was passed when a 1d array was expected. Please change the shape of y to (n_samples, ), for example using ravel().\n",
            "  y = column_or_1d(y, warn=True)\n",
            "/usr/local/lib/python3.7/dist-packages/sklearn/utils/validation.py:760: DataConversionWarning: A column-vector y was passed when a 1d array was expected. Please change the shape of y to (n_samples, ), for example using ravel().\n",
            "  y = column_or_1d(y, warn=True)\n"
          ],
          "name": "stderr"
        }
      ]
    },
    {
      "cell_type": "markdown",
      "metadata": {
        "id": "NDyOp2mGtStE"
      },
      "source": [
        "Aplicação da função para plot da curva de validação."
      ]
    },
    {
      "cell_type": "code",
      "metadata": {
        "colab": {
          "base_uri": "https://localhost:8080/",
          "height": 917
        },
        "id": "RiY7V4pDUF-i",
        "outputId": "cf8472eb-ad42-4e28-a5e2-e8b44645dfec"
      },
      "source": [
        "train_scores_mean = train_scores.mean(axis = 1)\n",
        "validation_scores_mean = validation_scores.mean(axis = 1)\n",
        "print('Mean training scores\\n\\n', pd.Series(train_scores_mean, index = train_sizes))\n",
        "print('\\n', '-' * 20) # separator\n",
        "print('\\nMean validation scores\\n\\n',pd.Series(validation_scores_mean, index = train_sizes))\n",
        "\n",
        "\n",
        "plt.style.use('seaborn')\n",
        "plt.plot(train_sizes, train_scores_mean, label = 'Training error')\n",
        "#plt.plot(num, train_scores_mean, label = 'Training error')\n",
        "plt.plot(train_sizes, validation_scores_mean, label = 'Validation error')\n",
        "plt.ylabel('Accurary', fontsize = 14)\n",
        "plt.xlabel('Training set size', fontsize = 14)\n",
        "plt.title('Gráfico de Acurácia  ', fontsize = 18, y = 1.03)\n",
        "plt.legend()\n",
        "plt.ylim(0.78,1.03)"
      ],
      "execution_count": null,
      "outputs": [
        {
          "output_type": "stream",
          "text": [
            "Mean training scores\n",
            "\n",
            " 96     1.000000\n",
            "192    0.995833\n",
            "288    0.965972\n",
            "384    0.945312\n",
            "480    0.936667\n",
            "576    0.925694\n",
            "672    0.922321\n",
            "768    0.918750\n",
            "864    0.917824\n",
            "dtype: float64\n",
            "\n",
            " --------------------\n",
            "\n",
            "Mean validation scores\n",
            "\n",
            " 96     0.765000\n",
            "192    0.849167\n",
            "288    0.863333\n",
            "384    0.865833\n",
            "480    0.870833\n",
            "576    0.867500\n",
            "672    0.868333\n",
            "768    0.875000\n",
            "864    0.877500\n",
            "dtype: float64\n"
          ],
          "name": "stdout"
        },
        {
          "output_type": "execute_result",
          "data": {
            "text/plain": [
              "(0.78, 1.03)"
            ]
          },
          "metadata": {
            "tags": []
          },
          "execution_count": 10
        },
        {
          "output_type": "display_data",
          "data": {
            "image/png": "[encoded data removed]",
            "text/plain": [
              "<Figure size 576x396 with 1 Axes>"
            ]
          },
          "metadata": {
            "tags": []
          }
        }
      ]
    },
    {
      "cell_type": "markdown",
      "metadata": {
        "id": "lbO_eKzstXtS"
      },
      "source": [
        "Chama-se a função classification_report.\n"
      ]
    },
    {
      "cell_type": "code",
      "metadata": {
        "colab": {
          "base_uri": "https://localhost:8080/"
        },
        "id": "_UteiUirUUXT",
        "outputId": "b843673c-6e86-46a9-f517-a5fad3423aa4"
      },
      "source": [
        "print(classification_report(y_test, y_pred))"
      ],
      "execution_count": null,
      "outputs": [
        {
          "output_type": "stream",
          "text": [
            "              precision    recall  f1-score   support\n",
            "\n",
            "           0       0.88      0.95      0.91       785\n",
            "           1       0.94      0.85      0.89       715\n",
            "\n",
            "    accuracy                           0.90      1500\n",
            "   macro avg       0.91      0.90      0.90      1500\n",
            "weighted avg       0.90      0.90      0.90      1500\n",
            "\n"
          ],
          "name": "stdout"
        }
      ]
    },
    {
      "cell_type": "markdown",
      "metadata": {
        "id": "QqgAxg4Ttazk"
      },
      "source": [
        "Acima, saída com o relatório em texto apresentando as principais métricas de classificação."
      ]
    },
    {
      "cell_type": "markdown",
      "metadata": {
        "id": "S5ZVhx5Stdgs"
      },
      "source": [
        "##GradientBoostingClassifier "
      ]
    },
    {
      "cell_type": "markdown",
      "metadata": {
        "id": "krU1CDnvthyp"
      },
      "source": [
        "A GradientBoostingClassifier\n",
        " constrói um modelo aditivo avançado, permitindo a otimização de funções de perda diferenciáveis ​​arbitrárias. Em cada estágio, n_classes_ árvores de regressão são ajustadas no gradiente negativo da função de perda de desvio binomial ou multinomial. A classificação binária é um caso especial em que apenas uma única árvore de regressão é induzida."
      ]
    },
    {
      "cell_type": "code",
      "metadata": {
        "id": "81jGkIlEUgij"
      },
      "source": [
        "from sklearn.ensemble import GradientBoostingClassifier\n"
      ],
      "execution_count": null,
      "outputs": []
    },
    {
      "cell_type": "markdown",
      "metadata": {
        "id": "pzqBykBjtmZB"
      },
      "source": [
        "Primeiramente, ajusta-se o modelo de aumento de gradiente. Em seguida, prediz-se a classe de X."
      ]
    },
    {
      "cell_type": "code",
      "metadata": {
        "colab": {
          "base_uri": "https://localhost:8080/"
        },
        "id": "0erbsCa9Uhv1",
        "outputId": "4fad704c-24de-404c-be94-cf0a1767ca87"
      },
      "source": [
        "clf = GradientBoostingClassifier(random_state=0)\n",
        "clf.fit(X_train_scaled, y_train)\n",
        "#y_pred = clf.predict(X_val_scaled)\n",
        "y_pred = clf.predict(X_test_scaled)\n",
        "clf.score(X_test_scaled, y_test)"
      ],
      "execution_count": null,
      "outputs": [
        {
          "output_type": "stream",
          "text": [
            "/usr/local/lib/python3.7/dist-packages/sklearn/ensemble/_gb.py:1454: DataConversionWarning: A column-vector y was passed when a 1d array was expected. Please change the shape of y to (n_samples, ), for example using ravel().\n",
            "  y = column_or_1d(y, warn=True)\n"
          ],
          "name": "stderr"
        },
        {
          "output_type": "execute_result",
          "data": {
            "text/plain": [
              "0.9313333333333333"
            ]
          },
          "metadata": {
            "tags": []
          },
          "execution_count": 13
        }
      ]
    },
    {
      "cell_type": "markdown",
      "metadata": {
        "id": "PDXUzrmltpSK"
      },
      "source": [
        "Aplica-se a função learning_curve do Sckit Learn."
      ]
    },
    {
      "cell_type": "code",
      "metadata": {
        "colab": {
          "base_uri": "https://localhost:8080/"
        },
        "id": "MO8UDN7jUliy",
        "outputId": "f8aa0521-3120-4e11-a211-1399eeeafa31"
      },
      "source": [
        "train_sizes, train_scores, validation_scores = learning_curve(estimator = clf,\n",
        "                                                                X = X_train_scaled,y = y_train, train_sizes = train_sizes, cv = 5,\n",
        "                                                                scoring = 'accuracy')"
      ],
      "execution_count": null,
      "outputs": [
        {
          "output_type": "stream",
          "text": [
            "/usr/local/lib/python3.7/dist-packages/sklearn/ensemble/_gb.py:1454: DataConversionWarning: A column-vector y was passed when a 1d array was expected. Please change the shape of y to (n_samples, ), for example using ravel().\n",
            "  y = column_or_1d(y, warn=True)\n",
            "/usr/local/lib/python3.7/dist-packages/sklearn/ensemble/_gb.py:1454: DataConversionWarning: A column-vector y was passed when a 1d array was expected. Please change the shape of y to (n_samples, ), for example using ravel().\n",
            "  y = column_or_1d(y, warn=True)\n",
            "/usr/local/lib/python3.7/dist-packages/sklearn/ensemble/_gb.py:1454: DataConversionWarning: A column-vector y was passed when a 1d array was expected. Please change the shape of y to (n_samples, ), for example using ravel().\n",
            "  y = column_or_1d(y, warn=True)\n",
            "/usr/local/lib/python3.7/dist-packages/sklearn/ensemble/_gb.py:1454: DataConversionWarning: A column-vector y was passed when a 1d array was expected. Please change the shape of y to (n_samples, ), for example using ravel().\n",
            "  y = column_or_1d(y, warn=True)\n",
            "/usr/local/lib/python3.7/dist-packages/sklearn/ensemble/_gb.py:1454: DataConversionWarning: A column-vector y was passed when a 1d array was expected. Please change the shape of y to (n_samples, ), for example using ravel().\n",
            "  y = column_or_1d(y, warn=True)\n",
            "/usr/local/lib/python3.7/dist-packages/sklearn/ensemble/_gb.py:1454: DataConversionWarning: A column-vector y was passed when a 1d array was expected. Please change the shape of y to (n_samples, ), for example using ravel().\n",
            "  y = column_or_1d(y, warn=True)\n",
            "/usr/local/lib/python3.7/dist-packages/sklearn/ensemble/_gb.py:1454: DataConversionWarning: A column-vector y was passed when a 1d array was expected. Please change the shape of y to (n_samples, ), for example using ravel().\n",
            "  y = column_or_1d(y, warn=True)\n",
            "/usr/local/lib/python3.7/dist-packages/sklearn/ensemble/_gb.py:1454: DataConversionWarning: A column-vector y was passed when a 1d array was expected. Please change the shape of y to (n_samples, ), for example using ravel().\n",
            "  y = column_or_1d(y, warn=True)\n",
            "/usr/local/lib/python3.7/dist-packages/sklearn/ensemble/_gb.py:1454: DataConversionWarning: A column-vector y was passed when a 1d array was expected. Please change the shape of y to (n_samples, ), for example using ravel().\n",
            "  y = column_or_1d(y, warn=True)\n",
            "/usr/local/lib/python3.7/dist-packages/sklearn/ensemble/_gb.py:1454: DataConversionWarning: A column-vector y was passed when a 1d array was expected. Please change the shape of y to (n_samples, ), for example using ravel().\n",
            "  y = column_or_1d(y, warn=True)\n",
            "/usr/local/lib/python3.7/dist-packages/sklearn/ensemble/_gb.py:1454: DataConversionWarning: A column-vector y was passed when a 1d array was expected. Please change the shape of y to (n_samples, ), for example using ravel().\n",
            "  y = column_or_1d(y, warn=True)\n",
            "/usr/local/lib/python3.7/dist-packages/sklearn/ensemble/_gb.py:1454: DataConversionWarning: A column-vector y was passed when a 1d array was expected. Please change the shape of y to (n_samples, ), for example using ravel().\n",
            "  y = column_or_1d(y, warn=True)\n",
            "/usr/local/lib/python3.7/dist-packages/sklearn/ensemble/_gb.py:1454: DataConversionWarning: A column-vector y was passed when a 1d array was expected. Please change the shape of y to (n_samples, ), for example using ravel().\n",
            "  y = column_or_1d(y, warn=True)\n",
            "/usr/local/lib/python3.7/dist-packages/sklearn/ensemble/_gb.py:1454: DataConversionWarning: A column-vector y was passed when a 1d array was expected. Please change the shape of y to (n_samples, ), for example using ravel().\n",
            "  y = column_or_1d(y, warn=True)\n",
            "/usr/local/lib/python3.7/dist-packages/sklearn/ensemble/_gb.py:1454: DataConversionWarning: A column-vector y was passed when a 1d array was expected. Please change the shape of y to (n_samples, ), for example using ravel().\n",
            "  y = column_or_1d(y, warn=True)\n",
            "/usr/local/lib/python3.7/dist-packages/sklearn/ensemble/_gb.py:1454: DataConversionWarning: A column-vector y was passed when a 1d array was expected. Please change the shape of y to (n_samples, ), for example using ravel().\n",
            "  y = column_or_1d(y, warn=True)\n",
            "/usr/local/lib/python3.7/dist-packages/sklearn/ensemble/_gb.py:1454: DataConversionWarning: A column-vector y was passed when a 1d array was expected. Please change the shape of y to (n_samples, ), for example using ravel().\n",
            "  y = column_or_1d(y, warn=True)\n",
            "/usr/local/lib/python3.7/dist-packages/sklearn/ensemble/_gb.py:1454: DataConversionWarning: A column-vector y was passed when a 1d array was expected. Please change the shape of y to (n_samples, ), for example using ravel().\n",
            "  y = column_or_1d(y, warn=True)\n",
            "/usr/local/lib/python3.7/dist-packages/sklearn/ensemble/_gb.py:1454: DataConversionWarning: A column-vector y was passed when a 1d array was expected. Please change the shape of y to (n_samples, ), for example using ravel().\n",
            "  y = column_or_1d(y, warn=True)\n",
            "/usr/local/lib/python3.7/dist-packages/sklearn/ensemble/_gb.py:1454: DataConversionWarning: A column-vector y was passed when a 1d array was expected. Please change the shape of y to (n_samples, ), for example using ravel().\n",
            "  y = column_or_1d(y, warn=True)\n",
            "/usr/local/lib/python3.7/dist-packages/sklearn/ensemble/_gb.py:1454: DataConversionWarning: A column-vector y was passed when a 1d array was expected. Please change the shape of y to (n_samples, ), for example using ravel().\n",
            "  y = column_or_1d(y, warn=True)\n",
            "/usr/local/lib/python3.7/dist-packages/sklearn/ensemble/_gb.py:1454: DataConversionWarning: A column-vector y was passed when a 1d array was expected. Please change the shape of y to (n_samples, ), for example using ravel().\n",
            "  y = column_or_1d(y, warn=True)\n",
            "/usr/local/lib/python3.7/dist-packages/sklearn/ensemble/_gb.py:1454: DataConversionWarning: A column-vector y was passed when a 1d array was expected. Please change the shape of y to (n_samples, ), for example using ravel().\n",
            "  y = column_or_1d(y, warn=True)\n",
            "/usr/local/lib/python3.7/dist-packages/sklearn/ensemble/_gb.py:1454: DataConversionWarning: A column-vector y was passed when a 1d array was expected. Please change the shape of y to (n_samples, ), for example using ravel().\n",
            "  y = column_or_1d(y, warn=True)\n",
            "/usr/local/lib/python3.7/dist-packages/sklearn/ensemble/_gb.py:1454: DataConversionWarning: A column-vector y was passed when a 1d array was expected. Please change the shape of y to (n_samples, ), for example using ravel().\n",
            "  y = column_or_1d(y, warn=True)\n",
            "/usr/local/lib/python3.7/dist-packages/sklearn/ensemble/_gb.py:1454: DataConversionWarning: A column-vector y was passed when a 1d array was expected. Please change the shape of y to (n_samples, ), for example using ravel().\n",
            "  y = column_or_1d(y, warn=True)\n",
            "/usr/local/lib/python3.7/dist-packages/sklearn/ensemble/_gb.py:1454: DataConversionWarning: A column-vector y was passed when a 1d array was expected. Please change the shape of y to (n_samples, ), for example using ravel().\n",
            "  y = column_or_1d(y, warn=True)\n",
            "/usr/local/lib/python3.7/dist-packages/sklearn/ensemble/_gb.py:1454: DataConversionWarning: A column-vector y was passed when a 1d array was expected. Please change the shape of y to (n_samples, ), for example using ravel().\n",
            "  y = column_or_1d(y, warn=True)\n",
            "/usr/local/lib/python3.7/dist-packages/sklearn/ensemble/_gb.py:1454: DataConversionWarning: A column-vector y was passed when a 1d array was expected. Please change the shape of y to (n_samples, ), for example using ravel().\n",
            "  y = column_or_1d(y, warn=True)\n",
            "/usr/local/lib/python3.7/dist-packages/sklearn/ensemble/_gb.py:1454: DataConversionWarning: A column-vector y was passed when a 1d array was expected. Please change the shape of y to (n_samples, ), for example using ravel().\n",
            "  y = column_or_1d(y, warn=True)\n",
            "/usr/local/lib/python3.7/dist-packages/sklearn/ensemble/_gb.py:1454: DataConversionWarning: A column-vector y was passed when a 1d array was expected. Please change the shape of y to (n_samples, ), for example using ravel().\n",
            "  y = column_or_1d(y, warn=True)\n",
            "/usr/local/lib/python3.7/dist-packages/sklearn/ensemble/_gb.py:1454: DataConversionWarning: A column-vector y was passed when a 1d array was expected. Please change the shape of y to (n_samples, ), for example using ravel().\n",
            "  y = column_or_1d(y, warn=True)\n",
            "/usr/local/lib/python3.7/dist-packages/sklearn/ensemble/_gb.py:1454: DataConversionWarning: A column-vector y was passed when a 1d array was expected. Please change the shape of y to (n_samples, ), for example using ravel().\n",
            "  y = column_or_1d(y, warn=True)\n",
            "/usr/local/lib/python3.7/dist-packages/sklearn/ensemble/_gb.py:1454: DataConversionWarning: A column-vector y was passed when a 1d array was expected. Please change the shape of y to (n_samples, ), for example using ravel().\n",
            "  y = column_or_1d(y, warn=True)\n",
            "/usr/local/lib/python3.7/dist-packages/sklearn/ensemble/_gb.py:1454: DataConversionWarning: A column-vector y was passed when a 1d array was expected. Please change the shape of y to (n_samples, ), for example using ravel().\n",
            "  y = column_or_1d(y, warn=True)\n",
            "/usr/local/lib/python3.7/dist-packages/sklearn/ensemble/_gb.py:1454: DataConversionWarning: A column-vector y was passed when a 1d array was expected. Please change the shape of y to (n_samples, ), for example using ravel().\n",
            "  y = column_or_1d(y, warn=True)\n",
            "/usr/local/lib/python3.7/dist-packages/sklearn/ensemble/_gb.py:1454: DataConversionWarning: A column-vector y was passed when a 1d array was expected. Please change the shape of y to (n_samples, ), for example using ravel().\n",
            "  y = column_or_1d(y, warn=True)\n",
            "/usr/local/lib/python3.7/dist-packages/sklearn/ensemble/_gb.py:1454: DataConversionWarning: A column-vector y was passed when a 1d array was expected. Please change the shape of y to (n_samples, ), for example using ravel().\n",
            "  y = column_or_1d(y, warn=True)\n",
            "/usr/local/lib/python3.7/dist-packages/sklearn/ensemble/_gb.py:1454: DataConversionWarning: A column-vector y was passed when a 1d array was expected. Please change the shape of y to (n_samples, ), for example using ravel().\n",
            "  y = column_or_1d(y, warn=True)\n",
            "/usr/local/lib/python3.7/dist-packages/sklearn/ensemble/_gb.py:1454: DataConversionWarning: A column-vector y was passed when a 1d array was expected. Please change the shape of y to (n_samples, ), for example using ravel().\n",
            "  y = column_or_1d(y, warn=True)\n",
            "/usr/local/lib/python3.7/dist-packages/sklearn/ensemble/_gb.py:1454: DataConversionWarning: A column-vector y was passed when a 1d array was expected. Please change the shape of y to (n_samples, ), for example using ravel().\n",
            "  y = column_or_1d(y, warn=True)\n",
            "/usr/local/lib/python3.7/dist-packages/sklearn/ensemble/_gb.py:1454: DataConversionWarning: A column-vector y was passed when a 1d array was expected. Please change the shape of y to (n_samples, ), for example using ravel().\n",
            "  y = column_or_1d(y, warn=True)\n",
            "/usr/local/lib/python3.7/dist-packages/sklearn/ensemble/_gb.py:1454: DataConversionWarning: A column-vector y was passed when a 1d array was expected. Please change the shape of y to (n_samples, ), for example using ravel().\n",
            "  y = column_or_1d(y, warn=True)\n",
            "/usr/local/lib/python3.7/dist-packages/sklearn/ensemble/_gb.py:1454: DataConversionWarning: A column-vector y was passed when a 1d array was expected. Please change the shape of y to (n_samples, ), for example using ravel().\n",
            "  y = column_or_1d(y, warn=True)\n",
            "/usr/local/lib/python3.7/dist-packages/sklearn/ensemble/_gb.py:1454: DataConversionWarning: A column-vector y was passed when a 1d array was expected. Please change the shape of y to (n_samples, ), for example using ravel().\n",
            "  y = column_or_1d(y, warn=True)\n"
          ],
          "name": "stderr"
        }
      ]
    },
    {
      "cell_type": "markdown",
      "metadata": {
        "id": "6Cy42u-btuAR"
      },
      "source": [
        "Aplicação da função para plot da curva de validação."
      ]
    },
    {
      "cell_type": "code",
      "metadata": {
        "colab": {
          "base_uri": "https://localhost:8080/",
          "height": 917
        },
        "id": "m3brbmzZUql7",
        "outputId": "e935798c-8abe-4266-e89a-203ecf59a82c"
      },
      "source": [
        "train_scores_mean = train_scores.mean(axis = 1)\n",
        "validation_scores_mean = validation_scores.mean(axis = 1)\n",
        "print('Mean training scores\\n\\n', pd.Series(train_scores_mean, index = train_sizes))\n",
        "print('\\n', '-' * 20) # separator\n",
        "print('\\nMean validation scores\\n\\n',pd.Series(validation_scores_mean, index = train_sizes))\n",
        "\n",
        "\n",
        "plt.style.use('seaborn')\n",
        "plt.plot(train_sizes, train_scores_mean, label = 'Training error')\n",
        "#plt.plot(num, train_scores_mean, label = 'Training error')\n",
        "plt.plot(train_sizes, validation_scores_mean, label = 'Validation error')\n",
        "plt.ylabel('Accurary', fontsize = 14)\n",
        "plt.xlabel('Training set size', fontsize = 14)\n",
        "plt.title('Gráfico de Acurácia  ', fontsize = 18, y = 1.03)\n",
        "plt.legend()\n",
        "plt.ylim(0.78,1.03)"
      ],
      "execution_count": null,
      "outputs": [
        {
          "output_type": "stream",
          "text": [
            "Mean training scores\n",
            "\n",
            " 96     1.000000\n",
            "192    1.000000\n",
            "288    0.997222\n",
            "384    0.977604\n",
            "480    0.971250\n",
            "576    0.955903\n",
            "672    0.951786\n",
            "768    0.946875\n",
            "864    0.943287\n",
            "dtype: float64\n",
            "\n",
            " --------------------\n",
            "\n",
            "Mean validation scores\n",
            "\n",
            " 96     0.854167\n",
            "192    0.883333\n",
            "288    0.891667\n",
            "384    0.898333\n",
            "480    0.894167\n",
            "576    0.901667\n",
            "672    0.900833\n",
            "768    0.897500\n",
            "864    0.900000\n",
            "dtype: float64\n"
          ],
          "name": "stdout"
        },
        {
          "output_type": "execute_result",
          "data": {
            "text/plain": [
              "(0.78, 1.03)"
            ]
          },
          "metadata": {
            "tags": []
          },
          "execution_count": 15
        },
        {
          "output_type": "display_data",
          "data": {
            "image/png": "[encoded data removed]",
            "text/plain": [
              "<Figure size 576x396 with 1 Axes>"
            ]
          },
          "metadata": {
            "tags": []
          }
        }
      ]
    },
    {
      "cell_type": "markdown",
      "metadata": {
        "id": "K6awm9c7txZS"
      },
      "source": [
        "Chama-se a função classification_report."
      ]
    },
    {
      "cell_type": "code",
      "metadata": {
        "colab": {
          "base_uri": "https://localhost:8080/"
        },
        "id": "1D1ZhPwIU4Bq",
        "outputId": "8325c115-7b20-4d96-ca37-b1d64854a1e6"
      },
      "source": [
        "print(classification_report(y_test, y_pred))"
      ],
      "execution_count": null,
      "outputs": [
        {
          "output_type": "stream",
          "text": [
            "              precision    recall  f1-score   support\n",
            "\n",
            "           0       0.89      0.99      0.94       785\n",
            "           1       0.98      0.87      0.92       715\n",
            "\n",
            "    accuracy                           0.93      1500\n",
            "   macro avg       0.94      0.93      0.93      1500\n",
            "weighted avg       0.94      0.93      0.93      1500\n",
            "\n"
          ],
          "name": "stdout"
        }
      ]
    },
    {
      "cell_type": "markdown",
      "metadata": {
        "id": "bmzot3Gdt0yS"
      },
      "source": [
        "Acima, saída com o relatório em texto apresentando as principais métricas de classificação do GradienBoost."
      ]
    },
    {
      "cell_type": "markdown",
      "metadata": {
        "id": "jddywkZRU-jr"
      },
      "source": [
        "##1.2 Bagging"
      ]
    },
    {
      "cell_type": "markdown",
      "metadata": {
        "id": "BPeaf8XNt4DJ"
      },
      "source": [
        "Trata-de um acrônimo para ‘Bootstrap Aggregation. Nele, um modelo homogêneo de *\"weak leraners\"* aprendem uns com os outros de forma independente em paralelo, combinando resultados a fim de determinar a média do modelo.\n",
        "\n",
        "O Bagging costuma ser usado para diminuir a variância no modelo de previsão, adaptando-se a diferentes \"weak leraners\" independentemente uns dos outros, permitindo treiná-los simultaneamente. Além disso, gera dados adicionais para treinamento do conjunto de dados, obtidos por amostragem aleatória com substituição do conjunto de dados original. Cada elemento em Bagging é igualmente provável que apareça em um novo conjunto de dados.\n",
        "\n",
        "Esses vários conjuntos de dados são usados ​​para treinar vários modelos em paralelo. A média de todas as previsões de diferentes modelos de conjunto é calculada. Assim, a maioria de votos obtida no mecanismo de votação é considerada quando a classificação é feita. É importante ressaltar, mais uma vez, que o Bagging diminui a variância e ajusta a previsão para um resultado esperado."
      ]
    },
    {
      "cell_type": "markdown",
      "metadata": {
        "id": "aLkusO-Ft74b"
      },
      "source": [
        "Importando as funções e bibliotecas necessárias do Scikit Learn."
      ]
    },
    {
      "cell_type": "markdown",
      "metadata": {
        "id": "nNc7olQtt-Y-"
      },
      "source": [
        "É importante ressaltar o uso de SVC. Devido à sua maior flexibilidade na escolha das funções de penalidades e perdas, seu uso é mais adequado ao Bagging, que executa vários treinamentos em \"weak learners\". "
      ]
    },
    {
      "cell_type": "code",
      "metadata": {
        "id": "U7NoljQOoDI7"
      },
      "source": [
        "from sklearn.ensemble import BaggingClassifier\n",
        "from sklearn.svm import SVC"
      ],
      "execution_count": null,
      "outputs": []
    },
    {
      "cell_type": "markdown",
      "metadata": {
        "id": "Kcd4ANGfuAwc"
      },
      "source": [
        "Primeiramente, constrói-se um conjunto de avaliadores de Bagging a partir do treinamento pelo comando clf.fit. Posteriormente, prevê-se a classe de X por meio de clf.predict. Por fim, o comando clf.score retorna a precisão média nos dados de teste e rótulos fornecidos."
      ]
    },
    {
      "cell_type": "code",
      "metadata": {
        "colab": {
          "base_uri": "https://localhost:8080/"
        },
        "id": "aA8XtGALoTkJ",
        "outputId": "d4c32ab4-438c-41d4-c138-13d93c356e4f"
      },
      "source": [
        "clf = BaggingClassifier(base_estimator=SVC(),n_estimators=10, random_state=0)\n",
        "clf.fit(X_train_scaled, y_train)\n",
        "#y_pred = clf.predict(X_val_scaled)\n",
        "y_pred = clf.predict(X_test_scaled)\n",
        "clf.score(X_test_scaled, y_test)"
      ],
      "execution_count": null,
      "outputs": [
        {
          "output_type": "stream",
          "text": [
            "/usr/local/lib/python3.7/dist-packages/sklearn/ensemble/_bagging.py:645: DataConversionWarning: A column-vector y was passed when a 1d array was expected. Please change the shape of y to (n_samples, ), for example using ravel().\n",
            "  y = column_or_1d(y, warn=True)\n"
          ],
          "name": "stderr"
        },
        {
          "output_type": "execute_result",
          "data": {
            "text/plain": [
              "0.886"
            ]
          },
          "metadata": {
            "tags": []
          },
          "execution_count": 18
        }
      ]
    },
    {
      "cell_type": "markdown",
      "metadata": {
        "id": "qu-7UOrVuE3j"
      },
      "source": [
        "Aplica-se a função learning_curve do Sckit Learn."
      ]
    },
    {
      "cell_type": "markdown",
      "metadata": {
        "id": "tATfWGstuHii"
      },
      "source": [
        "Aplicação da função para plot da curva de validação."
      ]
    },
    {
      "cell_type": "markdown",
      "metadata": {
        "id": "yUldvWquuJ4K"
      },
      "source": [
        "Chama-se a função classification_report."
      ]
    },
    {
      "cell_type": "code",
      "metadata": {
        "colab": {
          "base_uri": "https://localhost:8080/"
        },
        "id": "HD531diAoWBR",
        "outputId": "e6860023-e2f3-488e-f5f5-2dacd3671b08"
      },
      "source": [
        "train_sizes, train_scores, validation_scores = learning_curve(estimator = clf,\n",
        "                                                                X = X_train_scaled,y = y_train, train_sizes = train_sizes, cv = 5,\n",
        "                                                                scoring = 'accuracy')"
      ],
      "execution_count": null,
      "outputs": [
        {
          "output_type": "stream",
          "text": [
            "/usr/local/lib/python3.7/dist-packages/sklearn/ensemble/_bagging.py:645: DataConversionWarning: A column-vector y was passed when a 1d array was expected. Please change the shape of y to (n_samples, ), for example using ravel().\n",
            "  y = column_or_1d(y, warn=True)\n",
            "/usr/local/lib/python3.7/dist-packages/sklearn/ensemble/_bagging.py:645: DataConversionWarning: A column-vector y was passed when a 1d array was expected. Please change the shape of y to (n_samples, ), for example using ravel().\n",
            "  y = column_or_1d(y, warn=True)\n",
            "/usr/local/lib/python3.7/dist-packages/sklearn/ensemble/_bagging.py:645: DataConversionWarning: A column-vector y was passed when a 1d array was expected. Please change the shape of y to (n_samples, ), for example using ravel().\n",
            "  y = column_or_1d(y, warn=True)\n",
            "/usr/local/lib/python3.7/dist-packages/sklearn/ensemble/_bagging.py:645: DataConversionWarning: A column-vector y was passed when a 1d array was expected. Please change the shape of y to (n_samples, ), for example using ravel().\n",
            "  y = column_or_1d(y, warn=True)\n",
            "/usr/local/lib/python3.7/dist-packages/sklearn/ensemble/_bagging.py:645: DataConversionWarning: A column-vector y was passed when a 1d array was expected. Please change the shape of y to (n_samples, ), for example using ravel().\n",
            "  y = column_or_1d(y, warn=True)\n",
            "/usr/local/lib/python3.7/dist-packages/sklearn/ensemble/_bagging.py:645: DataConversionWarning: A column-vector y was passed when a 1d array was expected. Please change the shape of y to (n_samples, ), for example using ravel().\n",
            "  y = column_or_1d(y, warn=True)\n",
            "/usr/local/lib/python3.7/dist-packages/sklearn/ensemble/_bagging.py:645: DataConversionWarning: A column-vector y was passed when a 1d array was expected. Please change the shape of y to (n_samples, ), for example using ravel().\n",
            "  y = column_or_1d(y, warn=True)\n",
            "/usr/local/lib/python3.7/dist-packages/sklearn/ensemble/_bagging.py:645: DataConversionWarning: A column-vector y was passed when a 1d array was expected. Please change the shape of y to (n_samples, ), for example using ravel().\n",
            "  y = column_or_1d(y, warn=True)\n",
            "/usr/local/lib/python3.7/dist-packages/sklearn/ensemble/_bagging.py:645: DataConversionWarning: A column-vector y was passed when a 1d array was expected. Please change the shape of y to (n_samples, ), for example using ravel().\n",
            "  y = column_or_1d(y, warn=True)\n",
            "/usr/local/lib/python3.7/dist-packages/sklearn/ensemble/_bagging.py:645: DataConversionWarning: A column-vector y was passed when a 1d array was expected. Please change the shape of y to (n_samples, ), for example using ravel().\n",
            "  y = column_or_1d(y, warn=True)\n",
            "/usr/local/lib/python3.7/dist-packages/sklearn/ensemble/_bagging.py:645: DataConversionWarning: A column-vector y was passed when a 1d array was expected. Please change the shape of y to (n_samples, ), for example using ravel().\n",
            "  y = column_or_1d(y, warn=True)\n",
            "/usr/local/lib/python3.7/dist-packages/sklearn/ensemble/_bagging.py:645: DataConversionWarning: A column-vector y was passed when a 1d array was expected. Please change the shape of y to (n_samples, ), for example using ravel().\n",
            "  y = column_or_1d(y, warn=True)\n",
            "/usr/local/lib/python3.7/dist-packages/sklearn/ensemble/_bagging.py:645: DataConversionWarning: A column-vector y was passed when a 1d array was expected. Please change the shape of y to (n_samples, ), for example using ravel().\n",
            "  y = column_or_1d(y, warn=True)\n",
            "/usr/local/lib/python3.7/dist-packages/sklearn/ensemble/_bagging.py:645: DataConversionWarning: A column-vector y was passed when a 1d array was expected. Please change the shape of y to (n_samples, ), for example using ravel().\n",
            "  y = column_or_1d(y, warn=True)\n",
            "/usr/local/lib/python3.7/dist-packages/sklearn/ensemble/_bagging.py:645: DataConversionWarning: A column-vector y was passed when a 1d array was expected. Please change the shape of y to (n_samples, ), for example using ravel().\n",
            "  y = column_or_1d(y, warn=True)\n",
            "/usr/local/lib/python3.7/dist-packages/sklearn/ensemble/_bagging.py:645: DataConversionWarning: A column-vector y was passed when a 1d array was expected. Please change the shape of y to (n_samples, ), for example using ravel().\n",
            "  y = column_or_1d(y, warn=True)\n",
            "/usr/local/lib/python3.7/dist-packages/sklearn/ensemble/_bagging.py:645: DataConversionWarning: A column-vector y was passed when a 1d array was expected. Please change the shape of y to (n_samples, ), for example using ravel().\n",
            "  y = column_or_1d(y, warn=True)\n",
            "/usr/local/lib/python3.7/dist-packages/sklearn/ensemble/_bagging.py:645: DataConversionWarning: A column-vector y was passed when a 1d array was expected. Please change the shape of y to (n_samples, ), for example using ravel().\n",
            "  y = column_or_1d(y, warn=True)\n",
            "/usr/local/lib/python3.7/dist-packages/sklearn/ensemble/_bagging.py:645: DataConversionWarning: A column-vector y was passed when a 1d array was expected. Please change the shape of y to (n_samples, ), for example using ravel().\n",
            "  y = column_or_1d(y, warn=True)\n",
            "/usr/local/lib/python3.7/dist-packages/sklearn/ensemble/_bagging.py:645: DataConversionWarning: A column-vector y was passed when a 1d array was expected. Please change the shape of y to (n_samples, ), for example using ravel().\n",
            "  y = column_or_1d(y, warn=True)\n",
            "/usr/local/lib/python3.7/dist-packages/sklearn/ensemble/_bagging.py:645: DataConversionWarning: A column-vector y was passed when a 1d array was expected. Please change the shape of y to (n_samples, ), for example using ravel().\n",
            "  y = column_or_1d(y, warn=True)\n",
            "/usr/local/lib/python3.7/dist-packages/sklearn/ensemble/_bagging.py:645: DataConversionWarning: A column-vector y was passed when a 1d array was expected. Please change the shape of y to (n_samples, ), for example using ravel().\n",
            "  y = column_or_1d(y, warn=True)\n",
            "/usr/local/lib/python3.7/dist-packages/sklearn/ensemble/_bagging.py:645: DataConversionWarning: A column-vector y was passed when a 1d array was expected. Please change the shape of y to (n_samples, ), for example using ravel().\n",
            "  y = column_or_1d(y, warn=True)\n",
            "/usr/local/lib/python3.7/dist-packages/sklearn/ensemble/_bagging.py:645: DataConversionWarning: A column-vector y was passed when a 1d array was expected. Please change the shape of y to (n_samples, ), for example using ravel().\n",
            "  y = column_or_1d(y, warn=True)\n",
            "/usr/local/lib/python3.7/dist-packages/sklearn/ensemble/_bagging.py:645: DataConversionWarning: A column-vector y was passed when a 1d array was expected. Please change the shape of y to (n_samples, ), for example using ravel().\n",
            "  y = column_or_1d(y, warn=True)\n",
            "/usr/local/lib/python3.7/dist-packages/sklearn/ensemble/_bagging.py:645: DataConversionWarning: A column-vector y was passed when a 1d array was expected. Please change the shape of y to (n_samples, ), for example using ravel().\n",
            "  y = column_or_1d(y, warn=True)\n",
            "/usr/local/lib/python3.7/dist-packages/sklearn/ensemble/_bagging.py:645: DataConversionWarning: A column-vector y was passed when a 1d array was expected. Please change the shape of y to (n_samples, ), for example using ravel().\n",
            "  y = column_or_1d(y, warn=True)\n",
            "/usr/local/lib/python3.7/dist-packages/sklearn/ensemble/_bagging.py:645: DataConversionWarning: A column-vector y was passed when a 1d array was expected. Please change the shape of y to (n_samples, ), for example using ravel().\n",
            "  y = column_or_1d(y, warn=True)\n",
            "/usr/local/lib/python3.7/dist-packages/sklearn/ensemble/_bagging.py:645: DataConversionWarning: A column-vector y was passed when a 1d array was expected. Please change the shape of y to (n_samples, ), for example using ravel().\n",
            "  y = column_or_1d(y, warn=True)\n",
            "/usr/local/lib/python3.7/dist-packages/sklearn/ensemble/_bagging.py:645: DataConversionWarning: A column-vector y was passed when a 1d array was expected. Please change the shape of y to (n_samples, ), for example using ravel().\n",
            "  y = column_or_1d(y, warn=True)\n",
            "/usr/local/lib/python3.7/dist-packages/sklearn/ensemble/_bagging.py:645: DataConversionWarning: A column-vector y was passed when a 1d array was expected. Please change the shape of y to (n_samples, ), for example using ravel().\n",
            "  y = column_or_1d(y, warn=True)\n",
            "/usr/local/lib/python3.7/dist-packages/sklearn/ensemble/_bagging.py:645: DataConversionWarning: A column-vector y was passed when a 1d array was expected. Please change the shape of y to (n_samples, ), for example using ravel().\n",
            "  y = column_or_1d(y, warn=True)\n",
            "/usr/local/lib/python3.7/dist-packages/sklearn/ensemble/_bagging.py:645: DataConversionWarning: A column-vector y was passed when a 1d array was expected. Please change the shape of y to (n_samples, ), for example using ravel().\n",
            "  y = column_or_1d(y, warn=True)\n",
            "/usr/local/lib/python3.7/dist-packages/sklearn/ensemble/_bagging.py:645: DataConversionWarning: A column-vector y was passed when a 1d array was expected. Please change the shape of y to (n_samples, ), for example using ravel().\n",
            "  y = column_or_1d(y, warn=True)\n",
            "/usr/local/lib/python3.7/dist-packages/sklearn/ensemble/_bagging.py:645: DataConversionWarning: A column-vector y was passed when a 1d array was expected. Please change the shape of y to (n_samples, ), for example using ravel().\n",
            "  y = column_or_1d(y, warn=True)\n",
            "/usr/local/lib/python3.7/dist-packages/sklearn/ensemble/_bagging.py:645: DataConversionWarning: A column-vector y was passed when a 1d array was expected. Please change the shape of y to (n_samples, ), for example using ravel().\n",
            "  y = column_or_1d(y, warn=True)\n",
            "/usr/local/lib/python3.7/dist-packages/sklearn/ensemble/_bagging.py:645: DataConversionWarning: A column-vector y was passed when a 1d array was expected. Please change the shape of y to (n_samples, ), for example using ravel().\n",
            "  y = column_or_1d(y, warn=True)\n",
            "/usr/local/lib/python3.7/dist-packages/sklearn/ensemble/_bagging.py:645: DataConversionWarning: A column-vector y was passed when a 1d array was expected. Please change the shape of y to (n_samples, ), for example using ravel().\n",
            "  y = column_or_1d(y, warn=True)\n",
            "/usr/local/lib/python3.7/dist-packages/sklearn/ensemble/_bagging.py:645: DataConversionWarning: A column-vector y was passed when a 1d array was expected. Please change the shape of y to (n_samples, ), for example using ravel().\n",
            "  y = column_or_1d(y, warn=True)\n",
            "/usr/local/lib/python3.7/dist-packages/sklearn/ensemble/_bagging.py:645: DataConversionWarning: A column-vector y was passed when a 1d array was expected. Please change the shape of y to (n_samples, ), for example using ravel().\n",
            "  y = column_or_1d(y, warn=True)\n",
            "/usr/local/lib/python3.7/dist-packages/sklearn/ensemble/_bagging.py:645: DataConversionWarning: A column-vector y was passed when a 1d array was expected. Please change the shape of y to (n_samples, ), for example using ravel().\n",
            "  y = column_or_1d(y, warn=True)\n",
            "/usr/local/lib/python3.7/dist-packages/sklearn/ensemble/_bagging.py:645: DataConversionWarning: A column-vector y was passed when a 1d array was expected. Please change the shape of y to (n_samples, ), for example using ravel().\n",
            "  y = column_or_1d(y, warn=True)\n",
            "/usr/local/lib/python3.7/dist-packages/sklearn/ensemble/_bagging.py:645: DataConversionWarning: A column-vector y was passed when a 1d array was expected. Please change the shape of y to (n_samples, ), for example using ravel().\n",
            "  y = column_or_1d(y, warn=True)\n",
            "/usr/local/lib/python3.7/dist-packages/sklearn/ensemble/_bagging.py:645: DataConversionWarning: A column-vector y was passed when a 1d array was expected. Please change the shape of y to (n_samples, ), for example using ravel().\n",
            "  y = column_or_1d(y, warn=True)\n",
            "/usr/local/lib/python3.7/dist-packages/sklearn/ensemble/_bagging.py:645: DataConversionWarning: A column-vector y was passed when a 1d array was expected. Please change the shape of y to (n_samples, ), for example using ravel().\n",
            "  y = column_or_1d(y, warn=True)\n"
          ],
          "name": "stderr"
        }
      ]
    },
    {
      "cell_type": "markdown",
      "metadata": {
        "id": "kCeY9nILuNQZ"
      },
      "source": [
        "Aplicação da função para plot da curva de validação."
      ]
    },
    {
      "cell_type": "code",
      "metadata": {
        "colab": {
          "base_uri": "https://localhost:8080/",
          "height": 917
        },
        "id": "_RXON-8xoZH5",
        "outputId": "e230242e-58fb-4c39-df7d-2604d12d699e"
      },
      "source": [
        "train_scores_mean = train_scores.mean(axis = 1)\n",
        "validation_scores_mean = validation_scores.mean(axis = 1)\n",
        "print('Mean training scores\\n\\n', pd.Series(train_scores_mean, index = train_sizes))\n",
        "print('\\n', '-' * 20) # separator\n",
        "print('\\nMean validation scores\\n\\n',pd.Series(validation_scores_mean, index = train_sizes))\n",
        "\n",
        "\n",
        "plt.style.use('seaborn')\n",
        "plt.plot(train_sizes, train_scores_mean, label = 'Training error')\n",
        "#plt.plot(num, train_scores_mean, label = 'Training error')\n",
        "plt.plot(train_sizes, validation_scores_mean, label = 'Validation error')\n",
        "plt.ylabel('Accurary', fontsize = 14)\n",
        "plt.xlabel('Training set size', fontsize = 14)\n",
        "plt.title('Gráfico de Acurácia  ', fontsize = 18, y = 1.03)\n",
        "plt.legend()\n",
        "plt.ylim(0.78,1.03)"
      ],
      "execution_count": null,
      "outputs": [
        {
          "output_type": "stream",
          "text": [
            "Mean training scores\n",
            "\n",
            " 96     0.910417\n",
            "192    0.935417\n",
            "288    0.897222\n",
            "384    0.896875\n",
            "480    0.893750\n",
            "576    0.897917\n",
            "672    0.897917\n",
            "768    0.895312\n",
            "864    0.894676\n",
            "dtype: float64\n",
            "\n",
            " --------------------\n",
            "\n",
            "Mean validation scores\n",
            "\n",
            " 96     0.826667\n",
            "192    0.856667\n",
            "288    0.866667\n",
            "384    0.863333\n",
            "480    0.867500\n",
            "576    0.876667\n",
            "672    0.877500\n",
            "768    0.880000\n",
            "864    0.884167\n",
            "dtype: float64\n"
          ],
          "name": "stdout"
        },
        {
          "output_type": "execute_result",
          "data": {
            "text/plain": [
              "(0.78, 1.03)"
            ]
          },
          "metadata": {
            "tags": []
          },
          "execution_count": 20
        },
        {
          "output_type": "display_data",
          "data": {
            "image/png": "[encoded data removed]",
            "text/plain": [
              "<Figure size 576x396 with 1 Axes>"
            ]
          },
          "metadata": {
            "tags": []
          }
        }
      ]
    },
    {
      "cell_type": "markdown",
      "metadata": {
        "id": "ffrbKwJquSGL"
      },
      "source": [
        "Chama-se a função classification_report."
      ]
    },
    {
      "cell_type": "code",
      "metadata": {
        "colab": {
          "base_uri": "https://localhost:8080/"
        },
        "id": "_XKFfDELodJh",
        "outputId": "3b8ceb46-350d-4510-bfe7-51de7aced183"
      },
      "source": [
        "print(classification_report(y_test, y_pred))"
      ],
      "execution_count": null,
      "outputs": [
        {
          "output_type": "stream",
          "text": [
            "              precision    recall  f1-score   support\n",
            "\n",
            "           0       0.83      0.98      0.90       785\n",
            "           1       0.98      0.78      0.87       715\n",
            "\n",
            "    accuracy                           0.89      1500\n",
            "   macro avg       0.90      0.88      0.88      1500\n",
            "weighted avg       0.90      0.89      0.88      1500\n",
            "\n"
          ],
          "name": "stdout"
        }
      ]
    },
    {
      "cell_type": "markdown",
      "metadata": {
        "id": "y-VIzM_zucPq"
      },
      "source": [
        "Acima, saída com o relatório em texto apresentando as principais métricas de classificação do Bagging"
      ]
    },
    {
      "cell_type": "markdown",
      "metadata": {
        "id": "v9emliqgoiFR"
      },
      "source": [
        "##Random Forest"
      ]
    },
    {
      "cell_type": "markdown",
      "metadata": {
        "id": "hmjHIIOYuhPc"
      },
      "source": [
        "Random Forest é um metaestimador que ajusta vários classificadores de árvore de decisão em várias subamostras do conjunto de dados, utilizando a média para melhorar a precisão preditiva e o sobreajuste de controle. Como é possível inferir pela descrição acima, o Random Forest é um exemplo de Bagging."
      ]
    },
    {
      "cell_type": "markdown",
      "metadata": {
        "id": "vZzV19h2ukrh"
      },
      "source": [
        "Importando RandomForestClassifier de Scikit Learn"
      ]
    },
    {
      "cell_type": "code",
      "metadata": {
        "id": "TRECUO9Vohuy"
      },
      "source": [
        "from sklearn.ensemble import RandomForestClassifier"
      ],
      "execution_count": null,
      "outputs": []
    },
    {
      "cell_type": "markdown",
      "metadata": {
        "id": "EUuoScJNuoIZ"
      },
      "source": [
        "clf.fit constrói uma floresta de árvores a partir do conjunto de treinamento (X, y). Posteriormente, prediz-se a classe de X (clf.predict). E,finalmente, o comando clf.score retorna a precisão média nos dados de teste e rótulos fornecidos."
      ]
    },
    {
      "cell_type": "code",
      "metadata": {
        "colab": {
          "base_uri": "https://localhost:8080/"
        },
        "id": "SWxBxhdYonqh",
        "outputId": "70eed9b1-0ae2-4e61-b23d-a44969e36a29"
      },
      "source": [
        "clf = RandomForestClassifier(max_depth=2, random_state=0)\n",
        "clf.fit(X_train_scaled, y_train)\n",
        "#y_pred = clf.predict(X_val_scaled)\n",
        "y_pred = clf.predict(X_test_scaled)\n",
        "clf.score(X_test_scaled, y_test)"
      ],
      "execution_count": null,
      "outputs": [
        {
          "output_type": "stream",
          "text": [
            "/usr/local/lib/python3.7/dist-packages/ipykernel_launcher.py:2: DataConversionWarning: A column-vector y was passed when a 1d array was expected. Please change the shape of y to (n_samples,), for example using ravel().\n",
            "  \n"
          ],
          "name": "stderr"
        },
        {
          "output_type": "execute_result",
          "data": {
            "text/plain": [
              "0.89"
            ]
          },
          "metadata": {
            "tags": []
          },
          "execution_count": 23
        }
      ]
    },
    {
      "cell_type": "markdown",
      "metadata": {
        "id": "KWi67kzUuspa"
      },
      "source": [
        "Aplica-se a função learning_curve do Sckit Learn."
      ]
    },
    {
      "cell_type": "code",
      "metadata": {
        "id": "3S1i80UqGxl3",
        "colab": {
          "base_uri": "https://localhost:8080/"
        },
        "outputId": "276ce09c-2630-488d-ad03-c55e8280fb7e"
      },
      "source": [
        "train_sizes, train_scores, validation_scores = learning_curve(estimator = clf,\n",
        "                                                                X = X_train_scaled,y = y_train, train_sizes = train_sizes, cv = 5,\n",
        "                                                                scoring = 'accuracy')"
      ],
      "execution_count": null,
      "outputs": [
        {
          "output_type": "stream",
          "text": [
            "/usr/local/lib/python3.7/dist-packages/sklearn/model_selection/_validation.py:515: DataConversionWarning: A column-vector y was passed when a 1d array was expected. Please change the shape of y to (n_samples,), for example using ravel().\n",
            "  estimator.fit(X_train, y_train, **fit_params)\n",
            "/usr/local/lib/python3.7/dist-packages/sklearn/model_selection/_validation.py:515: DataConversionWarning: A column-vector y was passed when a 1d array was expected. Please change the shape of y to (n_samples,), for example using ravel().\n",
            "  estimator.fit(X_train, y_train, **fit_params)\n",
            "/usr/local/lib/python3.7/dist-packages/sklearn/model_selection/_validation.py:515: DataConversionWarning: A column-vector y was passed when a 1d array was expected. Please change the shape of y to (n_samples,), for example using ravel().\n",
            "  estimator.fit(X_train, y_train, **fit_params)\n",
            "/usr/local/lib/python3.7/dist-packages/sklearn/model_selection/_validation.py:515: DataConversionWarning: A column-vector y was passed when a 1d array was expected. Please change the shape of y to (n_samples,), for example using ravel().\n",
            "  estimator.fit(X_train, y_train, **fit_params)\n",
            "/usr/local/lib/python3.7/dist-packages/sklearn/model_selection/_validation.py:515: DataConversionWarning: A column-vector y was passed when a 1d array was expected. Please change the shape of y to (n_samples,), for example using ravel().\n",
            "  estimator.fit(X_train, y_train, **fit_params)\n",
            "/usr/local/lib/python3.7/dist-packages/sklearn/model_selection/_validation.py:515: DataConversionWarning: A column-vector y was passed when a 1d array was expected. Please change the shape of y to (n_samples,), for example using ravel().\n",
            "  estimator.fit(X_train, y_train, **fit_params)\n",
            "/usr/local/lib/python3.7/dist-packages/sklearn/model_selection/_validation.py:515: DataConversionWarning: A column-vector y was passed when a 1d array was expected. Please change the shape of y to (n_samples,), for example using ravel().\n",
            "  estimator.fit(X_train, y_train, **fit_params)\n",
            "/usr/local/lib/python3.7/dist-packages/sklearn/model_selection/_validation.py:515: DataConversionWarning: A column-vector y was passed when a 1d array was expected. Please change the shape of y to (n_samples,), for example using ravel().\n",
            "  estimator.fit(X_train, y_train, **fit_params)\n",
            "/usr/local/lib/python3.7/dist-packages/sklearn/model_selection/_validation.py:515: DataConversionWarning: A column-vector y was passed when a 1d array was expected. Please change the shape of y to (n_samples,), for example using ravel().\n",
            "  estimator.fit(X_train, y_train, **fit_params)\n",
            "/usr/local/lib/python3.7/dist-packages/sklearn/model_selection/_validation.py:515: DataConversionWarning: A column-vector y was passed when a 1d array was expected. Please change the shape of y to (n_samples,), for example using ravel().\n",
            "  estimator.fit(X_train, y_train, **fit_params)\n",
            "/usr/local/lib/python3.7/dist-packages/sklearn/model_selection/_validation.py:515: DataConversionWarning: A column-vector y was passed when a 1d array was expected. Please change the shape of y to (n_samples,), for example using ravel().\n",
            "  estimator.fit(X_train, y_train, **fit_params)\n",
            "/usr/local/lib/python3.7/dist-packages/sklearn/model_selection/_validation.py:515: DataConversionWarning: A column-vector y was passed when a 1d array was expected. Please change the shape of y to (n_samples,), for example using ravel().\n",
            "  estimator.fit(X_train, y_train, **fit_params)\n",
            "/usr/local/lib/python3.7/dist-packages/sklearn/model_selection/_validation.py:515: DataConversionWarning: A column-vector y was passed when a 1d array was expected. Please change the shape of y to (n_samples,), for example using ravel().\n",
            "  estimator.fit(X_train, y_train, **fit_params)\n",
            "/usr/local/lib/python3.7/dist-packages/sklearn/model_selection/_validation.py:515: DataConversionWarning: A column-vector y was passed when a 1d array was expected. Please change the shape of y to (n_samples,), for example using ravel().\n",
            "  estimator.fit(X_train, y_train, **fit_params)\n",
            "/usr/local/lib/python3.7/dist-packages/sklearn/model_selection/_validation.py:515: DataConversionWarning: A column-vector y was passed when a 1d array was expected. Please change the shape of y to (n_samples,), for example using ravel().\n",
            "  estimator.fit(X_train, y_train, **fit_params)\n",
            "/usr/local/lib/python3.7/dist-packages/sklearn/model_selection/_validation.py:515: DataConversionWarning: A column-vector y was passed when a 1d array was expected. Please change the shape of y to (n_samples,), for example using ravel().\n",
            "  estimator.fit(X_train, y_train, **fit_params)\n",
            "/usr/local/lib/python3.7/dist-packages/sklearn/model_selection/_validation.py:515: DataConversionWarning: A column-vector y was passed when a 1d array was expected. Please change the shape of y to (n_samples,), for example using ravel().\n",
            "  estimator.fit(X_train, y_train, **fit_params)\n",
            "/usr/local/lib/python3.7/dist-packages/sklearn/model_selection/_validation.py:515: DataConversionWarning: A column-vector y was passed when a 1d array was expected. Please change the shape of y to (n_samples,), for example using ravel().\n",
            "  estimator.fit(X_train, y_train, **fit_params)\n",
            "/usr/local/lib/python3.7/dist-packages/sklearn/model_selection/_validation.py:515: DataConversionWarning: A column-vector y was passed when a 1d array was expected. Please change the shape of y to (n_samples,), for example using ravel().\n",
            "  estimator.fit(X_train, y_train, **fit_params)\n",
            "/usr/local/lib/python3.7/dist-packages/sklearn/model_selection/_validation.py:515: DataConversionWarning: A column-vector y was passed when a 1d array was expected. Please change the shape of y to (n_samples,), for example using ravel().\n",
            "  estimator.fit(X_train, y_train, **fit_params)\n",
            "/usr/local/lib/python3.7/dist-packages/sklearn/model_selection/_validation.py:515: DataConversionWarning: A column-vector y was passed when a 1d array was expected. Please change the shape of y to (n_samples,), for example using ravel().\n",
            "  estimator.fit(X_train, y_train, **fit_params)\n",
            "/usr/local/lib/python3.7/dist-packages/sklearn/model_selection/_validation.py:515: DataConversionWarning: A column-vector y was passed when a 1d array was expected. Please change the shape of y to (n_samples,), for example using ravel().\n",
            "  estimator.fit(X_train, y_train, **fit_params)\n",
            "/usr/local/lib/python3.7/dist-packages/sklearn/model_selection/_validation.py:515: DataConversionWarning: A column-vector y was passed when a 1d array was expected. Please change the shape of y to (n_samples,), for example using ravel().\n",
            "  estimator.fit(X_train, y_train, **fit_params)\n",
            "/usr/local/lib/python3.7/dist-packages/sklearn/model_selection/_validation.py:515: DataConversionWarning: A column-vector y was passed when a 1d array was expected. Please change the shape of y to (n_samples,), for example using ravel().\n",
            "  estimator.fit(X_train, y_train, **fit_params)\n",
            "/usr/local/lib/python3.7/dist-packages/sklearn/model_selection/_validation.py:515: DataConversionWarning: A column-vector y was passed when a 1d array was expected. Please change the shape of y to (n_samples,), for example using ravel().\n",
            "  estimator.fit(X_train, y_train, **fit_params)\n",
            "/usr/local/lib/python3.7/dist-packages/sklearn/model_selection/_validation.py:515: DataConversionWarning: A column-vector y was passed when a 1d array was expected. Please change the shape of y to (n_samples,), for example using ravel().\n",
            "  estimator.fit(X_train, y_train, **fit_params)\n",
            "/usr/local/lib/python3.7/dist-packages/sklearn/model_selection/_validation.py:515: DataConversionWarning: A column-vector y was passed when a 1d array was expected. Please change the shape of y to (n_samples,), for example using ravel().\n",
            "  estimator.fit(X_train, y_train, **fit_params)\n",
            "/usr/local/lib/python3.7/dist-packages/sklearn/model_selection/_validation.py:515: DataConversionWarning: A column-vector y was passed when a 1d array was expected. Please change the shape of y to (n_samples,), for example using ravel().\n",
            "  estimator.fit(X_train, y_train, **fit_params)\n",
            "/usr/local/lib/python3.7/dist-packages/sklearn/model_selection/_validation.py:515: DataConversionWarning: A column-vector y was passed when a 1d array was expected. Please change the shape of y to (n_samples,), for example using ravel().\n",
            "  estimator.fit(X_train, y_train, **fit_params)\n",
            "/usr/local/lib/python3.7/dist-packages/sklearn/model_selection/_validation.py:515: DataConversionWarning: A column-vector y was passed when a 1d array was expected. Please change the shape of y to (n_samples,), for example using ravel().\n",
            "  estimator.fit(X_train, y_train, **fit_params)\n",
            "/usr/local/lib/python3.7/dist-packages/sklearn/model_selection/_validation.py:515: DataConversionWarning: A column-vector y was passed when a 1d array was expected. Please change the shape of y to (n_samples,), for example using ravel().\n",
            "  estimator.fit(X_train, y_train, **fit_params)\n",
            "/usr/local/lib/python3.7/dist-packages/sklearn/model_selection/_validation.py:515: DataConversionWarning: A column-vector y was passed when a 1d array was expected. Please change the shape of y to (n_samples,), for example using ravel().\n",
            "  estimator.fit(X_train, y_train, **fit_params)\n",
            "/usr/local/lib/python3.7/dist-packages/sklearn/model_selection/_validation.py:515: DataConversionWarning: A column-vector y was passed when a 1d array was expected. Please change the shape of y to (n_samples,), for example using ravel().\n",
            "  estimator.fit(X_train, y_train, **fit_params)\n",
            "/usr/local/lib/python3.7/dist-packages/sklearn/model_selection/_validation.py:515: DataConversionWarning: A column-vector y was passed when a 1d array was expected. Please change the shape of y to (n_samples,), for example using ravel().\n",
            "  estimator.fit(X_train, y_train, **fit_params)\n",
            "/usr/local/lib/python3.7/dist-packages/sklearn/model_selection/_validation.py:515: DataConversionWarning: A column-vector y was passed when a 1d array was expected. Please change the shape of y to (n_samples,), for example using ravel().\n",
            "  estimator.fit(X_train, y_train, **fit_params)\n",
            "/usr/local/lib/python3.7/dist-packages/sklearn/model_selection/_validation.py:515: DataConversionWarning: A column-vector y was passed when a 1d array was expected. Please change the shape of y to (n_samples,), for example using ravel().\n",
            "  estimator.fit(X_train, y_train, **fit_params)\n",
            "/usr/local/lib/python3.7/dist-packages/sklearn/model_selection/_validation.py:515: DataConversionWarning: A column-vector y was passed when a 1d array was expected. Please change the shape of y to (n_samples,), for example using ravel().\n",
            "  estimator.fit(X_train, y_train, **fit_params)\n",
            "/usr/local/lib/python3.7/dist-packages/sklearn/model_selection/_validation.py:515: DataConversionWarning: A column-vector y was passed when a 1d array was expected. Please change the shape of y to (n_samples,), for example using ravel().\n",
            "  estimator.fit(X_train, y_train, **fit_params)\n",
            "/usr/local/lib/python3.7/dist-packages/sklearn/model_selection/_validation.py:515: DataConversionWarning: A column-vector y was passed when a 1d array was expected. Please change the shape of y to (n_samples,), for example using ravel().\n",
            "  estimator.fit(X_train, y_train, **fit_params)\n",
            "/usr/local/lib/python3.7/dist-packages/sklearn/model_selection/_validation.py:515: DataConversionWarning: A column-vector y was passed when a 1d array was expected. Please change the shape of y to (n_samples,), for example using ravel().\n",
            "  estimator.fit(X_train, y_train, **fit_params)\n",
            "/usr/local/lib/python3.7/dist-packages/sklearn/model_selection/_validation.py:515: DataConversionWarning: A column-vector y was passed when a 1d array was expected. Please change the shape of y to (n_samples,), for example using ravel().\n",
            "  estimator.fit(X_train, y_train, **fit_params)\n",
            "/usr/local/lib/python3.7/dist-packages/sklearn/model_selection/_validation.py:515: DataConversionWarning: A column-vector y was passed when a 1d array was expected. Please change the shape of y to (n_samples,), for example using ravel().\n",
            "  estimator.fit(X_train, y_train, **fit_params)\n",
            "/usr/local/lib/python3.7/dist-packages/sklearn/model_selection/_validation.py:515: DataConversionWarning: A column-vector y was passed when a 1d array was expected. Please change the shape of y to (n_samples,), for example using ravel().\n",
            "  estimator.fit(X_train, y_train, **fit_params)\n",
            "/usr/local/lib/python3.7/dist-packages/sklearn/model_selection/_validation.py:515: DataConversionWarning: A column-vector y was passed when a 1d array was expected. Please change the shape of y to (n_samples,), for example using ravel().\n",
            "  estimator.fit(X_train, y_train, **fit_params)\n",
            "/usr/local/lib/python3.7/dist-packages/sklearn/model_selection/_validation.py:515: DataConversionWarning: A column-vector y was passed when a 1d array was expected. Please change the shape of y to (n_samples,), for example using ravel().\n",
            "  estimator.fit(X_train, y_train, **fit_params)\n"
          ],
          "name": "stderr"
        }
      ]
    },
    {
      "cell_type": "markdown",
      "metadata": {
        "id": "QNgTMLvDuv2B"
      },
      "source": [
        "Aplicação da função para plot da curva de validação."
      ]
    },
    {
      "cell_type": "code",
      "metadata": {
        "colab": {
          "base_uri": "https://localhost:8080/",
          "height": 917
        },
        "id": "qm0ncyNWo1Z6",
        "outputId": "44819d44-d28a-4c6a-ff93-c327b76e6b5c"
      },
      "source": [
        "train_scores_mean = train_scores.mean(axis = 1)\n",
        "validation_scores_mean = validation_scores.mean(axis = 1)\n",
        "print('Mean training scores\\n\\n', pd.Series(train_scores_mean, index = train_sizes))\n",
        "print('\\n', '-' * 20) # separator\n",
        "print('\\nMean validation scores\\n\\n',pd.Series(validation_scores_mean, index = train_sizes))\n",
        "\n",
        "\n",
        "plt.style.use('seaborn')\n",
        "plt.plot(train_sizes, train_scores_mean, label = 'Training error')\n",
        "#plt.plot(num, train_scores_mean, label = 'Training error')\n",
        "plt.plot(train_sizes, validation_scores_mean, label = 'Validation error')\n",
        "plt.ylabel('Accurary', fontsize = 14)\n",
        "plt.xlabel('Training set size', fontsize = 14)\n",
        "plt.title('Gráfico de Acurácia  ', fontsize = 18, y = 1.03)\n",
        "plt.legend()\n",
        "plt.ylim(0.78,1.03)"
      ],
      "execution_count": null,
      "outputs": [
        {
          "output_type": "stream",
          "text": [
            "Mean training scores\n",
            "\n",
            " 96     0.891667\n",
            "192    0.906250\n",
            "288    0.891667\n",
            "384    0.891146\n",
            "480    0.903333\n",
            "576    0.891319\n",
            "672    0.894940\n",
            "768    0.891406\n",
            "864    0.891435\n",
            "dtype: float64\n",
            "\n",
            " --------------------\n",
            "\n",
            "Mean validation scores\n",
            "\n",
            " 96     0.874167\n",
            "192    0.879167\n",
            "288    0.879167\n",
            "384    0.874167\n",
            "480    0.888333\n",
            "576    0.888333\n",
            "672    0.880833\n",
            "768    0.881667\n",
            "864    0.885000\n",
            "dtype: float64\n"
          ],
          "name": "stdout"
        },
        {
          "output_type": "execute_result",
          "data": {
            "text/plain": [
              "(0.78, 1.03)"
            ]
          },
          "metadata": {
            "tags": []
          },
          "execution_count": 25
        },
        {
          "output_type": "display_data",
          "data": {
            "image/png": "[encoded data removed]",
            "text/plain": [
              "<Figure size 576x396 with 1 Axes>"
            ]
          },
          "metadata": {
            "tags": []
          }
        }
      ]
    },
    {
      "cell_type": "markdown",
      "metadata": {
        "id": "oVVyrsxQuzx5"
      },
      "source": [
        "Chama-se a função classification_report."
      ]
    },
    {
      "cell_type": "code",
      "metadata": {
        "colab": {
          "base_uri": "https://localhost:8080/"
        },
        "id": "IK-8bwI4ow7x",
        "outputId": "6e3055b6-25d4-49b3-af65-1431969d995d"
      },
      "source": [
        "print(classification_report(y_test, y_pred))"
      ],
      "execution_count": null,
      "outputs": [
        {
          "output_type": "stream",
          "text": [
            "              precision    recall  f1-score   support\n",
            "\n",
            "           0       0.85      0.96      0.90       785\n",
            "           1       0.95      0.81      0.88       715\n",
            "\n",
            "    accuracy                           0.89      1500\n",
            "   macro avg       0.90      0.89      0.89      1500\n",
            "weighted avg       0.90      0.89      0.89      1500\n",
            "\n"
          ],
          "name": "stdout"
        }
      ]
    },
    {
      "cell_type": "markdown",
      "metadata": {
        "id": "BLVWq6CTu2jZ"
      },
      "source": [
        "Acima, saída com o relatório em texto apresentando as principais métricas de classificação do Random Forest."
      ]
    },
    {
      "cell_type": "markdown",
      "metadata": {
        "id": "5JXGZGEoqpbJ"
      },
      "source": [
        "# 2 Sistemas de Recomendação"
      ]
    },
    {
      "cell_type": "markdown",
      "metadata": {
        "id": "vziaLQOru5jw"
      },
      "source": [
        "Trata-se de uma aplicação de aprendizado de máquina amplamente utilizada em empresas como Netflix, Amazon, The ?New York Time, Google, dentre outras. O sistema de recomendação utiliza a modelagem de dados e a aplicação de algoritmos de modo a tentar prever a nota (*rating*) ou mesmo a preferência de um usuário a um determinado item ou produto. São classificados conforme o tipo de algoritmo aplicado, cujos exemplos principais são: Filtragem colaborativa, filtragem baseada em conteúdo e sistemas híbridos."
      ]
    },
    {
      "cell_type": "markdown",
      "metadata": {
        "id": "jyxQkcqlqsQQ"
      },
      "source": [
        "Importando bibliotecas necessárias"
      ]
    },
    {
      "cell_type": "code",
      "metadata": {
        "id": "G1eTENYutevY"
      },
      "source": [
        "import requests\n",
        "import scipy.io as spi\n",
        "import scipy.optimize as opt\n",
        "import scipy.io\n",
        "import scipy.io as sio\n",
        "import scipy.optimize as opt"
      ],
      "execution_count": null,
      "outputs": []
    },
    {
      "cell_type": "code",
      "metadata": {
        "id": "EGxJZvCMIbIj"
      },
      "source": [
        "from matplotlib import use, cm\n",
        "use('TkAgg')\n",
        "import numpy as np\n",
        "import matplotlib.pyplot as plt\n",
        "import scipy.io\n",
        "from scipy.optimize import minimize"
      ],
      "execution_count": null,
      "outputs": []
    },
    {
      "cell_type": "markdown",
      "metadata": {
        "id": "61AxeaTpu_IZ"
      },
      "source": [
        "Carregamento de dados:"
      ]
    },
    {
      "cell_type": "code",
      "metadata": {
        "id": "5y-2hViOs_Sw"
      },
      "source": [
        "filepath = 'https://github.com/MLRG-CEFET-RJ/ml-class/blob/master/ml-t3/datasets/ex8_movies.mat?raw=true'\n",
        "r = requests.get(filepath, allow_redirects=True)\n",
        "open('ex8_movies.mat', 'wb').write(r.content)\n",
        "\n",
        "data3 = scipy.io.loadmat('ex8_movies.mat')\n",
        "Y = data3['Y']\n",
        "R = data3['R'].astype(bool)\n",
        "\n",
        "\n"
      ],
      "execution_count": null,
      "outputs": []
    },
    {
      "cell_type": "markdown",
      "metadata": {
        "id": "6o9qdYEVvDkx"
      },
      "source": [
        "É importante observar que Y é uma matriz de ordem 1682x943, com avaliações (1-5) de 1682 filmes sobre 943 usuários. Já R é uma matriz 1682x943, em que:\n",
        "R(i,j) = 1 se e somente se o usuário j avaliou o filme i.\n",
        "\n",
        "Para fins de notação, convenciona-se:\n",
        "\n",
        "* nu = quantidade de usuários \n",
        "* nm = quantidade de filmes \n",
        "* m(j) = quantidade de filmes avaliados pelo usuário j \n",
        "* r(i,j) = 1, se usuário j avaliou o filme i \n",
        "* y(i,j) = nota atribuida pelo usuário j ao filme i (definido apenas se r(i,j) =1)"
      ]
    },
    {
      "cell_type": "markdown",
      "metadata": {
        "id": "PWSglqEEvQGJ"
      },
      "source": [
        "A matriz possibilita analisar as estatísticas, como a avaliação média"
      ]
    },
    {
      "cell_type": "code",
      "metadata": {
        "colab": {
          "base_uri": "https://localhost:8080/"
        },
        "id": "udviWkacJOl_",
        "outputId": "e5f60219-1ae7-4bcd-ba9f-0b4d8f381173"
      },
      "source": [
        "\n",
        "print('Avaliação média para filme 1 (Toy Story): %f / 5' % np.mean(Y[0, R[0, :]]))"
      ],
      "execution_count": null,
      "outputs": [
        {
          "output_type": "stream",
          "text": [
            "Avaliação média para filme 1 (Toy Story): 3.878319 / 5\n"
          ],
          "name": "stdout"
        }
      ]
    },
    {
      "cell_type": "markdown",
      "metadata": {
        "id": "8b2RjxVcvUkr"
      },
      "source": [
        "Uma vez que usuários fazem poucas avaliações, a matriz cotuma ser esparsa. É possível verificar ilustrativamente por meio dos comandos abaixo."
      ]
    },
    {
      "cell_type": "code",
      "metadata": {
        "colab": {
          "base_uri": "https://localhost:8080/",
          "height": 361
        },
        "id": "QP1MLL5gJgjo",
        "outputId": "7d23d4e4-504c-41c1-d7a7-0e3c5b39e249"
      },
      "source": [
        "\n",
        "plt.figure()\n",
        "plt.imshow(Y, aspect='equal', origin='upper', extent=(0, Y.shape[1], 0, Y.shape[0]/2.0))\n",
        "plt.ylabel('Movies')\n",
        "plt.xlabel('Users')\n",
        "plt.show()\n"
      ],
      "execution_count": null,
      "outputs": [
        {
          "output_type": "display_data",
          "data": {
            "image/png": "[encoded data removed]",
            "text/plain": [
              "<Figure size 576x396 with 1 Axes>"
            ]
          },
          "metadata": {
            "tags": []
          }
        }
      ]
    },
    {
      "cell_type": "markdown",
      "metadata": {
        "id": "Wil3vM-MvZXI"
      },
      "source": [
        "Carregamento de dados:"
      ]
    },
    {
      "cell_type": "code",
      "metadata": {
        "id": "gxtlzey5GcOb"
      },
      "source": [
        "filepath = 'https://github.com/MLRG-CEFET-RJ/ml-class/blob/master/ml-t3/datasets/ex8_movieParams.mat?raw=true'\n",
        "r = requests.get(filepath, allow_redirects=True)\n",
        "open('ex8_movieParams.mat', 'wb').write(r.content)\n",
        "\n",
        "data_params = scipy.io.loadmat('ex8_movieParams.mat')\n",
        "\n",
        "X = data_params['X']\n",
        "Theta = data_params['Theta']\n",
        "num_users = data_params['num_users']\n",
        "num_movies = data_params['num_movies']\n",
        "num_features = data_params['num_features']\n",
        "\n"
      ],
      "execution_count": null,
      "outputs": []
    },
    {
      "cell_type": "markdown",
      "metadata": {
        "id": "xBbwcrxyveNZ"
      },
      "source": [
        "Cria-se a função cofi_cost_func\n",
        "\n",
        "Os comentários serão inseridos no código a fim de facilitar seu entendimento."
      ]
    },
    {
      "cell_type": "code",
      "metadata": {
        "id": "2N2NguSMKb4p"
      },
      "source": [
        "import numpy as np\n",
        "\n",
        "\n",
        "def cofi_cost_func(params, Y, R, num_users, num_movies, num_features, Lambda):\n",
        "\n",
        "    # Obtem as matrizes X e Theta a partir dos params\n",
        "    X = np.array(params[:num_movies*num_features]).reshape(num_features, num_movies).T.copy()\n",
        "    Theta = np.array(params[num_movies*num_features:]).reshape(num_features, num_users).T.copy()\n",
        "\n",
        "\n",
        "    # Voce deve retornar os seguintes valores corretamente\n",
        "    J = 0\n",
        "    X_grad = np.zeros(X.shape)\n",
        "    Theta_grad = np.zeros(Theta.shape)\n",
        "\n",
        "    # ====================== SEU CODIGO AQUI ======================\n",
        "    # Instrucoes: calcular a funcao de custo regularizada e gradiente\n",
        "    # para a filtragem colaborativa. Concretamente, você deve primeiro\n",
        "    # implementar a funcao de custo. Depois disso, voce deve implementar o\n",
        "    # gradiente. \n",
        "    #\n",
        "    # Notas: \n",
        "    # X - num_movies x num_features: matriz das caracteristicas dos filmes\n",
        "    # Theta - num_users x num_features: matriz das caracteristicas dos usuarios\n",
        "    # Y - num_movies x num_users: matriz de classificacoes de filmes por usuarios\n",
        "    # R - num_movies x num_users: matriz, onde R (i, j) = 1 se o i-esimo filme\n",
        "    #       foi avaliado pelo j-esimo usuario\n",
        "    #\n",
        "    # =============================================================\n",
        "\n",
        "    # =============================================================\n",
        "    #Função de custo baseada na equação da seção 2.1.1\n",
        "    # =============================================================\n",
        "    J = (1/2.) * np.sum((np.power(np.dot(X,Theta.T) - Y,2)) * R)\n",
        "\n",
        "    # =======================================================================\n",
        "    #Gradiente da filtragem colaborativa baseados nas equações da seção 2.1.2\n",
        "    # =======================================================================\n",
        "\n",
        "    # Gradiente para X e Theta:\n",
        "    # =============================================================\n",
        "    # X_grad - num_movies x num_features matrix, contendo as\n",
        "    #   derivadas parciais com relacao a cada elemento de X\n",
        "    X_grad = np.dot((np.dot(X, Theta.T) - Y ) * R, Theta)\n",
        "    \n",
        "    #Linha adicionada apenas para conferir se a matriz gerada\n",
        "    #tem as dimensões corretas. DESATIVADA APÓS VALIDAÇÃO\n",
        "    #RESULTADO VALIDADO: (5, 3)\n",
        "    #print(X_grad, X_grad.shape)\n",
        "    \n",
        "\n",
        "    # Theta_grad - num_users x num_features: matriz, contendo as\n",
        "    #   derivadas parciais com relacao a cada elemento de Theta\n",
        "    Theta_grad = np.dot(((np.dot(X, Theta.T) - Y ) * R).T, X)\n",
        "\n",
        "    #Linha adicionada apenas para conferir se a matriz gerada\n",
        "    #tem as dimensões corretas. DESATIVADA APÓS VALIDAÇÃO\n",
        "    #RESULTADO VALIDADO: (4, 3)\n",
        "    #print(Theta_grad, Theta_grad.shape)\n",
        "\n",
        "    # =============================================================\n",
        "    #Gradiente para ambos os cojuntos em um único vetor\n",
        "    # =============================================================\n",
        "    grad = np.hstack((X_grad.T.flatten(),Theta_grad.T.flatten()))\n",
        "\n",
        "    return J, grad"
      ],
      "execution_count": null,
      "outputs": []
    },
    {
      "cell_type": "code",
      "metadata": {
        "id": "i1NAxCZXiVfB"
      },
      "source": [
        ""
      ],
      "execution_count": null,
      "outputs": []
    },
    {
      "cell_type": "markdown",
      "metadata": {
        "id": "qmjFzN94von9"
      },
      "source": [
        "Adiciona-se informações complementares do conjunto de dados"
      ]
    },
    {
      "cell_type": "code",
      "metadata": {
        "colab": {
          "base_uri": "https://localhost:8080/"
        },
        "id": "iO_a4AgymglV",
        "outputId": "30dea0dc-5c7c-4dc3-b1fd-3c0c7f6cea35"
      },
      "source": [
        "\n",
        "\n",
        "X = data_params['X']\n",
        "Theta = data_params['Theta']\n",
        "num_users = data_params['num_users']\n",
        "num_movies = data_params['num_movies']\n",
        "num_features = data_params['num_features']\n",
        "\n",
        "print(f'Usuários: {num_users}\\nFilmes: {num_movies}\\nAtributos: {num_features}')\n",
        "\n"
      ],
      "execution_count": null,
      "outputs": [
        {
          "output_type": "stream",
          "text": [
            "Usuários: [[943]]\n",
            "Filmes: [[1682]]\n",
            "Atributos: [[10]]\n"
          ],
          "name": "stdout"
        }
      ]
    },
    {
      "cell_type": "markdown",
      "metadata": {
        "id": "Ks1-kqI1vsO5"
      },
      "source": [
        "Reduz o conjunto de dados para que a execucao seja mais rapida"
      ]
    },
    {
      "cell_type": "code",
      "metadata": {
        "id": "dEi37ybhJwym"
      },
      "source": [
        "\n",
        "num_users = 4\n",
        "num_movies = 5\n",
        "num_features = 3\n",
        "X = X[:num_movies, :num_features]\n",
        "Theta = Theta[:num_users, :num_features]\n",
        "Y = Y[:num_movies, :num_users]\n",
        "R = R[:num_movies, :num_users]"
      ],
      "execution_count": null,
      "outputs": []
    },
    {
      "cell_type": "markdown",
      "metadata": {
        "id": "_oNSQUWGvwgq"
      },
      "source": [
        "Print para verificação da dimensão das matrizes:"
      ]
    },
    {
      "cell_type": "code",
      "metadata": {
        "colab": {
          "base_uri": "https://localhost:8080/"
        },
        "id": "VQ6TRidFm8Qk",
        "outputId": "7dbb0b03-491e-49c7-89f9-901935086fe0"
      },
      "source": [
        "print('Dimensões das matrizes X, Theta, Y e R:')\n",
        "print(X.shape, Theta.shape, Y.shape, R.shape)"
      ],
      "execution_count": null,
      "outputs": [
        {
          "output_type": "stream",
          "text": [
            "Dimensões das matrizes X, Theta, Y e R:\n",
            "(5, 3) (4, 3) (5, 4) (5, 4)\n"
          ],
          "name": "stdout"
        }
      ]
    },
    {
      "cell_type": "code",
      "metadata": {
        "id": "JbYvNq4DnCE1"
      },
      "source": [
        "J, grad = cofi_cost_func(np.hstack((X.T.flatten(),\n",
        "                                    Theta.T.flatten())),\n",
        "                         Y, R, num_users, num_movies,\n",
        "                         num_features, 0)"
      ],
      "execution_count": null,
      "outputs": []
    },
    {
      "cell_type": "code",
      "metadata": {
        "colab": {
          "base_uri": "https://localhost:8080/"
        },
        "id": "BWXfB9-cKmUf",
        "outputId": "ca1a184f-9ad1-425b-861d-09064ddc1da2"
      },
      "source": [
        "print('Custo computado usando parâmetros pré-treinados: %f \\n(valor deve ser próximo de 22.22)' % J)"
      ],
      "execution_count": null,
      "outputs": [
        {
          "output_type": "stream",
          "text": [
            "Custo computado usando parâmetros pré-treinados: 22.224604 \n",
            "(valor deve ser próximo de 22.22)\n"
          ],
          "name": "stdout"
        }
      ]
    },
    {
      "cell_type": "markdown",
      "metadata": {
        "id": "MHAe2GHyWAKE"
      },
      "source": [
        "###2.1.2 Gradiente de filtragem colaborativa"
      ]
    },
    {
      "cell_type": "markdown",
      "metadata": {
        "id": "qYr386bJWL7I"
      },
      "source": [
        "A mesma função supracitada, porém com grad."
      ]
    },
    {
      "cell_type": "code",
      "metadata": {
        "colab": {
          "base_uri": "https://localhost:8080/"
        },
        "id": "EAqKhdFPWHqI",
        "outputId": "a77c31f9-1826-4ef4-e98d-0b46387ee038"
      },
      "source": [
        "grad"
      ],
      "execution_count": null,
      "outputs": [
        {
          "output_type": "execute_result",
          "data": {
            "text/plain": [
              "array([ -2.52899165,  -0.56819597,  -0.83240713,  -0.38358278,\n",
              "        -0.80378006,   7.57570308,   3.35265031,   4.91163297,\n",
              "         2.26333698,   4.74271842,  -1.89979026,  -0.52339845,\n",
              "        -0.76677878,  -0.35334048,  -0.74040871, -10.5680202 ,\n",
              "        -3.05099006,   0.        ,   0.        ,   4.62776019,\n",
              "         1.16441367,   0.        ,   0.        ,  -7.16004443,\n",
              "        -3.47410789,   0.        ,   0.        ])"
            ]
          },
          "metadata": {
            "tags": []
          },
          "execution_count": 40
        }
      ]
    },
    {
      "cell_type": "markdown",
      "metadata": {
        "id": "Ol3xbTzLv5Jy"
      },
      "source": [
        "Conferência de valores de X e matriz com os novos valores obtidos com grad.\n"
      ]
    },
    {
      "cell_type": "code",
      "metadata": {
        "colab": {
          "base_uri": "https://localhost:8080/"
        },
        "id": "Mgbn03O4Wctv",
        "outputId": "6b8959d0-a461-45db-a5fd-c087bf6c2b6b"
      },
      "source": [
        "  X_grad = np.dot(( np.dot(X, Theta.T) - Y ) * R, Theta)\n",
        "  print('CONFERÊNCIA - X_grad: valores e shape:')\n",
        "  print(X_grad, X_grad.shape, sep='\\n')\n"
      ],
      "execution_count": null,
      "outputs": [
        {
          "output_type": "stream",
          "text": [
            "CONFERÊNCIA - X_grad: valores e shape:\n",
            "[[-2.52899165  7.57570308 -1.89979026]\n",
            " [-0.56819597  3.35265031 -0.52339845]\n",
            " [-0.83240713  4.91163297 -0.76677878]\n",
            " [-0.38358278  2.26333698 -0.35334048]\n",
            " [-0.80378006  4.74271842 -0.74040871]]\n",
            "(5, 3)\n"
          ],
          "name": "stdout"
        }
      ]
    },
    {
      "cell_type": "markdown",
      "metadata": {
        "id": "WaezqL_Gv7dZ"
      },
      "source": [
        "Conferência de valores de Theta e matriz com os novos valores obtidos com grad."
      ]
    },
    {
      "cell_type": "code",
      "metadata": {
        "colab": {
          "base_uri": "https://localhost:8080/"
        },
        "id": "O5lgEiXXWsBb",
        "outputId": "0686955a-4a42-460b-8b45-539f825bcd3d"
      },
      "source": [
        " Theta_grad = np.dot((( np.dot(X, Theta.T) - Y ) * R).T, X)\n",
        " print('-'*50)\n",
        " print('CONFERÊNCIA - Theta_grad: valores e shape:')\n",
        " print(Theta_grad, Theta_grad.shape, sep='\\n')"
      ],
      "execution_count": null,
      "outputs": [
        {
          "output_type": "stream",
          "text": [
            "--------------------------------------------------\n",
            "CONFERÊNCIA - Theta_grad: valores e shape:\n",
            "[[-10.5680202    4.62776019  -7.16004443]\n",
            " [ -3.05099006   1.16441367  -3.47410789]\n",
            " [  0.           0.           0.        ]\n",
            " [  0.           0.           0.        ]]\n",
            "(4, 3)\n"
          ],
          "name": "stdout"
        }
      ]
    },
    {
      "cell_type": "markdown",
      "metadata": {
        "id": "yjORcX38XAsA"
      },
      "source": [
        "##2.2 Aprendizado de Recomendações para Filmes"
      ]
    },
    {
      "cell_type": "markdown",
      "metadata": {
        "id": "3j385aDhXYl5"
      },
      "source": [
        "Carregamento dos dados com a função load_movie_list."
      ]
    },
    {
      "cell_type": "code",
      "metadata": {
        "id": "J7B3rnQdXnUH"
      },
      "source": [
        "import io\n",
        "\n",
        "\n",
        "def load_movie_list():\n",
        "    \"\"\"\n",
        "    reads the fixed movie list in movie.txt\n",
        "    and returns a cell array of the words in movieList.\n",
        "    \"\"\"\n",
        "\n",
        "    ## Read the fixed movieulary list\n",
        "    with io.open('/content/movie_ids.txt', encoding='ISO-8859-1') as f:\n",
        "\n",
        "        # Store all movies in cell array movie{}\n",
        "        n = 1690  # Total number of movies \n",
        "\n",
        "        movieList = []\n",
        "        for i in range(n):\n",
        "            # Read line\n",
        "            line = f.readline()\n",
        "            # Word Index (can ignore since it will be = i)\n",
        "            str = line.split()\n",
        "            # Actual Word\n",
        "            movieList.append(' '.join(str[1:]).strip())\n",
        "        return movieList"
      ],
      "execution_count": null,
      "outputs": []
    },
    {
      "cell_type": "code",
      "metadata": {
        "id": "l22arXUhbzXs"
      },
      "source": [
        "movieList = load_movie_list()"
      ],
      "execution_count": null,
      "outputs": []
    },
    {
      "cell_type": "markdown",
      "metadata": {
        "id": "LrZ8b0NjwBZb"
      },
      "source": [
        "Visualização dos primeiros cinco itens da lista de filmes presente na carga de dados."
      ]
    },
    {
      "cell_type": "code",
      "metadata": {
        "colab": {
          "base_uri": "https://localhost:8080/"
        },
        "id": "UTLSx_yggFjF",
        "outputId": "084cb035-8107-4a8c-df68-546b834c5135"
      },
      "source": [
        "movieList[:5]"
      ],
      "execution_count": null,
      "outputs": [
        {
          "output_type": "execute_result",
          "data": {
            "text/plain": [
              "['Toy Story (1995)',\n",
              " 'GoldenEye (1995)',\n",
              " 'Four Rooms (1995)',\n",
              " 'Get Shorty (1995)',\n",
              " 'Copycat (1995)']"
            ]
          },
          "metadata": {
            "tags": []
          },
          "execution_count": 233
        }
      ]
    },
    {
      "cell_type": "markdown",
      "metadata": {
        "id": "ajaRz6OlwIVo"
      },
      "source": [
        "Inicialização do vetor de avaliacoes do novo usuário"
      ]
    },
    {
      "cell_type": "code",
      "metadata": {
        "id": "kkNvW-N-gR7o"
      },
      "source": [
        "\n",
        "my_ratings = np.zeros(1690)"
      ],
      "execution_count": null,
      "outputs": []
    },
    {
      "cell_type": "markdown",
      "metadata": {
        "id": "OPekVxOxwLeh"
      },
      "source": [
        "Verificação do arquivo movie_idx.txt a fim de encontrar o id de cada filme\n",
        "Por exemplo, Toy Story (1995) tem ID 1; sendo assim, para atribuir avaliacao \"3\", é necessário que o comando my_ratings seja igual a 3 a fim de classificar o filme com essa pontuação."
      ]
    },
    {
      "cell_type": "code",
      "metadata": {
        "id": "Ld6AN62RgU3s"
      },
      "source": [
        "\n",
        "my_ratings[0] = 3"
      ],
      "execution_count": null,
      "outputs": []
    },
    {
      "cell_type": "markdown",
      "metadata": {
        "id": "6l-BeYi0wRfA"
      },
      "source": [
        "Ou suponha que voce nao gostou de Silence of the Lambs (1991):"
      ]
    },
    {
      "cell_type": "code",
      "metadata": {
        "id": "8b5AhOMdgZUd"
      },
      "source": [
        "\n",
        "my_ratings[97] = 4"
      ],
      "execution_count": null,
      "outputs": []
    },
    {
      "cell_type": "markdown",
      "metadata": {
        "id": "5NlntI5mraKF"
      },
      "source": [
        "Foi efetuada uma tentativa de alteraçaõ do dataset original inlcuindo novos filmes. Para tanto, modificou-se também o valor de n na função para 1689, bem como o valor do vetor de avaliação do usuário. Por algum motivo, ainda que o código tenha processado, uma lacuna sem avaliação apresentou-se na última linha da saída."
      ]
    },
    {
      "cell_type": "code",
      "metadata": {
        "id": "ef5OILW_gdSt"
      },
      "source": [
        "# Abaixo, sao definidas as avaliacoes para outros filmes:\n",
        "my_ratings[1683] = 5 #Good bye, Lenin!\n",
        "my_ratings[1684] = 5 #Petz\n",
        "my_ratings[168] = 4 #Monty Python and the Holy Grail\n",
        "my_ratings[1685] = 4 #Volver\n",
        "my_ratings[1686] = 3 #Matrix\n",
        "my_ratings[559] = 3 #Interview with the Vampire: The Vampire Chronicles)\n",
        "my_ratings[1687] = 4 #Jawbreaker\n",
        "my_ratings[1688] = 1 #Sharknado\n",
        "my_ratings[154] = 4 #Monty Python´s Life of Brian\n",
        "my_ratings[1689] = 4 #Dark Waters\n"
      ],
      "execution_count": null,
      "outputs": []
    },
    {
      "cell_type": "code",
      "metadata": {
        "colab": {
          "base_uri": "https://localhost:8080/"
        },
        "id": "OuEQYSZTggjV",
        "outputId": "95f7d56f-c5d1-4f84-c8fd-0c8676915c21"
      },
      "source": [
        "print('Avaliacoes do novo usuario:')\n",
        "for i in range(len(my_ratings)):\n",
        "    if my_ratings[i] > 0:\n",
        "        print('\\tAvaliou %d para %s' % (my_ratings[i], movieList[i]))\n"
      ],
      "execution_count": null,
      "outputs": [
        {
          "output_type": "stream",
          "text": [
            "Avaliacoes do novo usuario:\n",
            "\tAvaliou 3 para Toy Story (1995)\n",
            "\tAvaliou 4 para Silence of the Lambs, The (1991)\n",
            "\tAvaliou 4 para Dirty Dancing (1987)\n",
            "\tAvaliou 4 para Wrong Trousers, The (1993)\n",
            "\tAvaliou 3 para Kid in King Arthur's Court, A (1995)\n",
            "\tAvaliou 5 para Petz (2016)\n",
            "\tAvaliou 5 para Volver (2006)\n",
            "\tAvaliou 4 para Matrix (1999)\n",
            "\tAvaliou 3 para Jawbreaker (1999)\n",
            "\tAvaliou 4 para Sharknado (2013)\n",
            "\tAvaliou 1 para Dark Waters (2019)\n",
            "\tAvaliou 4 para \n"
          ],
          "name": "stdout"
        }
      ]
    },
    {
      "cell_type": "markdown",
      "metadata": {
        "id": "8QOP2PT1wabZ"
      },
      "source": [
        "print para verificar o tamanho dos vetores."
      ]
    },
    {
      "cell_type": "code",
      "metadata": {
        "colab": {
          "base_uri": "https://localhost:8080/"
        },
        "id": "D0OXqVpGGgqa",
        "outputId": "8a059411-84ba-42ea-f686-ddc2e13c0227"
      },
      "source": [
        "print(i)"
      ],
      "execution_count": null,
      "outputs": [
        {
          "output_type": "stream",
          "text": [
            "1689\n"
          ],
          "name": "stdout"
        }
      ]
    },
    {
      "cell_type": "markdown",
      "metadata": {
        "id": "XNGinjssOjsc"
      },
      "source": [
        "Devido aos problemas obtidos entre vetores e itens da lista, optou-se por refazer a aplicação com o dataset e função originais, sem alterações."
      ]
    },
    {
      "cell_type": "code",
      "metadata": {
        "id": "St1Ji5AFNtlD"
      },
      "source": [
        "import io\n",
        "\n",
        "\n",
        "def load_movie_list():\n",
        "    \"\"\"\n",
        "    reads the fixed movie list in movie.txt\n",
        "    and returns a cell array of the words in movieList.\n",
        "    \"\"\"\n",
        "\n",
        "    ## Read the fixed movieulary list\n",
        "    with io.open('/content/movie_ids1.txt', encoding='ISO-8859-1') as f:\n",
        "\n",
        "        # Store all movies in cell array movie{}\n",
        "        n = 1682  # Total number of movies \n",
        "\n",
        "        movieList = []\n",
        "        for i in range(n):\n",
        "            # Read line\n",
        "            line = f.readline()\n",
        "            # Word Index (can ignore since it will be = i)\n",
        "            str = line.split()\n",
        "            # Actual Word\n",
        "            movieList.append(' '.join(str[1:]).strip())\n",
        "        return movieList"
      ],
      "execution_count": null,
      "outputs": []
    },
    {
      "cell_type": "code",
      "metadata": {
        "id": "yM9OBmdrN5Ea"
      },
      "source": [
        "movieList = load_movie_list()"
      ],
      "execution_count": null,
      "outputs": []
    },
    {
      "cell_type": "code",
      "metadata": {
        "colab": {
          "base_uri": "https://localhost:8080/"
        },
        "id": "0oZQOpHAN7jB",
        "outputId": "620b4eff-803f-43a4-ebfc-2048a2448b2c"
      },
      "source": [
        "movieList[:5]"
      ],
      "execution_count": null,
      "outputs": [
        {
          "output_type": "execute_result",
          "data": {
            "text/plain": [
              "['Toy Story (1995)',\n",
              " 'GoldenEye (1995)',\n",
              " 'Four Rooms (1995)',\n",
              " 'Get Shorty (1995)',\n",
              " 'Copycat (1995)']"
            ]
          },
          "metadata": {
            "tags": []
          },
          "execution_count": 248
        }
      ]
    },
    {
      "cell_type": "code",
      "metadata": {
        "id": "9x0Ik1YmN_P6"
      },
      "source": [
        "\n",
        "my_ratings = np.zeros(1682)"
      ],
      "execution_count": null,
      "outputs": []
    },
    {
      "cell_type": "code",
      "metadata": {
        "id": "e_wajhA-OCKx"
      },
      "source": [
        "\n",
        "\n",
        "#Toy Story (1995) tem ID 1; atribuir avaliação \"3\":\n",
        "my_ratings[0] = 3\n",
        "\n"
      ],
      "execution_count": null,
      "outputs": []
    },
    {
      "cell_type": "code",
      "metadata": {
        "id": "nuRUwuOAOE-L"
      },
      "source": [
        "#de Silence of the Lambs (1991); atribuir avaliação \"5\":\n",
        "my_ratings[97] = 5"
      ],
      "execution_count": null,
      "outputs": []
    },
    {
      "cell_type": "code",
      "metadata": {
        "id": "RnkCUKFxOIBj"
      },
      "source": [
        "#Avaliacoes para outros filmes:\n",
        "my_ratings[6] = 3\n",
        "my_ratings[11] = 5\n",
        "my_ratings[53] = 4\n",
        "my_ratings[63] = 5\n",
        "my_ratings[65] = 3\n",
        "my_ratings[68] = 5\n",
        "my_ratings[182] = 4\n",
        "my_ratings[225] = 5\n",
        "my_ratings[354] = 5"
      ],
      "execution_count": null,
      "outputs": []
    },
    {
      "cell_type": "code",
      "metadata": {
        "colab": {
          "base_uri": "https://localhost:8080/"
        },
        "id": "V6ZmkhzAOMnx",
        "outputId": "37d7612e-0dbc-4e5a-fe22-5d19fe324e56"
      },
      "source": [
        "print('Avaliacoes do novo usuario:')\n",
        "for i in range(len(my_ratings)):\n",
        "    if my_ratings[i] > 0:\n",
        "        print('\\tAvaliou %d para %s' % (my_ratings[i], movieList[i]))"
      ],
      "execution_count": null,
      "outputs": [
        {
          "output_type": "stream",
          "text": [
            "Avaliacoes do novo usuario:\n",
            "\tAvaliou 3 para Toy Story (1995)\n",
            "\tAvaliou 3 para Twelve Monkeys (1995)\n",
            "\tAvaliou 5 para Usual Suspects, The (1995)\n",
            "\tAvaliou 4 para Outbreak (1995)\n",
            "\tAvaliou 5 para Shawshank Redemption, The (1994)\n",
            "\tAvaliou 3 para While You Were Sleeping (1995)\n",
            "\tAvaliou 5 para Forrest Gump (1994)\n",
            "\tAvaliou 5 para Silence of the Lambs, The (1991)\n",
            "\tAvaliou 4 para Alien (1979)\n",
            "\tAvaliou 5 para Die Hard 2 (1990)\n",
            "\tAvaliou 5 para Sphere (1998)\n"
          ],
          "name": "stdout"
        }
      ]
    },
    {
      "cell_type": "markdown",
      "metadata": {
        "id": "pN5GxspP6HMd"
      },
      "source": [
        "### Aprendizado para recomendação de filmes\n",
        "\n"
      ]
    },
    {
      "cell_type": "markdown",
      "metadata": {
        "id": "e8JC5IzJwhTY"
      },
      "source": [
        "Carregamento de dados.\n",
        "\n",
        "Novamente, Y é uma matriz de ordem 1682x943, com avaliações (1-5) de 1682 filmes sobre 943 usuários. Já R é uma matriz 1682x943, em que: R(i,j) = 1 se e somente se o usuário j avaliou o filme i."
      ]
    },
    {
      "cell_type": "code",
      "metadata": {
        "id": "ABnS2YjwQWej"
      },
      "source": [
        "filepath = 'https://github.com/MLRG-CEFET-RJ/ml-class/blob/master/ml-t3/datasets/ex8_movies.mat?raw=true'\n",
        "r = requests.get(filepath, allow_redirects=True)\n",
        "open('ex8_movies.mat', 'wb').write(r.content)\n",
        "\n",
        "data3 = scipy.io.loadmat('ex8_movies.mat')\n",
        "Y = data3['Y']\n",
        "R = data3['R'].astype(bool)\n"
      ],
      "execution_count": null,
      "outputs": []
    },
    {
      "cell_type": "markdown",
      "metadata": {
        "id": "_N2XpigPwtkS"
      },
      "source": [
        "Função normalize_ratings\n",
        "Comentários foram adicionados ao código a fim de facilitar seu entendimento."
      ]
    },
    {
      "cell_type": "code",
      "metadata": {
        "id": "l7cWBtaEp7G0"
      },
      "source": [
        "import numpy as np\n",
        "\n",
        "\n",
        "def normalize_ratings(Y, R):\n",
        "    \"\"\"normaliza Y de tal forma que os filmes possuam uma avaliacao de 0 em media,\n",
        "    and returns the mean rating in Ymean.\n",
        "    \"\"\"\n",
        "\n",
        "    m, n = Y.shape\n",
        "    Ymean = np.zeros(m)\n",
        "    Ynorm = np.zeros(Y.shape)\n",
        "\n",
        "    for i in range(n):\n",
        "        idx = (R[i,:]==1).nonzero()[0]\n",
        "        if len(idx):\n",
        "            Ymean[i] = np.mean(Y[i, idx])\n",
        "            Ynorm[i, idx] = Y[i, idx] - Ymean[i]\n",
        "        else:\n",
        "            Ymean[i] = 0.0\n",
        "            Ynorm[i,idx] = 0.0\n",
        "\n",
        "    return Ynorm, Ymean"
      ],
      "execution_count": null,
      "outputs": []
    },
    {
      "cell_type": "markdown",
      "metadata": {
        "id": "ma0gPQ7cwwQV"
      },
      "source": [
        "Importando função minimize de scipy."
      ]
    },
    {
      "cell_type": "code",
      "metadata": {
        "id": "dBEXhANEWQBS"
      },
      "source": [
        "from scipy.optimize import minimize"
      ],
      "execution_count": null,
      "outputs": []
    },
    {
      "cell_type": "markdown",
      "metadata": {
        "id": "P12vHnPdwzOp"
      },
      "source": [
        "Normalização das avaliacoes originais"
      ]
    },
    {
      "cell_type": "code",
      "metadata": {
        "id": "PVn7FO9aWLwh"
      },
      "source": [
        "\n",
        "Ynorm, Ymean = normalize_ratings(Y, R)\n",
        "\n"
      ],
      "execution_count": null,
      "outputs": []
    },
    {
      "cell_type": "markdown",
      "metadata": {
        "id": "TJb3pzbKw1YI"
      },
      "source": [
        "Fator de regularizacao"
      ]
    },
    {
      "cell_type": "code",
      "metadata": {
        "id": "_9SZTEFuWxAw"
      },
      "source": [
        "\n",
        "Lambda = 10\n"
      ],
      "execution_count": null,
      "outputs": []
    },
    {
      "cell_type": "markdown",
      "metadata": {
        "id": "RytJ4ugzw44g"
      },
      "source": [
        "Criação das configurações das funções de custo e gradiente com base em cofi_cost_func."
      ]
    },
    {
      "cell_type": "code",
      "metadata": {
        "id": "c3imPjK8WzyO"
      },
      "source": [
        "costFunc = lambda p: cofi_cost_func(p, Ynorm, R, num_users, num_movies, num_features, Lambda)[0]\n",
        "gradFunc = lambda p: cofi_cost_func(p, Ynorm, R, num_users, num_movies, num_features, Lambda)[1]"
      ],
      "execution_count": null,
      "outputs": []
    },
    {
      "cell_type": "markdown",
      "metadata": {
        "id": "zzEcOiCFw7rw"
      },
      "source": [
        "Treinamento do modelo: Aplica-se a função minimize para otimização do vetor theta e cálculo do custo."
      ]
    },
    {
      "cell_type": "code",
      "metadata": {
        "colab": {
          "base_uri": "https://localhost:8080/"
        },
        "id": "aS1T0h0_W3HL",
        "outputId": "e3ca874b-b417-4da2-8c1a-0cc41a4fc3b3"
      },
      "source": [
        "result = minimize(costFunc, initial_parameters, method='CG', jac=gradFunc,\n",
        "                  options={'disp': True, 'maxiter': 1000.0})\n",
        "\n",
        "theta = result.x\n",
        "cost = result.fun\n",
        "\n"
      ],
      "execution_count": null,
      "outputs": [
        {
          "output_type": "stream",
          "text": [
            "Warning: Maximum number of iterations has been exceeded.\n",
            "         Current function value: 21282.171900\n",
            "         Iterations: 1000\n",
            "         Function evaluations: 1476\n",
            "         Gradient evaluations: 1476\n"
          ],
          "name": "stdout"
        }
      ]
    },
    {
      "cell_type": "code",
      "metadata": {
        "colab": {
          "base_uri": "https://localhost:8080/"
        },
        "id": "X-cc53m4YULe",
        "outputId": "7907dcd0-1eff-4b85-ce64-fabf0550485d"
      },
      "source": [
        "print('Aprendizado do Sistema de Recomendação finalizado.')"
      ],
      "execution_count": null,
      "outputs": [
        {
          "output_type": "stream",
          "text": [
            "Aprendizado do Sistema de Recomendação finalizado.\n"
          ],
          "name": "stdout"
        }
      ]
    },
    {
      "cell_type": "code",
      "metadata": {
        "colab": {
          "base_uri": "https://localhost:8080/"
        },
        "id": "4quEvxrOYuEb",
        "outputId": "a3a47b27-ccec-41d3-f54f-ece173a35c2c"
      },
      "source": [
        "print(f'Custo computado no treinamento: {cost:.2f}')"
      ],
      "execution_count": null,
      "outputs": [
        {
          "output_type": "stream",
          "text": [
            "Custo computado no treinamento: 21282.17\n"
          ],
          "name": "stdout"
        }
      ]
    },
    {
      "cell_type": "code",
      "metadata": {
        "id": "zt36QzCbYt5-"
      },
      "source": [
        ""
      ],
      "execution_count": null,
      "outputs": []
    },
    {
      "cell_type": "markdown",
      "metadata": {
        "id": "QmUR0EenYfSG"
      },
      "source": [
        "Realização de recomendações:\n",
        "Após o treinamento do modelo, e possível realizar recomendações computando a matriz de predições."
      ]
    },
    {
      "cell_type": "markdown",
      "metadata": {
        "id": "JSvYWBLnxEoy"
      },
      "source": [
        "Computação da matriz de predições."
      ]
    },
    {
      "cell_type": "code",
      "metadata": {
        "id": "VJFbbHVTWw4v"
      },
      "source": [
        "p = X.dot(Theta.T)\n",
        "my_predictions = p[:, 0] + Ymean"
      ],
      "execution_count": null,
      "outputs": []
    },
    {
      "cell_type": "code",
      "metadata": {
        "id": "DStylDcDWkRu"
      },
      "source": [
        "movieList = load_movie_list()"
      ],
      "execution_count": null,
      "outputs": []
    },
    {
      "cell_type": "markdown",
      "metadata": {
        "id": "0wXV5KL4xNyB"
      },
      "source": [
        "Ordenação de predições em ordem decrescente"
      ]
    },
    {
      "cell_type": "code",
      "metadata": {
        "id": "v02G12cPY6sd"
      },
      "source": [
        "\n",
        "pre=np.array([[idx, p] for idx, p in enumerate(my_predictions)])\n",
        "post = pre[pre[:,1].argsort()[::-1]]\n",
        "r = post[:,1]\n",
        "ix = post[:,0]"
      ],
      "execution_count": null,
      "outputs": []
    },
    {
      "cell_type": "markdown",
      "metadata": {
        "id": "CF_a8jEoxQs1"
      },
      "source": [
        "Print para visualização das principais recomendações na sequência da classificação dos filmes."
      ]
    },
    {
      "cell_type": "code",
      "metadata": {
        "colab": {
          "base_uri": "https://localhost:8080/"
        },
        "id": "h0wkxf99Y9mu",
        "outputId": "b10c4a04-9cf2-4d72-f39c-f89dc90a87ec"
      },
      "source": [
        "print('\\nRecomendacoes principais:')\n",
        "for i in range(10):\n",
        "    j = int(ix[i])\n",
        "    print('\\tPrevisão de avaliacao %.1f para %s' % (my_predictions[j], movieList[j]))"
      ],
      "execution_count": null,
      "outputs": [
        {
          "output_type": "stream",
          "text": [
            "\n",
            "Recomendacoes principais:\n",
            "\tPrevisão de avaliacao 7.1 para Schindler's List (1993)\n",
            "\tPrevisão de avaliacao 7.1 para As Good As It Gets (1997)\n",
            "\tPrevisão de avaliacao 7.0 para Maltese Falcon, The (1941)\n",
            "\tPrevisão de avaliacao 6.9 para Shawshank Redemption, The (1994)\n",
            "\tPrevisão de avaliacao 6.9 para Princess Bride, The (1987)\n",
            "\tPrevisão de avaliacao 6.8 para Paths of Glory (1957)\n",
            "\tPrevisão de avaliacao 6.8 para Vertigo (1958)\n",
            "\tPrevisão de avaliacao 6.7 para Dr. Strangelove or: How I Learned to Stop Worrying and Love the Bomb (1963)\n",
            "\tPrevisão de avaliacao 6.7 para One Flew Over the Cuckoo's Nest (1975)\n",
            "\tPrevisão de avaliacao 6.7 para Rear Window (1954)\n"
          ],
          "name": "stdout"
        }
      ]
    },
    {
      "cell_type": "code",
      "metadata": {
        "colab": {
          "base_uri": "https://localhost:8080/"
        },
        "id": "Lq_toxsEY-zG",
        "outputId": "b4a0a1cb-61d2-458f-8e45-cbeb72f837e6"
      },
      "source": [
        "print('\\nAvaliacoes originais fornecidas:')\n",
        "for i in range(len(my_ratings)):\n",
        "    if my_ratings[i] > 0:\n",
        "        print('\\tAvaliou %d para %s' % (my_ratings[i], movieList[i]))"
      ],
      "execution_count": null,
      "outputs": [
        {
          "output_type": "stream",
          "text": [
            "\n",
            "Avaliacoes originais fornecidas:\n",
            "\tAvaliou 3 para Toy Story (1995)\n",
            "\tAvaliou 3 para Twelve Monkeys (1995)\n",
            "\tAvaliou 5 para Usual Suspects, The (1995)\n",
            "\tAvaliou 4 para Outbreak (1995)\n",
            "\tAvaliou 5 para Shawshank Redemption, The (1994)\n",
            "\tAvaliou 3 para While You Were Sleeping (1995)\n",
            "\tAvaliou 5 para Forrest Gump (1994)\n",
            "\tAvaliou 5 para Silence of the Lambs, The (1991)\n",
            "\tAvaliou 4 para Alien (1979)\n",
            "\tAvaliou 5 para Die Hard 2 (1990)\n",
            "\tAvaliou 5 para Sphere (1998)\n"
          ],
          "name": "stdout"
        }
      ]
    },
    {
      "cell_type": "markdown",
      "metadata": {
        "id": "ZppbOgNEZFDu"
      },
      "source": [
        "# 3 Redes Neurais Artificiais"
      ]
    },
    {
      "cell_type": "markdown",
      "metadata": {
        "id": "Fb3Re4UOxUqI"
      },
      "source": [
        "Redes Neurais Artificiais são técnicas computacionais cujo modelo matemático é inspirado na estrutura neural de organismos inteligentes. São compostas por várias unidades de processamento conectadas por canais de comunicação associados a um determinado peso. \n",
        "\n",
        "Tais unidades executam operações apenas em seus dados locais, i.e, entradas recebidas por suas conexões. É importante ressaltar que as interações entre as unidades de processamento da rede neural são responsáveis pos seu comportamento inteligente.\n",
        "\n",
        "Segundo a proposta de McCullock e Pitts em 1943, operação de uma unidade de processamento, pode ser apresentada conforme a seguir:\n",
        "\n",
        "  Sinais apresentados na entrada;\n",
        "  Cada sinal é multiplicado por um número, ou peso, indicando sua influência na saída da unidade;\n",
        "  Executa-se a soma ponderada dos sinais produzindo nível de atividade;\n",
        "  Caso tal nível exceda determinado limite (threshold), a unidade produzirá uma determinada resposta de saída."
      ]
    },
    {
      "cell_type": "markdown",
      "metadata": {
        "id": "PXnZm_CaZLAi"
      },
      "source": [
        "## 3.1 Redes MLP"
      ]
    },
    {
      "cell_type": "markdown",
      "metadata": {
        "id": "8__U7d1bxYHY"
      },
      "source": [
        "Imortação de bibliotecas"
      ]
    },
    {
      "cell_type": "code",
      "metadata": {
        "id": "5zlPaUyKZbu9"
      },
      "source": [
        "import numpy as np\n",
        "import h5py\n",
        "import pandas as pd\n",
        "from sklearn.model_selection import train_test_split\n",
        "from sklearn.preprocessing import StandardScaler\n",
        "from sklearn.model_selection import learning_curve\n",
        "import matplotlib.pyplot as plt\n",
        "from keras.wrappers.scikit_learn import KerasClassifier\n",
        "import numpy as np\n",
        "from keras.models import Sequential\n",
        "from keras.layers import Dense, Dropout, Flatten\n",
        "from keras.optimizers import SGD\n",
        "from keras.constraints import maxnorm\n",
        "from sklearn.model_selection import GridSearchCV\n",
        "from timeit import default_timer as timer\n",
        "from sklearn.metrics import classification_report\n",
        "from sklearn import metrics \n",
        "import seaborn as sns"
      ],
      "execution_count": null,
      "outputs": []
    },
    {
      "cell_type": "markdown",
      "metadata": {
        "id": "S6zRsKeuxahx"
      },
      "source": [
        "Carregamento de dados:"
      ]
    },
    {
      "cell_type": "code",
      "metadata": {
        "id": "U5urmFQ5ZKf_"
      },
      "source": [
        "import h5py\n",
        "\n",
        "\n",
        "def load_dataset():\n",
        "    train_dataset = h5py.File('/content/train_catvnoncat.h5', \"r\")\n",
        "    train_set_x_orig = np.array(train_dataset[\"train_set_x\"][:])\n",
        "    train_set_y_orig = np.array(train_dataset[\"train_set_y\"][:])\n",
        "    \n",
        "    test_dataset = h5py.File('/content/test_catvnoncat.h5', \"r\")\n",
        "    test_set_x_orig = np.array(test_dataset[\"test_set_x\"][:])\n",
        "    test_set_y_orig = np.array(test_dataset[\"test_set_y\"][:])\n",
        "    \n",
        "    classes = np.array(train_dataset[\"list_classes\"][:])\n",
        "    \n",
        "    train_set_y_orig = train_set_y_orig.reshape((1,train_set_y_orig.shape[0]))\n",
        "    test_set_y_orig = test_set_y_orig.reshape((1,test_set_y_orig.shape[0]))\n",
        "    \n",
        "    return test_set_x_orig, test_set_y_orig, train_set_y_orig, test_set_y_orig, classess"
      ],
      "execution_count": null,
      "outputs": []
    },
    {
      "cell_type": "markdown",
      "metadata": {
        "id": "qDIzJpMoxiCa"
      },
      "source": [
        "Carregamento de dados:"
      ]
    },
    {
      "cell_type": "code",
      "metadata": {
        "id": "Fs7NatkEY7sW"
      },
      "source": [
        "#Definção dos títulos das colunas\n",
        "headers = ['ESCT', 'NDEP', 'RENDA', 'TIPOR', 'VBEM', 'NPARC',\n",
        "           'VPARC', 'TEL', 'IDADE', 'RESMS', 'ENTRADA', 'CLASSE']\n",
        "\n",
        "\n",
        "#Carga do conjunto de treino\n",
        "arquivo = 'https://raw.githubusercontent.com/MLRG-CEFET-RJ/ml-class/master/ml-t3/datasets/credtrain.txt'\n",
        "data_train = pd.read_csv(arquivo, sep='\\t', header=None, names=headers)\n",
        "\n",
        "\n",
        "#Carga do conjunto de teste\n",
        "arquivo = 'https://raw.githubusercontent.com/MLRG-CEFET-RJ/ml-class/master/ml-t3/datasets/credtest.txt'\n",
        "data_test = pd.read_csv(arquivo, sep='\\t', header=None, names=headers)"
      ],
      "execution_count": null,
      "outputs": []
    },
    {
      "cell_type": "markdown",
      "metadata": {
        "id": "JtdaXLOhxe9b"
      },
      "source": [
        "Checagem do conjunto de dados"
      ]
    },
    {
      "cell_type": "code",
      "metadata": {
        "colab": {
          "base_uri": "https://localhost:8080/"
        },
        "id": "vuI-udlobU45",
        "outputId": "dbc9de2e-9efa-4a20-a5e4-1a15082e4607"
      },
      "source": [
        "\n",
        "print(data_train.head(),\n",
        "      data_test.head(),\n",
        "      sep='\\n\\n')"
      ],
      "execution_count": null,
      "outputs": [
        {
          "output_type": "stream",
          "text": [
            "   ESCT  NDEP  RENDA  TIPOR  VBEM  ...  TEL  IDADE  RESMS  ENTRADA  CLASSE\n",
            "0     1     0    360      0   313  ...    0     25     48        0       1\n",
            "1     0     0    350      1   468  ...    0     33      6        0       1\n",
            "2     0     0   1100      0   829  ...    0     56     48        0       1\n",
            "3     0     0   3000      0   552  ...    1     31     60        0       1\n",
            "4     1     0   1000      0   809  ...    0     24      7        0       1\n",
            "\n",
            "[5 rows x 12 columns]\n",
            "\n",
            "   ESCT  NDEP  RENDA  TIPOR  VBEM  ...  TEL  IDADE  RESMS  ENTRADA  CLASSE\n",
            "0     0     2    500      1   618  ...    0     36      6        0       0\n",
            "1     1     0    813      0   552  ...    0     43     48      119       1\n",
            "2     3     0    350      0   488  ...    0     43      0        0       1\n",
            "3     1     0   1530      0   381  ...    0     28     48        0       1\n",
            "4     0     0    688      1   396  ...    0     49     72        0       1\n",
            "\n",
            "[5 rows x 12 columns]\n"
          ],
          "name": "stdout"
        }
      ]
    },
    {
      "cell_type": "markdown",
      "metadata": {
        "id": "UrzhiH8NxuHZ"
      },
      "source": [
        "Resumo estatístico dos dados"
      ]
    },
    {
      "cell_type": "code",
      "metadata": {
        "colab": {
          "base_uri": "https://localhost:8080/",
          "height": 320
        },
        "id": "eCqYLR4FbYFF",
        "outputId": "8182f76d-3c58-44ab-a06d-5b9cf540ef4b"
      },
      "source": [
        "\n",
        "data_train.describe()"
      ],
      "execution_count": null,
      "outputs": [
        {
          "output_type": "execute_result",
          "data": {
            "text/html": [
              "<div>\n",
              "<style scoped>\n",
              "    .dataframe tbody tr th:only-of-type {\n",
              "        vertical-align: middle;\n",
              "    }\n",
              "\n",
              "    .dataframe tbody tr th {\n",
              "        vertical-align: top;\n",
              "    }\n",
              "\n",
              "    .dataframe thead th {\n",
              "        text-align: right;\n",
              "    }\n",
              "</style>\n",
              "<table border=\"1\" class=\"dataframe\">\n",
              "  <thead>\n",
              "    <tr style=\"text-align: right;\">\n",
              "      <th></th>\n",
              "      <th>ESCT</th>\n",
              "      <th>NDEP</th>\n",
              "      <th>RENDA</th>\n",
              "      <th>TIPOR</th>\n",
              "      <th>VBEM</th>\n",
              "      <th>NPARC</th>\n",
              "      <th>VPARC</th>\n",
              "      <th>TEL</th>\n",
              "      <th>IDADE</th>\n",
              "      <th>RESMS</th>\n",
              "      <th>ENTRADA</th>\n",
              "      <th>CLASSE</th>\n",
              "    </tr>\n",
              "  </thead>\n",
              "  <tbody>\n",
              "    <tr>\n",
              "      <th>count</th>\n",
              "      <td>1500.000000</td>\n",
              "      <td>1500.000000</td>\n",
              "      <td>1500.00000</td>\n",
              "      <td>1500.000000</td>\n",
              "      <td>1500.000000</td>\n",
              "      <td>1500.000000</td>\n",
              "      <td>1500.000000</td>\n",
              "      <td>1500.000000</td>\n",
              "      <td>1500.000000</td>\n",
              "      <td>1500.000000</td>\n",
              "      <td>1500.000000</td>\n",
              "      <td>1500.000000</td>\n",
              "    </tr>\n",
              "    <tr>\n",
              "      <th>mean</th>\n",
              "      <td>0.512000</td>\n",
              "      <td>0.126667</td>\n",
              "      <td>984.51200</td>\n",
              "      <td>0.445333</td>\n",
              "      <td>562.031333</td>\n",
              "      <td>8.392667</td>\n",
              "      <td>102.247333</td>\n",
              "      <td>0.134000</td>\n",
              "      <td>41.210667</td>\n",
              "      <td>31.528667</td>\n",
              "      <td>32.255333</td>\n",
              "      <td>0.476667</td>\n",
              "    </tr>\n",
              "    <tr>\n",
              "      <th>std</th>\n",
              "      <td>0.659909</td>\n",
              "      <td>0.572865</td>\n",
              "      <td>905.53292</td>\n",
              "      <td>0.497168</td>\n",
              "      <td>265.690646</td>\n",
              "      <td>3.609131</td>\n",
              "      <td>62.987325</td>\n",
              "      <td>0.340766</td>\n",
              "      <td>13.202266</td>\n",
              "      <td>52.662099</td>\n",
              "      <td>94.307614</td>\n",
              "      <td>0.499622</td>\n",
              "    </tr>\n",
              "    <tr>\n",
              "      <th>min</th>\n",
              "      <td>0.000000</td>\n",
              "      <td>0.000000</td>\n",
              "      <td>300.00000</td>\n",
              "      <td>0.000000</td>\n",
              "      <td>300.000000</td>\n",
              "      <td>1.000000</td>\n",
              "      <td>50.000000</td>\n",
              "      <td>0.000000</td>\n",
              "      <td>19.000000</td>\n",
              "      <td>0.000000</td>\n",
              "      <td>0.000000</td>\n",
              "      <td>0.000000</td>\n",
              "    </tr>\n",
              "    <tr>\n",
              "      <th>25%</th>\n",
              "      <td>0.000000</td>\n",
              "      <td>0.000000</td>\n",
              "      <td>467.50000</td>\n",
              "      <td>0.000000</td>\n",
              "      <td>410.000000</td>\n",
              "      <td>6.000000</td>\n",
              "      <td>66.000000</td>\n",
              "      <td>0.000000</td>\n",
              "      <td>31.000000</td>\n",
              "      <td>6.000000</td>\n",
              "      <td>0.000000</td>\n",
              "      <td>0.000000</td>\n",
              "    </tr>\n",
              "    <tr>\n",
              "      <th>50%</th>\n",
              "      <td>0.000000</td>\n",
              "      <td>0.000000</td>\n",
              "      <td>650.00000</td>\n",
              "      <td>0.000000</td>\n",
              "      <td>490.000000</td>\n",
              "      <td>10.000000</td>\n",
              "      <td>83.000000</td>\n",
              "      <td>0.000000</td>\n",
              "      <td>39.000000</td>\n",
              "      <td>6.000000</td>\n",
              "      <td>0.000000</td>\n",
              "      <td>0.000000</td>\n",
              "    </tr>\n",
              "    <tr>\n",
              "      <th>75%</th>\n",
              "      <td>1.000000</td>\n",
              "      <td>0.000000</td>\n",
              "      <td>1200.00000</td>\n",
              "      <td>1.000000</td>\n",
              "      <td>618.000000</td>\n",
              "      <td>10.000000</td>\n",
              "      <td>118.000000</td>\n",
              "      <td>0.000000</td>\n",
              "      <td>52.000000</td>\n",
              "      <td>48.000000</td>\n",
              "      <td>0.000000</td>\n",
              "      <td>1.000000</td>\n",
              "    </tr>\n",
              "    <tr>\n",
              "      <th>max</th>\n",
              "      <td>3.000000</td>\n",
              "      <td>7.000000</td>\n",
              "      <td>8000.00000</td>\n",
              "      <td>1.000000</td>\n",
              "      <td>4000.000000</td>\n",
              "      <td>24.000000</td>\n",
              "      <td>711.000000</td>\n",
              "      <td>1.000000</td>\n",
              "      <td>70.000000</td>\n",
              "      <td>420.000000</td>\n",
              "      <td>1300.000000</td>\n",
              "      <td>1.000000</td>\n",
              "    </tr>\n",
              "  </tbody>\n",
              "</table>\n",
              "</div>"
            ],
            "text/plain": [
              "              ESCT         NDEP  ...      ENTRADA       CLASSE\n",
              "count  1500.000000  1500.000000  ...  1500.000000  1500.000000\n",
              "mean      0.512000     0.126667  ...    32.255333     0.476667\n",
              "std       0.659909     0.572865  ...    94.307614     0.499622\n",
              "min       0.000000     0.000000  ...     0.000000     0.000000\n",
              "25%       0.000000     0.000000  ...     0.000000     0.000000\n",
              "50%       0.000000     0.000000  ...     0.000000     0.000000\n",
              "75%       1.000000     0.000000  ...     0.000000     1.000000\n",
              "max       3.000000     7.000000  ...  1300.000000     1.000000\n",
              "\n",
              "[8 rows x 12 columns]"
            ]
          },
          "metadata": {
            "tags": []
          },
          "execution_count": 308
        }
      ]
    },
    {
      "cell_type": "markdown",
      "metadata": {
        "id": "1463H3H3CMXN"
      },
      "source": [
        "Confere-se e visualiza-se valores da variável Estado Civil (ESCT)"
      ]
    },
    {
      "cell_type": "code",
      "metadata": {
        "colab": {
          "base_uri": "https://localhost:8080/"
        },
        "id": "8zv3ybQJba4k",
        "outputId": "db9f57f3-e102-49f9-9787-61799635498b"
      },
      "source": [
        "\n",
        "\n",
        "\n",
        "print(data_train['ESCT'].head(5),\n",
        "      data_train['ESCT'].describe(),\n",
        "      sep='\\n\\n')\n",
        "\n",
        "\n",
        "print('\\nValores possíveis do atributo estado civil:')\n",
        "set(data_train['ESCT'])\n",
        "\n"
      ],
      "execution_count": null,
      "outputs": [
        {
          "output_type": "stream",
          "text": [
            "0    1\n",
            "1    0\n",
            "2    0\n",
            "3    0\n",
            "4    1\n",
            "Name: ESCT, dtype: int64\n",
            "\n",
            "count    1500.000000\n",
            "mean        0.512000\n",
            "std         0.659909\n",
            "min         0.000000\n",
            "25%         0.000000\n",
            "50%         0.000000\n",
            "75%         1.000000\n",
            "max         3.000000\n",
            "Name: ESCT, dtype: float64\n",
            "\n",
            "Valores possíveis do atributo estado civil:\n"
          ],
          "name": "stdout"
        },
        {
          "output_type": "execute_result",
          "data": {
            "text/plain": [
              "{0, 1, 2, 3}"
            ]
          },
          "metadata": {
            "tags": []
          },
          "execution_count": 309
        }
      ]
    },
    {
      "cell_type": "markdown",
      "metadata": {
        "id": "f2kfwN3Ox4dY"
      },
      "source": [
        "O método get_dummies da biblioteca pandas foi utitilizado para simplificar a transformação do conjunto de dados."
      ]
    },
    {
      "cell_type": "code",
      "metadata": {
        "colab": {
          "base_uri": "https://localhost:8080/",
          "height": 206
        },
        "id": "4jeMwYy7bfS-",
        "outputId": "edbd3b98-7305-44d3-c44f-459173bb1a95"
      },
      "source": [
        "\n",
        "\n",
        "\n",
        "data_train_ = pd.get_dummies(data=data_train,\n",
        "               prefix='ESCT',\n",
        "               columns=['ESCT'],\n",
        "               drop_first=True)\n",
        "\n",
        "data_train_.head()\n",
        "\n"
      ],
      "execution_count": null,
      "outputs": [
        {
          "output_type": "execute_result",
          "data": {
            "text/html": [
              "<div>\n",
              "<style scoped>\n",
              "    .dataframe tbody tr th:only-of-type {\n",
              "        vertical-align: middle;\n",
              "    }\n",
              "\n",
              "    .dataframe tbody tr th {\n",
              "        vertical-align: top;\n",
              "    }\n",
              "\n",
              "    .dataframe thead th {\n",
              "        text-align: right;\n",
              "    }\n",
              "</style>\n",
              "<table border=\"1\" class=\"dataframe\">\n",
              "  <thead>\n",
              "    <tr style=\"text-align: right;\">\n",
              "      <th></th>\n",
              "      <th>NDEP</th>\n",
              "      <th>RENDA</th>\n",
              "      <th>TIPOR</th>\n",
              "      <th>VBEM</th>\n",
              "      <th>NPARC</th>\n",
              "      <th>VPARC</th>\n",
              "      <th>TEL</th>\n",
              "      <th>IDADE</th>\n",
              "      <th>RESMS</th>\n",
              "      <th>ENTRADA</th>\n",
              "      <th>CLASSE</th>\n",
              "      <th>ESCT_1</th>\n",
              "      <th>ESCT_2</th>\n",
              "      <th>ESCT_3</th>\n",
              "    </tr>\n",
              "  </thead>\n",
              "  <tbody>\n",
              "    <tr>\n",
              "      <th>0</th>\n",
              "      <td>0</td>\n",
              "      <td>360</td>\n",
              "      <td>0</td>\n",
              "      <td>313</td>\n",
              "      <td>9</td>\n",
              "      <td>52</td>\n",
              "      <td>0</td>\n",
              "      <td>25</td>\n",
              "      <td>48</td>\n",
              "      <td>0</td>\n",
              "      <td>1</td>\n",
              "      <td>1</td>\n",
              "      <td>0</td>\n",
              "      <td>0</td>\n",
              "    </tr>\n",
              "    <tr>\n",
              "      <th>1</th>\n",
              "      <td>0</td>\n",
              "      <td>350</td>\n",
              "      <td>1</td>\n",
              "      <td>468</td>\n",
              "      <td>10</td>\n",
              "      <td>65</td>\n",
              "      <td>0</td>\n",
              "      <td>33</td>\n",
              "      <td>6</td>\n",
              "      <td>0</td>\n",
              "      <td>1</td>\n",
              "      <td>0</td>\n",
              "      <td>0</td>\n",
              "      <td>0</td>\n",
              "    </tr>\n",
              "    <tr>\n",
              "      <th>2</th>\n",
              "      <td>0</td>\n",
              "      <td>1100</td>\n",
              "      <td>0</td>\n",
              "      <td>829</td>\n",
              "      <td>9</td>\n",
              "      <td>125</td>\n",
              "      <td>0</td>\n",
              "      <td>56</td>\n",
              "      <td>48</td>\n",
              "      <td>0</td>\n",
              "      <td>1</td>\n",
              "      <td>0</td>\n",
              "      <td>0</td>\n",
              "      <td>0</td>\n",
              "    </tr>\n",
              "    <tr>\n",
              "      <th>3</th>\n",
              "      <td>0</td>\n",
              "      <td>3000</td>\n",
              "      <td>0</td>\n",
              "      <td>552</td>\n",
              "      <td>12</td>\n",
              "      <td>76</td>\n",
              "      <td>1</td>\n",
              "      <td>31</td>\n",
              "      <td>60</td>\n",
              "      <td>0</td>\n",
              "      <td>1</td>\n",
              "      <td>0</td>\n",
              "      <td>0</td>\n",
              "      <td>0</td>\n",
              "    </tr>\n",
              "    <tr>\n",
              "      <th>4</th>\n",
              "      <td>0</td>\n",
              "      <td>1000</td>\n",
              "      <td>0</td>\n",
              "      <td>809</td>\n",
              "      <td>12</td>\n",
              "      <td>111</td>\n",
              "      <td>0</td>\n",
              "      <td>24</td>\n",
              "      <td>7</td>\n",
              "      <td>0</td>\n",
              "      <td>1</td>\n",
              "      <td>1</td>\n",
              "      <td>0</td>\n",
              "      <td>0</td>\n",
              "    </tr>\n",
              "  </tbody>\n",
              "</table>\n",
              "</div>"
            ],
            "text/plain": [
              "   NDEP  RENDA  TIPOR  VBEM  NPARC  ...  ENTRADA  CLASSE  ESCT_1  ESCT_2  ESCT_3\n",
              "0     0    360      0   313      9  ...        0       1       1       0       0\n",
              "1     0    350      1   468     10  ...        0       1       0       0       0\n",
              "2     0   1100      0   829      9  ...        0       1       0       0       0\n",
              "3     0   3000      0   552     12  ...        0       1       0       0       0\n",
              "4     0   1000      0   809     12  ...        0       1       1       0       0\n",
              "\n",
              "[5 rows x 14 columns]"
            ]
          },
          "metadata": {
            "tags": []
          },
          "execution_count": 310
        }
      ]
    },
    {
      "cell_type": "code",
      "metadata": {
        "colab": {
          "base_uri": "https://localhost:8080/",
          "height": 206
        },
        "id": "VhdSGMP9biod",
        "outputId": "783410c8-9591-482a-a1b5-bc605ae7011b"
      },
      "source": [
        "\n",
        "\n",
        "data_test_ = pd.get_dummies(data=data_test,\n",
        "               prefix='ESCT',\n",
        "               columns=['ESCT'],\n",
        "               drop_first=True)\n",
        "\n",
        "data_test_.head()\n",
        "\n"
      ],
      "execution_count": null,
      "outputs": [
        {
          "output_type": "execute_result",
          "data": {
            "text/html": [
              "<div>\n",
              "<style scoped>\n",
              "    .dataframe tbody tr th:only-of-type {\n",
              "        vertical-align: middle;\n",
              "    }\n",
              "\n",
              "    .dataframe tbody tr th {\n",
              "        vertical-align: top;\n",
              "    }\n",
              "\n",
              "    .dataframe thead th {\n",
              "        text-align: right;\n",
              "    }\n",
              "</style>\n",
              "<table border=\"1\" class=\"dataframe\">\n",
              "  <thead>\n",
              "    <tr style=\"text-align: right;\">\n",
              "      <th></th>\n",
              "      <th>NDEP</th>\n",
              "      <th>RENDA</th>\n",
              "      <th>TIPOR</th>\n",
              "      <th>VBEM</th>\n",
              "      <th>NPARC</th>\n",
              "      <th>VPARC</th>\n",
              "      <th>TEL</th>\n",
              "      <th>IDADE</th>\n",
              "      <th>RESMS</th>\n",
              "      <th>ENTRADA</th>\n",
              "      <th>CLASSE</th>\n",
              "      <th>ESCT_1</th>\n",
              "      <th>ESCT_2</th>\n",
              "      <th>ESCT_3</th>\n",
              "    </tr>\n",
              "  </thead>\n",
              "  <tbody>\n",
              "    <tr>\n",
              "      <th>0</th>\n",
              "      <td>2</td>\n",
              "      <td>500</td>\n",
              "      <td>1</td>\n",
              "      <td>618</td>\n",
              "      <td>10</td>\n",
              "      <td>85</td>\n",
              "      <td>0</td>\n",
              "      <td>36</td>\n",
              "      <td>6</td>\n",
              "      <td>0</td>\n",
              "      <td>0</td>\n",
              "      <td>0</td>\n",
              "      <td>0</td>\n",
              "      <td>0</td>\n",
              "    </tr>\n",
              "    <tr>\n",
              "      <th>1</th>\n",
              "      <td>0</td>\n",
              "      <td>813</td>\n",
              "      <td>0</td>\n",
              "      <td>552</td>\n",
              "      <td>4</td>\n",
              "      <td>119</td>\n",
              "      <td>0</td>\n",
              "      <td>43</td>\n",
              "      <td>48</td>\n",
              "      <td>119</td>\n",
              "      <td>1</td>\n",
              "      <td>1</td>\n",
              "      <td>0</td>\n",
              "      <td>0</td>\n",
              "    </tr>\n",
              "    <tr>\n",
              "      <th>2</th>\n",
              "      <td>0</td>\n",
              "      <td>350</td>\n",
              "      <td>0</td>\n",
              "      <td>488</td>\n",
              "      <td>12</td>\n",
              "      <td>66</td>\n",
              "      <td>0</td>\n",
              "      <td>43</td>\n",
              "      <td>0</td>\n",
              "      <td>0</td>\n",
              "      <td>1</td>\n",
              "      <td>0</td>\n",
              "      <td>0</td>\n",
              "      <td>1</td>\n",
              "    </tr>\n",
              "    <tr>\n",
              "      <th>3</th>\n",
              "      <td>0</td>\n",
              "      <td>1530</td>\n",
              "      <td>0</td>\n",
              "      <td>381</td>\n",
              "      <td>1</td>\n",
              "      <td>398</td>\n",
              "      <td>0</td>\n",
              "      <td>28</td>\n",
              "      <td>48</td>\n",
              "      <td>0</td>\n",
              "      <td>1</td>\n",
              "      <td>1</td>\n",
              "      <td>0</td>\n",
              "      <td>0</td>\n",
              "    </tr>\n",
              "    <tr>\n",
              "      <th>4</th>\n",
              "      <td>0</td>\n",
              "      <td>688</td>\n",
              "      <td>1</td>\n",
              "      <td>396</td>\n",
              "      <td>10</td>\n",
              "      <td>60</td>\n",
              "      <td>0</td>\n",
              "      <td>49</td>\n",
              "      <td>72</td>\n",
              "      <td>0</td>\n",
              "      <td>1</td>\n",
              "      <td>0</td>\n",
              "      <td>0</td>\n",
              "      <td>0</td>\n",
              "    </tr>\n",
              "  </tbody>\n",
              "</table>\n",
              "</div>"
            ],
            "text/plain": [
              "   NDEP  RENDA  TIPOR  VBEM  NPARC  ...  ENTRADA  CLASSE  ESCT_1  ESCT_2  ESCT_3\n",
              "0     2    500      1   618     10  ...        0       0       0       0       0\n",
              "1     0    813      0   552      4  ...      119       1       1       0       0\n",
              "2     0    350      0   488     12  ...        0       1       0       0       1\n",
              "3     0   1530      0   381      1  ...        0       1       1       0       0\n",
              "4     0    688      1   396     10  ...        0       1       0       0       0\n",
              "\n",
              "[5 rows x 14 columns]"
            ]
          },
          "metadata": {
            "tags": []
          },
          "execution_count": 311
        }
      ]
    },
    {
      "cell_type": "markdown",
      "metadata": {
        "id": "5cS0VPSox-Nx"
      },
      "source": [
        "Após a transformação, atributos e classes alvo serão separados os atributosem novas variáveis para processamento pelos algoritmos desejados."
      ]
    },
    {
      "cell_type": "code",
      "metadata": {
        "colab": {
          "base_uri": "https://localhost:8080/"
        },
        "id": "t74dpjLMblYM",
        "outputId": "d4fd5328-fa63-4e28-87ef-815d6c569d9e"
      },
      "source": [
        "#Separação da variável alvo não muda\n",
        "##=======================================\n",
        "\n",
        "#Transoformação dos atributos e da classe alvo em matrizes\n",
        "y_train_ = np.array(data_train['CLASSE'])\n",
        "\n",
        "#Transformação dos atributos e da classe alvo em matrizes\n",
        "y_test = np.array(data_test['CLASSE'])\n",
        "\n",
        "#Checagem da matriz\n",
        "print(y_train_[:10],\n",
        "      y_test[:10],\n",
        "      sep='\\n\\n')"
      ],
      "execution_count": null,
      "outputs": [
        {
          "output_type": "stream",
          "text": [
            "[1 1 1 1 1 1 0 1 0 1]\n",
            "\n",
            "[0 1 1 1 1 0 0 1 0 1]\n"
          ],
          "name": "stdout"
        }
      ]
    },
    {
      "cell_type": "markdown",
      "metadata": {
        "id": "ZOQogw8zyAhY"
      },
      "source": [
        "A separação dos atributos deve observar a ordem das colunas alteradas"
      ]
    },
    {
      "cell_type": "code",
      "metadata": {
        "id": "sXUe5f1gbn5W"
      },
      "source": [
        "\n",
        "\n",
        "#Recuperando nomes das colunas\n",
        "atributos = list(data_train_.columns)\n",
        "\n",
        "#Eliminação de colunas com a classe na lista de atributos\n",
        "atributos.remove('CLASSE')"
      ],
      "execution_count": null,
      "outputs": []
    },
    {
      "cell_type": "markdown",
      "metadata": {
        "id": "u727TtMvyDPp"
      },
      "source": [
        "Uso da lista de atributos para separação do conjunto de dados:"
      ]
    },
    {
      "cell_type": "code",
      "metadata": {
        "id": "wDTyZR5gbqSV"
      },
      "source": [
        "\n",
        "\n",
        "#Transoformação dos atributos e da classe alvo em matrizes\n",
        "X_train_ = np.array(data_train_.loc[:, atributos])\n",
        "\n",
        "#Transformação dos atributos e da classe alvo em matrizes\n",
        "X_test = np.array(data_test_.loc[:, atributos])"
      ],
      "execution_count": null,
      "outputs": []
    },
    {
      "cell_type": "markdown",
      "metadata": {
        "id": "mVnIPDJfyInI"
      },
      "source": [
        "Separação de treino e validação sem alteração"
      ]
    },
    {
      "cell_type": "code",
      "metadata": {
        "colab": {
          "base_uri": "https://localhost:8080/"
        },
        "id": "9gixwP0wblUl",
        "outputId": "0f0399be-ef49-483c-9582-e23f710fde93"
      },
      "source": [
        "\n",
        "\n",
        "#Separação de treino e validação\n",
        "X_train, X_val, y_train, y_val = train_test_split(X_train_, y_train_,\n",
        "                                                  train_size=0.8,\n",
        "                                                  random_state=31)\n",
        "\n",
        "#Checagem das dimensões dos conjuntos após separação\n",
        "print(X_train.shape, y_train.shape,\n",
        "      X_val.shape, y_val.shape)"
      ],
      "execution_count": null,
      "outputs": [
        {
          "output_type": "stream",
          "text": [
            "(1200, 13) (1200,) (300, 13) (300,)\n"
          ],
          "name": "stdout"
        }
      ]
    },
    {
      "cell_type": "markdown",
      "metadata": {
        "id": "aBkllSA1yLgI"
      },
      "source": [
        "Visualização dos dados carregados."
      ]
    },
    {
      "cell_type": "code",
      "metadata": {
        "colab": {
          "base_uri": "https://localhost:8080/"
        },
        "id": "mxizqP6CblR7",
        "outputId": "3ae0b2d2-2054-4ec2-da13-936d3cc3f1dd"
      },
      "source": [
        "\n",
        "print(X_train[:5],\n",
        "      X_val[:5],\n",
        "      X_test[:5],\n",
        "      sep='\\n\\n')"
      ],
      "execution_count": null,
      "outputs": [
        {
          "output_type": "stream",
          "text": [
            "[[   0  649    1  311    2   69    1   40    0  190    1    0    0]\n",
            " [   0  610    0  365    5   61    0   62   48   61    0    0    0]\n",
            " [   0 1500    0 1099    2  334    0   58    0  438    0    0    0]\n",
            " [   0 1000    0  471    3  176    1   45  240    0    1    0    0]\n",
            " [   0  322    1  469   10   72    1   40    0    0    0    0    0]]\n",
            "\n",
            "[[   0  300    1  629   12   55    1   54   60  230    0    0    0]\n",
            " [   0  600    1  540   12   73    0   28    6    0    1    0    0]\n",
            " [   0  317    1  459   12   63    1   57  264    0    0    0    0]\n",
            " [   0  800    0  399    3  149    1   57    0    0    0    0    0]\n",
            " [   0 3000    0  360    1  376    0   43   48    0    1    0    0]]\n",
            "\n",
            "[[   2  500    1  618   10   85    0   36    6    0    0    0    0]\n",
            " [   0  813    0  552    4  119    0   43   48  119    1    0    0]\n",
            " [   0  350    0  488   12   66    0   43    0    0    0    0    1]\n",
            " [   0 1530    0  381    1  398    0   28   48    0    1    0    0]\n",
            " [   0  688    1  396   10   60    0   49   72    0    0    0    0]]\n"
          ],
          "name": "stdout"
        }
      ]
    },
    {
      "cell_type": "markdown",
      "metadata": {
        "id": "7y7DtcveyOuA"
      },
      "source": [
        "Criação do transformador para noramlização"
      ]
    },
    {
      "cell_type": "code",
      "metadata": {
        "id": "GxRhpSsRblNu"
      },
      "source": [
        "\n",
        "norm = StandardScaler()\n",
        "\n",
        "#Normalização das características\n",
        "X_train_ = norm.fit_transform(X_train_)\n",
        "X_train = norm.fit_transform(X_train)\n",
        "X_test = norm.fit_transform(X_test)\n",
        "X_val = norm.fit_transform(X_val)"
      ],
      "execution_count": null,
      "outputs": []
    },
    {
      "cell_type": "code",
      "metadata": {
        "id": "uXzirG5saT1U"
      },
      "source": [
        "#Conjunto de treino original\n",
        "X_train_ = Variable(torch.Tensor(X_train_).float())\n",
        "y_train_ = Variable(torch.Tensor(y_train_).long())\n",
        "\n",
        "#Atributos de treino e validação\n",
        "X_train = Variable(torch.Tensor(X_train).float())\n",
        "X_val = Variable(torch.Tensor(X_val).float())\n",
        "\n",
        "#Classes de treino e validação\n",
        "y_train = Variable(torch.Tensor(y_train).long())\n",
        "y_val = Variable(torch.Tensor(y_val).long())\n",
        "\n",
        "#Atributos e classes de teste\n",
        "X_test = Variable(torch.Tensor(X_test).float())\n",
        "y_test = Variable(torch.Tensor(y_test).long())"
      ],
      "execution_count": null,
      "outputs": []
    },
    {
      "cell_type": "markdown",
      "metadata": {
        "id": "aNANpa2LyS0a"
      },
      "source": [
        "Visualização dos dados"
      ]
    },
    {
      "cell_type": "code",
      "metadata": {
        "colab": {
          "base_uri": "https://localhost:8080/"
        },
        "id": "lRoUkmWZaW92",
        "outputId": "86122540-7ca0-4169-e93a-68d42e74433a"
      },
      "source": [
        "\n",
        "print(X_train[:5],\n",
        "      X_val[:5],\n",
        "      X_test[:5],\n",
        "      y_train[:5],\n",
        "      y_val[:5],\n",
        "      y_test[:5],\n",
        "      sep='\\n\\n')"
      ],
      "execution_count": null,
      "outputs": [
        {
          "output_type": "stream",
          "text": [
            "tensor([[-0.2257, -0.3653,  1.0871, -1.0437, -1.7619, -0.5321,  2.6159, -0.1014,\n",
            "         -0.5868,  1.6098,  1.2205, -0.1398, -0.1546],\n",
            "        [-0.2257, -0.4116, -0.9199, -0.8172, -0.9354, -0.6606, -0.3823,  1.5753,\n",
            "          0.3224,  0.2932, -0.8193, -0.1398, -0.1546],\n",
            "        [-0.2257,  0.6453, -0.9199,  2.2612, -1.7619,  3.7251, -0.3823,  1.2704,\n",
            "         -0.5868,  4.1410, -0.8193, -0.1398, -0.1546],\n",
            "        [-0.2257,  0.0515, -0.9199, -0.3727, -1.4864,  1.1868,  2.6159,  0.2797,\n",
            "          3.9596, -0.3294,  1.2205, -0.1398, -0.1546],\n",
            "        [-0.2257, -0.7536,  1.0871, -0.3810,  0.4422, -0.4839,  2.6159, -0.1014,\n",
            "         -0.5868, -0.3294, -0.8193, -0.1398, -0.1546]])\n",
            "\n",
            "tensor([[-0.2032, -0.7134,  1.2419,  0.1646,  1.0275, -0.7261,  2.2913,  0.9835,\n",
            "          0.5051,  2.5452, -0.8108, -0.1302, -0.1759],\n",
            "        [-0.2032, -0.4445,  1.2419, -0.0869,  1.0275, -0.4524, -0.4364, -0.9440,\n",
            "         -0.5332, -0.4139,  1.2333, -0.1302, -0.1759],\n",
            "        [-0.2032, -0.6981,  1.2419, -0.3158,  1.0275, -0.6044,  2.2913,  1.2060,\n",
            "          4.4278, -0.4139, -0.8108, -0.1302, -0.1759],\n",
            "        [-0.2032, -0.2653, -0.8052, -0.4853, -1.5294,  0.7034,  2.2913,  1.2060,\n",
            "         -0.6486, -0.4139, -0.8108, -0.1302, -0.1759],\n",
            "        [-0.2032,  1.7062, -0.8052, -0.5955, -2.0976,  4.1554, -0.4364,  0.1680,\n",
            "          0.2744, -0.4139,  1.2333, -0.1302, -0.1759]])\n",
            "\n",
            "tensor([[ 3.6940, -0.4917,  1.1003,  0.1409,  0.4402, -0.2773, -0.3563, -0.3853,\n",
            "         -0.4649, -0.2925, -0.8171, -0.1394, -0.1943],\n",
            "        [-0.2169, -0.1343, -0.9088, -0.0465, -1.2127,  0.2254, -0.3563,  0.1345,\n",
            "          0.3742,  1.0194,  1.2239, -0.1394, -0.1943],\n",
            "        [-0.2169, -0.6629, -0.9088, -0.2282,  0.9912, -0.5582, -0.3563,  0.1345,\n",
            "         -0.5847, -0.2925, -0.8171, -0.1394,  5.1455],\n",
            "        [-0.2169,  0.6843, -0.9088, -0.5319, -2.0392,  4.3506, -0.3563, -0.9794,\n",
            "          0.3742, -0.2925,  1.2239, -0.1394, -0.1943],\n",
            "        [-0.2169, -0.2770,  1.1003, -0.4893,  0.4402, -0.6469, -0.3563,  0.5801,\n",
            "          0.8536, -0.2925, -0.8171, -0.1394, -0.1943]])\n",
            "\n",
            "tensor([0, 0, 0, 1, 0])\n",
            "\n",
            "tensor([0, 1, 0, 0, 1])\n",
            "\n",
            "tensor([0, 1, 1, 1, 1])\n"
          ],
          "name": "stdout"
        }
      ]
    },
    {
      "cell_type": "markdown",
      "metadata": {
        "id": "fDjiaadQb621"
      },
      "source": [
        "###3.1.2 Criação da Rede Neural MLP sem sintonização de hiperparâmetros"
      ]
    },
    {
      "cell_type": "markdown",
      "metadata": {
        "id": "T-6xdwIRKX9T"
      },
      "source": [
        "Redes neurais com uma ou mais camadas ocultas e npumero indeterminado de neurônios são denominadas Perceptron Multicamadas (PMC ou MLP — Multi Layer Perceptron). A camada oculta possui esse nome pois não é possível prever a saída desejada nas camadas intermediárias. O algoritmo mais utilizado em seus treinamentos o de retropropagação (Backpropagation)"
      ]
    },
    {
      "cell_type": "markdown",
      "metadata": {
        "id": "4Ob8anbfLQ_r"
      },
      "source": [
        " Definição da Rede Neural\n",
        "  Parametros:\n",
        "  * dimX int: Entradas na primeira camada (quantidade de atributos)\n",
        "  * nC int:  Neurônios de saída (quantidade de classes possíveis)\n",
        "  * neur int: Neurônios na camada oculta"
      ]
    },
    {
      "cell_type": "code",
      "metadata": {
        "id": "EndCoBydb-tk"
      },
      "source": [
        "class Net(nn.Module):\n",
        "  # Define nn\n",
        "  def __init__(self, dimX, nC, neur):\n",
        "    \"\"\"\n",
        "    Definição da Rede Neural\n",
        "    Parametros:\n",
        "    dimX int: Entradas na primeira camada (quantidade de atributos)\n",
        "    nC int:  Neurônios de saída (quantidade de classes possíveis)\n",
        "    neur int: Neurônios na camada oculta\n",
        "    \"\"\"\n",
        "    super(Net, self).__init__()\n",
        "\n",
        "    ##Camada oculta\n",
        "    ##==============\n",
        "    #Recebe neurônios = quantidade de atributos\n",
        "    #Entrega quantidade de neurônios da camada oculta\n",
        "    self.fc1 = nn.Linear(dimX, neur)\n",
        "\n",
        "    ##Camada de saída\n",
        "    ##==============\n",
        "    #Recebe neurônios da camada oculta\n",
        "    #Entrega quantidade de neurônios das classes possíveis\n",
        "    self.fc2 = nn.Linear(neur, nC)\n",
        "\n",
        "    #Uso da função Sigmoid para classificação binária\n",
        "    self.output = nn.Sigmoid()\n",
        "\n",
        "  def forward(self, X):\n",
        "    \"\"\"\n",
        "    Definição do passo forward\n",
        "    \"\"\"\n",
        "    X = F.relu(self.fc1(X))\n",
        "    X = F.relu(self.fc2(X))\n",
        "    X = self.output(X)\n",
        "\n",
        "    return X"
      ],
      "execution_count": null,
      "outputs": []
    },
    {
      "cell_type": "markdown",
      "metadata": {
        "id": "SjaGNepnLdgn"
      },
      "source": [
        "Ajustes manuais para definição dos hiperparâmetros. Uma técnica de sintonização de hiperparâmetros será utilizada ao final da seção. Inicialmente ela deve ser explorada  fim de encontrar a forma mais simples com suas  defnições arbitrárias."
      ]
    },
    {
      "cell_type": "code",
      "metadata": {
        "colab": {
          "base_uri": "https://localhost:8080/"
        },
        "id": "0lDiXJ8KcCdQ",
        "outputId": "64f43a2f-b4ea-405e-eadc-d4b1b9a051b0"
      },
      "source": [
        "\n",
        "\n",
        "##Parâmetros baseados nos conjuntos de dados\n",
        "##============================================\n",
        "\n",
        "#Quantidade de atributos do conjunto de dados\n",
        "attr_N = X_train.shape[1]\n",
        "\n",
        "#Quantidade de classes possíveis do conjunto de dados\n",
        "out_Classes = 2\n",
        "\n",
        "\n",
        "\"\"\"\n",
        "Ajuste manual dos parâmetros: Início lr = 0.001, 100 neurônios na camada oculta\n",
        "Mantido lr e alterado número de neurônios para 200\n",
        "\"\"\"\n",
        "##Parâmetros definidos arbitrariamente\n",
        "##============================================\n",
        "NUM_NEUR = 200 #Neurônios na camada oculta\n",
        "NUM_EPOCHS = 1000 #Número de épocas\n",
        "LEARNING_R = 0.001 #Taxa de aprendizagem\n",
        "\n",
        "\n",
        "print('Qtde. Atributos de entrada:', attr_N,\n",
        "      '\\nQtde. Classes alvo:', out_Classes,\n",
        "      '\\nNeurônios na camada oculta:', NUM_NEUR,\n",
        "      '\\nNúmero de épocas:', NUM_EPOCHS,\n",
        "      '\\nTaxa de aprendizagem:', LEARNING_R)"
      ],
      "execution_count": null,
      "outputs": [
        {
          "output_type": "stream",
          "text": [
            "Qtde. Atributos de entrada: 13 \n",
            "Qtde. Classes alvo: 2 \n",
            "Neurônios na camada oculta: 200 \n",
            "Número de épocas: 1000 \n",
            "Taxa de aprendizagem: 0.001\n"
          ],
          "name": "stdout"
        }
      ]
    },
    {
      "cell_type": "markdown",
      "metadata": {
        "id": "ZsMEYjc3L3XU"
      },
      "source": [
        "Criação do objeto com a classe da Rede Neural e visualização da arquitetura da Rede Neural:cd"
      ]
    },
    {
      "cell_type": "code",
      "metadata": {
        "colab": {
          "base_uri": "https://localhost:8080/"
        },
        "id": "nq3wgfVucF5l",
        "outputId": "0412f840-d484-4ced-e642-ee6b63c71fc3"
      },
      "source": [
        "\n",
        "\n",
        "net = Net(attr_N, out_Classes, NUM_NEUR)\n",
        "\n",
        "\n",
        "print('Arquitetura da Rede Neural:\\n', net)\n",
        "\n"
      ],
      "execution_count": null,
      "outputs": [
        {
          "output_type": "stream",
          "text": [
            "Arquitetura da Rede Neural:\n",
            " Net(\n",
            "  (fc1): Linear(in_features=13, out_features=200, bias=True)\n",
            "  (fc2): Linear(in_features=200, out_features=2, bias=True)\n",
            "  (output): Sigmoid()\n",
            ")\n"
          ],
          "name": "stdout"
        }
      ]
    },
    {
      "cell_type": "markdown",
      "metadata": {
        "id": "RSeHt8eqC5CR"
      },
      "source": [
        "Parâmetros baseados em algoritmos ou funções das bibliotecas"
      ]
    },
    {
      "cell_type": "code",
      "metadata": {
        "id": "Ae-czj21cJ3u"
      },
      "source": [
        "\n",
        "#Entropia cruzada como função de custo - Problema de classificação\n",
        "criterion = nn.CrossEntropyLoss()\n",
        "\n",
        "#Configuração do otimizador - SGD\n",
        "optimizer = torch.optim.SGD(net.parameters(), lr = LEARNING_R)"
      ],
      "execution_count": null,
      "outputs": []
    },
    {
      "cell_type": "markdown",
      "metadata": {
        "id": "WsVknNwbcL-m"
      },
      "source": [
        "TREINAMENTO DA REDE NEURAL"
      ]
    },
    {
      "cell_type": "code",
      "metadata": {
        "colab": {
          "base_uri": "https://localhost:8080/"
        },
        "id": "XjrCG-hEcOe1",
        "outputId": "833c2f83-f97e-4e35-e1e0-589715489587"
      },
      "source": [
        "\n",
        "\n",
        "# loop to train the neural net\n",
        "for epoch in range(NUM_EPOCHS):\n",
        "    optimizer.zero_grad()\n",
        "    out = net(X_train)\n",
        "    loss = criterion(out, y_train)\n",
        "    loss.backward()\n",
        "    optimizer.step()\n",
        "    \n",
        "    if epoch % 100 == 0:\n",
        "        print('At epoch %d the loss is %f' % (epoch, loss.data.item()))"
      ],
      "execution_count": null,
      "outputs": [
        {
          "output_type": "stream",
          "text": [
            "At epoch 0 the loss is 0.693609\n",
            "At epoch 100 the loss is 0.692175\n",
            "At epoch 200 the loss is 0.690860\n",
            "At epoch 300 the loss is 0.689640\n",
            "At epoch 400 the loss is 0.688506\n",
            "At epoch 500 the loss is 0.687308\n",
            "At epoch 600 the loss is 0.686017\n",
            "At epoch 700 the loss is 0.684602\n",
            "At epoch 800 the loss is 0.683117\n",
            "At epoch 900 the loss is 0.681587\n"
          ],
          "name": "stdout"
        }
      ]
    },
    {
      "cell_type": "markdown",
      "metadata": {
        "id": "RznQfMVvDBeg"
      },
      "source": [
        "Verificação da forma da saída da rede"
      ]
    },
    {
      "cell_type": "code",
      "metadata": {
        "colab": {
          "base_uri": "https://localhost:8080/"
        },
        "id": "frxjESLncTWe",
        "outputId": "5564b803-68cb-45ac-9593-4ace1dda5f79"
      },
      "source": [
        "\n",
        "out[:10]"
      ],
      "execution_count": null,
      "outputs": [
        {
          "output_type": "execute_result",
          "data": {
            "text/plain": [
              "tensor([[0.5695, 0.5000],\n",
              "        [0.5544, 0.5000],\n",
              "        [0.7172, 0.5000],\n",
              "        [0.5247, 0.5000],\n",
              "        [0.5046, 0.5000],\n",
              "        [0.5242, 0.5000],\n",
              "        [0.5061, 0.5366],\n",
              "        [0.6188, 0.5000],\n",
              "        [0.6312, 0.5119],\n",
              "        [0.6279, 0.5000]], grad_fn=<SliceBackward>)"
            ]
          },
          "metadata": {
            "tags": []
          },
          "execution_count": 325
        }
      ]
    },
    {
      "cell_type": "markdown",
      "metadata": {
        "id": "uArywQLIcWDZ"
      },
      "source": [
        "PREDIÇÃO E AVALIAÇÃO DA REDE NEURAL COM DADOS DE VALIDAÇÃO"
      ]
    },
    {
      "cell_type": "markdown",
      "metadata": {
        "id": "wwif5LKaDGM6"
      },
      "source": [
        "Executando predições no conjunto de validação\n",
        "Cada predição é composta por um par (predição para cada classe)"
      ]
    },
    {
      "cell_type": "code",
      "metadata": {
        "id": "5ibuRrnFcWlO"
      },
      "source": [
        "\n",
        "predict_out = net(X_val)\n",
        "\n",
        "\n",
        "#Recupera-se como valor predito o maior de cada par predito\n",
        "_, predict_y = torch.max(predict_out, 1)"
      ],
      "execution_count": null,
      "outputs": []
    },
    {
      "cell_type": "markdown",
      "metadata": {
        "id": "4yjpWLLYDPnp"
      },
      "source": [
        "Avaliação da Rede Neural nos dados de validação. Comandos para visualização da matriz de confusão e classification report:"
      ]
    },
    {
      "cell_type": "code",
      "metadata": {
        "colab": {
          "base_uri": "https://localhost:8080/"
        },
        "id": "K00VkWU_cZ_o",
        "outputId": "590179f3-92eb-4be2-85c9-0378d095b839"
      },
      "source": [
        "\n",
        "\n",
        "\n",
        "\n",
        "#Matriz de confusão\n",
        "print('Matriz de confusão')\n",
        "print(confusion_matrix(y_val.data, predict_y.data))\n",
        "\n",
        "#Relatório de avaliação da classificação\n",
        "print('-' * 60, end='\\n\\n')\n",
        "print('Relatório de avaliação da classificação')\n",
        "print(classification_report(y_val.data, predict_y.data,\n",
        "                            zero_division=0))\n",
        "\n"
      ],
      "execution_count": null,
      "outputs": [
        {
          "output_type": "stream",
          "text": [
            "Matriz de confusão\n",
            "[[127  22]\n",
            " [ 69  82]]\n",
            "------------------------------------------------------------\n",
            "\n",
            "Relatório de avaliação da classificação\n",
            "              precision    recall  f1-score   support\n",
            "\n",
            "           0       0.65      0.85      0.74       149\n",
            "           1       0.79      0.54      0.64       151\n",
            "\n",
            "    accuracy                           0.70       300\n",
            "   macro avg       0.72      0.70      0.69       300\n",
            "weighted avg       0.72      0.70      0.69       300\n",
            "\n"
          ],
          "name": "stdout"
        }
      ]
    },
    {
      "cell_type": "markdown",
      "metadata": {
        "id": "B1O4DW6occq3"
      },
      "source": [
        "APLICAÇÃO DA REDE NEURAL PARA PREDIÇÃO NOS DADOS DE TESTE"
      ]
    },
    {
      "cell_type": "markdown",
      "metadata": {
        "id": "VQraKidRDbzS"
      },
      "source": [
        "Executando predições no conjunto de validação Cada predição é composta por um par (predição para cada classe)"
      ]
    },
    {
      "cell_type": "code",
      "metadata": {
        "id": "NvK6xIB4cdSc"
      },
      "source": [
        "\n",
        "predict_out = net(X_test)\n",
        "\n",
        "\n",
        "#Recupera como valor predito o maior de cada par predito\n",
        "_, predict_y = torch.max(predict_out, 1)"
      ],
      "execution_count": null,
      "outputs": []
    },
    {
      "cell_type": "markdown",
      "metadata": {
        "id": "y9uyWClQDlQ4"
      },
      "source": [
        "Avaliação da Rede Neural nos dados de validação. Comandos para visualização da matriz de confusão e classification report:"
      ]
    },
    {
      "cell_type": "code",
      "metadata": {
        "colab": {
          "base_uri": "https://localhost:8080/"
        },
        "id": "8CMnvAhAcjBk",
        "outputId": "dc2524b9-3866-4e3e-a1ea-6f9ff4f88fc0"
      },
      "source": [
        "#Avaliação da Rede Neural nos dados de teste\n",
        "\n",
        "#Matriz de confusão\n",
        "print('Matriz de confusão')\n",
        "print(confusion_matrix(y_test.data, predict_y.data))\n",
        "\n",
        "\n",
        "#Relatório de avaliação da classificação\n",
        "print('-' * 60, end='\\n\\n')\n",
        "print('Relatório de avaliação da classificação')\n",
        "print(classification_report(y_test.data, predict_y.data,\n",
        "                            zero_division=0))"
      ],
      "execution_count": null,
      "outputs": [
        {
          "output_type": "stream",
          "text": [
            "Matriz de confusão\n",
            "[[244  62]\n",
            " [134 137]]\n",
            "------------------------------------------------------------\n",
            "\n",
            "Relatório de avaliação da classificação\n",
            "              precision    recall  f1-score   support\n",
            "\n",
            "           0       0.65      0.80      0.71       306\n",
            "           1       0.69      0.51      0.58       271\n",
            "\n",
            "    accuracy                           0.66       577\n",
            "   macro avg       0.67      0.65      0.65       577\n",
            "weighted avg       0.67      0.66      0.65       577\n",
            "\n"
          ],
          "name": "stdout"
        }
      ]
    },
    {
      "cell_type": "markdown",
      "metadata": {
        "id": "iV-VgjteEL9x"
      },
      "source": [
        "Visualização dos valores da saída da rede neural"
      ]
    },
    {
      "cell_type": "code",
      "metadata": {
        "colab": {
          "base_uri": "https://localhost:8080/"
        },
        "id": "ehFbPEtKci40",
        "outputId": "721583c8-82c2-47b3-d107-cf675d86ffdc"
      },
      "source": [
        "\n",
        "predict_out[:10]"
      ],
      "execution_count": null,
      "outputs": [
        {
          "output_type": "execute_result",
          "data": {
            "text/plain": [
              "tensor([[0.5944, 0.5000],\n",
              "        [0.5439, 0.5539],\n",
              "        [0.5827, 0.5000],\n",
              "        [0.5730, 0.5107],\n",
              "        [0.5418, 0.5000],\n",
              "        [0.5286, 0.5000],\n",
              "        [0.5000, 0.5301],\n",
              "        [0.5000, 0.5164],\n",
              "        [0.5000, 0.5060],\n",
              "        [0.5000, 0.5365]], grad_fn=<SliceBackward>)"
            ]
          },
          "metadata": {
            "tags": []
          },
          "execution_count": 330
        }
      ]
    },
    {
      "cell_type": "markdown",
      "metadata": {
        "id": "bCjVOM4_EN_6"
      },
      "source": [
        "Visualização das classes preditas"
      ]
    },
    {
      "cell_type": "code",
      "metadata": {
        "colab": {
          "base_uri": "https://localhost:8080/"
        },
        "id": "Gx-3JSLtcpRF",
        "outputId": "ac381725-4648-41f5-80c7-e6ecd7724967"
      },
      "source": [
        "\n",
        "predict_y[:10]"
      ],
      "execution_count": null,
      "outputs": [
        {
          "output_type": "execute_result",
          "data": {
            "text/plain": [
              "tensor([0, 1, 0, 0, 0, 0, 1, 1, 1, 1])"
            ]
          },
          "metadata": {
            "tags": []
          },
          "execution_count": 331
        }
      ]
    },
    {
      "cell_type": "markdown",
      "metadata": {
        "id": "AQT6jPpMcr5s"
      },
      "source": [
        "\n",
        "3.1.3 Criação da Rede Neural MLP com sintonização de hiperparâmetros"
      ]
    },
    {
      "cell_type": "markdown",
      "metadata": {
        "id": "_7lfmVZuESG8"
      },
      "source": [
        "Instalação de bibliotecas necessárias"
      ]
    },
    {
      "cell_type": "code",
      "metadata": {
        "colab": {
          "base_uri": "https://localhost:8080/"
        },
        "id": "ZGRVVrkFczPU",
        "outputId": "6f778d82-1aa3-46a6-de31-005597a63ae7"
      },
      "source": [
        "#Integração da sintonização no Pythorch\n",
        "!pip install skorch\n",
        "\n",
        "#Para adaptação sintonização de Hiperparâmetro ao Pytorch\n",
        "from skorch import NeuralNetClassifier\n",
        "#Para sintonização de Hiperparâmetro\n",
        "from sklearn.model_selection import GridSearchCV"
      ],
      "execution_count": null,
      "outputs": [
        {
          "output_type": "stream",
          "text": [
            "Collecting skorch\n",
            "\u001b[?25l  Downloading https://files.pythonhosted.org/packages/78/bd/f714a726f2f3106abe5a24d11b1fe8e20570323479164b829f5d4b80f7f2/skorch-0.10.0-py3-none-any.whl (128kB)\n",
            "\r\u001b[K     |██▌                             | 10kB 18.8MB/s eta 0:00:01\r\u001b[K     |█████                           | 20kB 18.6MB/s eta 0:00:01\r\u001b[K     |███████▋                        | 30kB 15.0MB/s eta 0:00:01\r\u001b[K     |██████████▏                     | 40kB 13.3MB/s eta 0:00:01\r\u001b[K     |████████████▊                   | 51kB 8.0MB/s eta 0:00:01\r\u001b[K     |███████████████▎                | 61kB 8.1MB/s eta 0:00:01\r\u001b[K     |█████████████████▉              | 71kB 8.7MB/s eta 0:00:01\r\u001b[K     |████████████████████▍           | 81kB 9.7MB/s eta 0:00:01\r\u001b[K     |███████████████████████         | 92kB 9.1MB/s eta 0:00:01\r\u001b[K     |█████████████████████████▍      | 102kB 7.7MB/s eta 0:00:01\r\u001b[K     |████████████████████████████    | 112kB 7.7MB/s eta 0:00:01\r\u001b[K     |██████████████████████████████▌ | 122kB 7.7MB/s eta 0:00:01\r\u001b[K     |████████████████████████████████| 133kB 7.7MB/s \n",
            "\u001b[?25hRequirement already satisfied: tqdm>=4.14.0 in /usr/local/lib/python3.7/dist-packages (from skorch) (4.41.1)\n",
            "Requirement already satisfied: tabulate>=0.7.7 in /usr/local/lib/python3.7/dist-packages (from skorch) (0.8.9)\n",
            "Requirement already satisfied: numpy>=1.13.3 in /usr/local/lib/python3.7/dist-packages (from skorch) (1.19.5)\n",
            "Requirement already satisfied: scipy>=1.1.0 in /usr/local/lib/python3.7/dist-packages (from skorch) (1.4.1)\n",
            "Requirement already satisfied: scikit-learn>=0.19.1 in /usr/local/lib/python3.7/dist-packages (from skorch) (0.22.2.post1)\n",
            "Requirement already satisfied: joblib>=0.11 in /usr/local/lib/python3.7/dist-packages (from scikit-learn>=0.19.1->skorch) (1.0.1)\n",
            "Installing collected packages: skorch\n",
            "Successfully installed skorch-0.10.0\n"
          ],
          "name": "stdout"
        }
      ]
    },
    {
      "cell_type": "markdown",
      "metadata": {
        "id": "odAwvVeZEgwB"
      },
      "source": [
        "Parametrização com base no conjunto de dados"
      ]
    },
    {
      "cell_type": "code",
      "metadata": {
        "colab": {
          "base_uri": "https://localhost:8080/"
        },
        "id": "M9TWCq2Pc33W",
        "outputId": "51a54338-2050-45d5-bf70-e2c5a007b241"
      },
      "source": [
        "\n",
        "#Quantidade de atributos do conjunto de dados\n",
        "attr_N = X_train_.shape[1]\n",
        "\n",
        "#Quantidade de classes possíveis do conjunto de dados\n",
        "out_Classes = 2\n",
        "\n",
        "##Parâmetros iniciais para sintonização\n",
        "##============================================\n",
        "NUM_NEUR = 100 #Neurônios na camada oculta\n",
        "NUM_EPOCHS = 15 #Número de épocas\n",
        "LEARNING_R = 0.001 #Taxa de aprendizagem\n",
        "\n",
        "\n",
        "print('Qtde. Atributos de entrada:', attr_N,\n",
        "      '\\nQtde. Classes alvo:', out_Classes,\n",
        "      '\\nNeurônios na camada oculta:', NUM_NEUR,\n",
        "      '\\nNúmero de épocas:', NUM_EPOCHS,\n",
        "      '\\nTaxa de aprendizagem:', LEARNING_R)"
      ],
      "execution_count": null,
      "outputs": [
        {
          "output_type": "stream",
          "text": [
            "Qtde. Atributos de entrada: 13 \n",
            "Qtde. Classes alvo: 2 \n",
            "Neurônios na camada oculta: 100 \n",
            "Número de épocas: 15 \n",
            "Taxa de aprendizagem: 0.001\n"
          ],
          "name": "stdout"
        }
      ]
    },
    {
      "cell_type": "markdown",
      "metadata": {
        "id": "bl-r8HFNEptq"
      },
      "source": [
        "Criação da classe da Rede Neural"
      ]
    },
    {
      "cell_type": "code",
      "metadata": {
        "id": "yJSf6e0vc7WW"
      },
      "source": [
        "\n",
        "\n",
        "class Net_(nn.Module):\n",
        "  # Define nn\n",
        "  #def __init__(self, neur):\n",
        "  def __init__(self, dimX, nC, neur):\n",
        "    \"\"\"\n",
        "    Definição da Redeu Neural\n",
        "    Parametros:\n",
        "    dimX int: Entradas na primeira camada (quantidade de atributos)\n",
        "    nC int:  Neurônios de saída (quantidade de classes possíveis)\n",
        "    neur int: Neurônios na camada oculta\n",
        "    \"\"\"\n",
        "    super(Net_, self).__init__()\n",
        "\n",
        "    ##Camada oculta\n",
        "    ##==============\n",
        "    #Recebe neurônios = quantidade de atributos\n",
        "    #Entrega quantidade de neurônios da camada oculta\n",
        "    self.fc1 = nn.Linear(dimX, neur)\n",
        "\n",
        "    ##Camada de saída\n",
        "    ##==============\n",
        "    #Recebe neurônios da camada oculta\n",
        "    #Entrega quantidade de neurônios das classes possíveis\n",
        "    self.fc2 = nn.Linear(neur, nC)\n",
        "\n",
        "    #Uso da função Sigmoid para classificação binária\n",
        "    self.output = nn.Sigmoid()\n",
        "\n",
        "  def forward(self, X):\n",
        "    \"\"\"\n",
        "    Definição do passo forward\n",
        "    \"\"\"\n",
        "    X = F.relu(self.fc1(X))\n",
        "    X = F.relu(self.fc2(X))\n",
        "    X = self.output(X)\n",
        "\n",
        "    return X"
      ],
      "execution_count": null,
      "outputs": []
    },
    {
      "cell_type": "markdown",
      "metadata": {
        "id": "uYAvYMj-c-Ws"
      },
      "source": [
        "Criação do objeto para sintonização usando a classe da rede neural"
      ]
    },
    {
      "cell_type": "code",
      "metadata": {
        "id": "IQNiVUCmc7Rd"
      },
      "source": [
        "##Criação arquitetura inicial da Rede Neural\n",
        "##============================================\n",
        "\n",
        "#help(skorch.NeuralNet.fit)\n",
        "#help(NeuralNetClassifier)\n",
        "\n",
        "netGS = NeuralNetClassifier(\n",
        "    Net_, #Rede neural\n",
        "    module__dimX=attr_N, #Quantidade de atributos\n",
        "    module__nC=out_Classes, #Quantidade de classes possíveis\n",
        "    max_epochs=NUM_EPOCHS, #Número de épocas\n",
        "    lr=LEARNING_R, #Taxa de aprendizagem\n",
        "    criterion=nn.CrossEntropyLoss, #Função de custos\n",
        "    optimizer = torch.optim.SGD, #Uso do SGD para otimização (PADRÃO)\n",
        "    iterator_train__shuffle=True, #Separação aleatória de treino e validação\n",
        "    verbose=0, #Oculta progresso do treinamento. 1 habilita visualização na tela\n",
        "    )"
      ],
      "execution_count": null,
      "outputs": []
    },
    {
      "cell_type": "markdown",
      "metadata": {
        "id": "pZOeSj55EwqT"
      },
      "source": [
        "Parâmetros de sintonização:"
      ]
    },
    {
      "cell_type": "code",
      "metadata": {
        "id": "jVIRmr2qdCX4"
      },
      "source": [
        "##Opções de parâmetros para sintonização\n",
        "##============================================\n",
        "\"\"\"\n",
        "#Parâmetros para teste simplificado da sintonização\n",
        "params = {\n",
        "    'lr': [0.1, 0.001], #Taxa de aprendizado\n",
        "    'max_epochs': [10, 20], #Número de épocas\n",
        "    'module__neur': [50, 100], #Neurônios na camada oculta\n",
        "}\n",
        "\"\"\"\n",
        "#Parâmetros para sintonização mais detalhada\n",
        "params = {\n",
        "    'lr': [0.1, 0.01, 0.001], #Taxa de aprendizado\n",
        "    'max_epochs': [10, 20, 100, 500], #Número de épocas\n",
        "    'module__neur': [100, 150, 200] #Neurônios na camada oculta\n",
        "}"
      ],
      "execution_count": null,
      "outputs": []
    },
    {
      "cell_type": "markdown",
      "metadata": {
        "id": "31H5nOYPdENV"
      },
      "source": [
        "Realização da sintonização de hiperparâmetros"
      ]
    },
    {
      "cell_type": "code",
      "metadata": {
        "id": "CT0pZyvBdFgV"
      },
      "source": [
        "\n",
        "\n",
        "##Criação do objeto para sintonização de hiperparâmetros\n",
        "##=======================================================\n",
        "gs = GridSearchCV(netGS,\n",
        "                  params,\n",
        "                  refit=True,\n",
        "                  cv=3,\n",
        "                  scoring='accuracy'\n",
        "                  )\n",
        "\n"
      ],
      "execution_count": null,
      "outputs": []
    },
    {
      "cell_type": "markdown",
      "metadata": {
        "id": "id_tsadrE2D6"
      },
      "source": [
        "Criação do objeto para sintonização de hiperparâmetros\n",
        "ATENÇÃO: PROCESSO LENTO DEPENDENDO DAS OPÇÕES PARA SINTONIZAÇÃO"
      ]
    },
    {
      "cell_type": "code",
      "metadata": {
        "colab": {
          "base_uri": "https://localhost:8080/"
        },
        "id": "kLo8rAP_dHed",
        "outputId": "992f7261-0ad7-49b4-b8ab-3c777570c668"
      },
      "source": [
        "\n",
        "\n",
        "print('Rede neural artifical sendo treinanda. Aguardade...')\n",
        "print('Para acompanhar o progresso a cada época habilitar\\nsaídas no parâmetro `verbose`')\n",
        "print('=' * 60, end='\\n\\n')\n",
        "\n",
        "#Treinamento da rede\n",
        "gs.fit(X_train_, y_train_)"
      ],
      "execution_count": null,
      "outputs": [
        {
          "output_type": "stream",
          "text": [
            "Rede neural artifical sendo treinanda. Aguardade...\n",
            "Para acompanhar o progresso a cada época habilitar\n",
            "saídas no parâmetro `verbose`\n",
            "============================================================\n",
            "\n"
          ],
          "name": "stdout"
        },
        {
          "output_type": "execute_result",
          "data": {
            "text/plain": [
              "GridSearchCV(cv=3, error_score=nan,\n",
              "             estimator=<class 'skorch.classifier.NeuralNetClassifier'>[uninitialized](\n",
              "  module=<class '__main__.Net_'>,\n",
              "  module__dimX=13,\n",
              "  module__nC=2,\n",
              "),\n",
              "             iid='deprecated', n_jobs=None,\n",
              "             param_grid={'lr': [0.1, 0.01, 0.001],\n",
              "                         'max_epochs': [10, 20, 100, 500],\n",
              "                         'module__neur': [100, 150, 200]},\n",
              "             pre_dispatch='2*n_jobs', refit=True, return_train_score=False,\n",
              "             scoring='accuracy', verbose=0)"
            ]
          },
          "metadata": {
            "tags": []
          },
          "execution_count": 338
        }
      ]
    },
    {
      "cell_type": "markdown",
      "metadata": {
        "id": "6Z6bK0a8dLRc"
      },
      "source": [
        "Conferência do resultado da sintonização"
      ]
    },
    {
      "cell_type": "code",
      "metadata": {
        "colab": {
          "base_uri": "https://localhost:8080/"
        },
        "id": "_2a5XNzym8qk",
        "outputId": "9a394ac6-d8a8-4052-ebee-62a077819f06"
      },
      "source": [
        "#Visualização dos parâmetros sintonizados\n",
        "##============================================\n",
        "print(f'Score: {gs.best_score_:.3f}\\nParâmetros:\\n{gs.best_params_}')"
      ],
      "execution_count": null,
      "outputs": [
        {
          "output_type": "stream",
          "text": [
            "Score: 0.895\n",
            "Parâmetros:\n",
            "{'lr': 0.1, 'max_epochs': 500, 'module__neur': 100}\n"
          ],
          "name": "stdout"
        }
      ]
    },
    {
      "cell_type": "markdown",
      "metadata": {
        "id": "sROcAU5mE8hp"
      },
      "source": [
        "Aplicação do modelo:"
      ]
    },
    {
      "cell_type": "code",
      "metadata": {
        "colab": {
          "base_uri": "https://localhost:8080/"
        },
        "id": "LSC8cIUGnA-i",
        "outputId": "704206e1-8e23-464b-ab1d-9ae3b61ab779"
      },
      "source": [
        "##Aplicação direta do modelo sintonizado\n",
        "##============================================\n",
        "\"\"\"\n",
        "Predição e avaliação no conjunto de validação\n",
        "###NÃO USAR SE A SITONIZAÇÃO FOR FEITA NO CONJUNTO COMPLETO\n",
        "y_pred = gs.predict(X_val)\n",
        "\n",
        "#Avaliação da Rede Neural nos dados de teste\n",
        "\n",
        "#Matriz de confusão\n",
        "print('Matriz de confusão')\n",
        "print(confusion_matrix(y_val.data, y_pred))\n",
        "\n",
        "#Relatório de avaliação da classificação\n",
        "print('-' * 60, end='\\n\\n')\n",
        "print('Relatório de avaliação da classificação')\n",
        "print(classification_report(y_val.data, y_pred,\n",
        "                            zero_division=0))\n",
        "\"\"\"\n",
        "#Predição no conjunto de testes\n",
        "y_pred = gs.predict(X_test)\n",
        "\n",
        "#Avaliação Final da Rede Neural nos dados de teste\n",
        "\n",
        "#Matriz de confusão\n",
        "print('Matriz de confusão')\n",
        "print(confusion_matrix(y_test.data, y_pred))\n",
        "\n",
        "#Relatório de avaliação da classificação\n",
        "print('-' * 60, end='\\n\\n')\n",
        "print('Relatório de avaliação da classificação')\n",
        "print(classification_report(y_test.data, y_pred,\n",
        "                            zero_division=0))"
      ],
      "execution_count": null,
      "outputs": [
        {
          "output_type": "stream",
          "text": [
            "Matriz de confusão\n",
            "[[301   5]\n",
            " [ 51 220]]\n",
            "------------------------------------------------------------\n",
            "\n",
            "Relatório de avaliação da classificação\n",
            "              precision    recall  f1-score   support\n",
            "\n",
            "           0       0.86      0.98      0.91       306\n",
            "           1       0.98      0.81      0.89       271\n",
            "\n",
            "    accuracy                           0.90       577\n",
            "   macro avg       0.92      0.90      0.90       577\n",
            "weighted avg       0.91      0.90      0.90       577\n",
            "\n"
          ],
          "name": "stdout"
        }
      ]
    },
    {
      "cell_type": "markdown",
      "metadata": {
        "id": "w3tMGJEpnFZZ"
      },
      "source": [
        "Uso dos parâmetros sintonizados para criação de uma nova RNA"
      ]
    },
    {
      "cell_type": "markdown",
      "metadata": {
        "id": "FigBB1d6FAQp"
      },
      "source": [
        "Criação de um novo modelo com os parêmtros sintonizados:\n",
        "Primeiramente, recuperam-se os parâmentros para então criar o objeto com a classe Rede Neural já instanciada acima:\n"
      ]
    },
    {
      "cell_type": "code",
      "metadata": {
        "colab": {
          "base_uri": "https://localhost:8080/"
        },
        "id": "DfHIdImqnG1c",
        "outputId": "61fbd72e-5c25-4aad-9ad4-e51271696f25"
      },
      "source": [
        "\n",
        "\n",
        "#Recuperação dos parâmetros\n",
        "NUM_NEUR = gs.best_params_['module__neur']\n",
        "NUM_EPOCHS = gs.best_params_['max_epochs']\n",
        "LEARNING_R = gs.best_params_['lr']\n",
        "\n",
        "#Criação do objeto com a classe da Rede Neural\n",
        "net_ = Net_(attr_N, out_Classes, NUM_NEUR)\n",
        "\n",
        "#Arquitetura da Rede Neural\n",
        "print('Arquitetura da Rede Neural:\\n', net_)"
      ],
      "execution_count": null,
      "outputs": [
        {
          "output_type": "stream",
          "text": [
            "Arquitetura da Rede Neural:\n",
            " Net_(\n",
            "  (fc1): Linear(in_features=13, out_features=100, bias=True)\n",
            "  (fc2): Linear(in_features=100, out_features=2, bias=True)\n",
            "  (output): Sigmoid()\n",
            ")\n"
          ],
          "name": "stdout"
        }
      ]
    },
    {
      "cell_type": "code",
      "metadata": {
        "id": "ZCFFpYVVnJEz"
      },
      "source": [
        "#Entropia cruzada como função de custo - Problema de classificação\n",
        "criterion = nn.CrossEntropyLoss()\n",
        "\n",
        "#Configuração do otimizador - SGD\n",
        "optimizer = torch.optim.SGD(net_.parameters(), lr = LEARNING_R)"
      ],
      "execution_count": null,
      "outputs": []
    },
    {
      "cell_type": "markdown",
      "metadata": {
        "id": "Ob7XZkixFWXZ"
      },
      "source": [
        "Treinamento da Rede Neural"
      ]
    },
    {
      "cell_type": "code",
      "metadata": {
        "colab": {
          "base_uri": "https://localhost:8080/"
        },
        "id": "Fd92FiHInLPK",
        "outputId": "13f1f9a7-e2aa-4ff2-c233-31b059568cf4"
      },
      "source": [
        "\n",
        "for epoch in range(NUM_EPOCHS):\n",
        "    optimizer.zero_grad()\n",
        "    out = net_(X_train)\n",
        "    loss = criterion(out, y_train)\n",
        "    loss.backward()\n",
        "    optimizer.step()\n",
        "    \n",
        "    if epoch % (NUM_EPOCHS/10) == 0:\n",
        "        print('At epoch %d the loss is %f' % (epoch, loss.data.item()))"
      ],
      "execution_count": null,
      "outputs": [
        {
          "output_type": "stream",
          "text": [
            "At epoch 0 the loss is 0.692606\n",
            "At epoch 50 the loss is 0.668998\n",
            "At epoch 100 the loss is 0.654671\n",
            "At epoch 150 the loss is 0.645151\n",
            "At epoch 200 the loss is 0.638538\n",
            "At epoch 250 the loss is 0.633882\n",
            "At epoch 300 the loss is 0.630340\n",
            "At epoch 350 the loss is 0.627540\n",
            "At epoch 400 the loss is 0.625351\n",
            "At epoch 450 the loss is 0.623581\n"
          ],
          "name": "stdout"
        }
      ]
    },
    {
      "cell_type": "markdown",
      "metadata": {
        "id": "B6n_pXp_Fxrh"
      },
      "source": [
        "Executa-se as predições no conjunto de testes, as quais são compostas por um par (predição para cada classe)"
      ]
    },
    {
      "cell_type": "code",
      "metadata": {
        "id": "HbF95nHpnOPY"
      },
      "source": [
        "\n",
        "predict_out = net_(X_test)\n",
        "\n",
        "\n",
        "#Recupera como valor predito o maior de cada par predito\n",
        "_, predict_y = torch.max(predict_out, 1)"
      ],
      "execution_count": null,
      "outputs": []
    },
    {
      "cell_type": "markdown",
      "metadata": {
        "id": "9LE-sqVvF8to"
      },
      "source": [
        "Comandos para avaliação da Rede Neural nos dados de teste e visualização da matriz de confusão e classification report:"
      ]
    },
    {
      "cell_type": "code",
      "metadata": {
        "colab": {
          "base_uri": "https://localhost:8080/"
        },
        "id": "B3BlQT12nQ1A",
        "outputId": "cec1407f-6579-44fb-b70b-6dabe0438d94"
      },
      "source": [
        "\n",
        "\n",
        "#Matriz de confusão\n",
        "print('Matriz de confusão')\n",
        "print(confusion_matrix(y_test.data, predict_y.data))\n",
        "\n",
        "#Relatório de avaliação da classificação\n",
        "print('-' * 60, end='\\n\\n')\n",
        "print('Relatório de avaliação da classificação')\n",
        "print(classification_report(y_test.data, predict_y.data,\n",
        "                            zero_division=0))"
      ],
      "execution_count": null,
      "outputs": [
        {
          "output_type": "stream",
          "text": [
            "Matriz de confusão\n",
            "[[306   0]\n",
            " [271   0]]\n",
            "------------------------------------------------------------\n",
            "\n",
            "Relatório de avaliação da classificação\n",
            "              precision    recall  f1-score   support\n",
            "\n",
            "           0       0.53      1.00      0.69       306\n",
            "           1       0.00      0.00      0.00       271\n",
            "\n",
            "    accuracy                           0.53       577\n",
            "   macro avg       0.27      0.50      0.35       577\n",
            "weighted avg       0.28      0.53      0.37       577\n",
            "\n"
          ],
          "name": "stdout"
        }
      ]
    },
    {
      "cell_type": "markdown",
      "metadata": {
        "id": "_BdFVtIFGHFx"
      },
      "source": [
        "Visualização dos valores da saída da rede neural:"
      ]
    },
    {
      "cell_type": "code",
      "metadata": {
        "colab": {
          "base_uri": "https://localhost:8080/"
        },
        "id": "Ym_24KP4nTuF",
        "outputId": "1f7c089e-f962-4aa5-a9bc-9936a3cf480f"
      },
      "source": [
        "\n",
        "predict_y[:10]"
      ],
      "execution_count": null,
      "outputs": [
        {
          "output_type": "execute_result",
          "data": {
            "text/plain": [
              "tensor([0, 0, 0, 0, 0, 0, 0, 0, 0, 0])"
            ]
          },
          "metadata": {
            "tags": []
          },
          "execution_count": 350
        }
      ]
    },
    {
      "cell_type": "markdown",
      "metadata": {
        "id": "Z3qyZkOdoHgB"
      },
      "source": [
        "##3.2 Redes Convolucionais"
      ]
    },
    {
      "cell_type": "markdown",
      "metadata": {
        "id": "6ZnpySDRJIa7"
      },
      "source": [
        "Da sigla em inglês CNN - Convolutional Neural network ou ConvNet - as redes neurais convolucionais são uma classe de rede neural artificial do tipo feed-forward. Atualmente é aplicada com sucesso no processamento e análise de imagens digitais, já que é capaz de captar uma imagem de entrada e atribuir importâncias com pesos e viés a diferentes aspectos e objetos da imagem, diferenciando umas das outras."
      ]
    },
    {
      "cell_type": "markdown",
      "metadata": {
        "id": "bEaTjM1KGYQC"
      },
      "source": [
        "Importação de bibliotecas para implementação de redes neurais convolucionais:"
      ]
    },
    {
      "cell_type": "code",
      "metadata": {
        "id": "SdHFMYtj0mxP"
      },
      "source": [
        "import numpy as np\n",
        "import h5py\n",
        "import pandas as pd\n",
        "from sklearn.model_selection import train_test_split\n",
        "from sklearn.preprocessing import StandardScaler\n",
        "from sklearn.model_selection import learning_curve\n",
        "import matplotlib.pyplot as plt\n",
        "from keras.wrappers.scikit_learn import KerasClassifier\n",
        "import numpy as np\n",
        "from keras.models import Sequential\n",
        "from keras.layers import Dense, Dropout, Flatten\n",
        "from keras.optimizers import SGD\n",
        "from keras.constraints import maxnorm\n",
        "from sklearn.model_selection import GridSearchCV\n",
        "from timeit import default_timer as timer\n",
        "from sklearn.metrics import classification_report\n",
        "from sklearn import metrics \n",
        "import seaborn as sns"
      ],
      "execution_count": null,
      "outputs": []
    },
    {
      "cell_type": "markdown",
      "metadata": {
        "id": "4Sn00eGlGmM7"
      },
      "source": [
        "Carregamento de dados:"
      ]
    },
    {
      "cell_type": "code",
      "metadata": {
        "id": "4NHyfnX70tc8"
      },
      "source": [
        "def load_dataset():\n",
        "    train_dataset = h5py.File('/content/train_catvnoncat.h5', \"r\")\n",
        "    train_set_x_orig = np.array(train_dataset[\"train_set_x\"][:])\n",
        "    train_set_y_orig = np.array(train_dataset[\"train_set_y\"][:])\n",
        "    \n",
        "    test_dataset = h5py.File('/content/test_catvnoncat.h5', \"r\")\n",
        "    test_set_x_orig = np.array(test_dataset[\"test_set_x\"][:])\n",
        "    test_set_y_orig = np.array(test_dataset[\"test_set_y\"][:])\n",
        "    \n",
        "    classes = np.array(train_dataset[\"list_classes\"][:])\n",
        "    \n",
        "    train_set_y_orig = train_set_y_orig.reshape((1,train_set_y_orig.shape[0]))\n",
        "    test_set_y_orig = test_set_y_orig.reshape((1,test_set_y_orig.shape[0]))\n",
        "    \n",
        "    return test_set_x_orig, test_set_y_orig, train_set_y_orig, test_set_y_orig, classes"
      ],
      "execution_count": null,
      "outputs": []
    },
    {
      "cell_type": "markdown",
      "metadata": {
        "id": "YnDXxyX6Gx0Y"
      },
      "source": [
        "Divisão aleatória da matriz de dados e so vetor de rótulo correspondente em um X_train, X_test, X_val, y_train, y_test, y_val com o Sklearn."
      ]
    },
    {
      "cell_type": "code",
      "metadata": {
        "id": "knzr7OrE0-3L"
      },
      "source": [
        "X_train, y_train, X_test, y_test, classes = load_dataset()"
      ],
      "execution_count": null,
      "outputs": []
    },
    {
      "cell_type": "markdown",
      "metadata": {
        "id": "ugQ7pZPTG9Vh"
      },
      "source": [
        "O parâmetro do eixo especifica o índice do novo eixo nas dimensões do resultado. Por exemplo, se eixo = 0 será a primeira dimensão e se eixo = -1 será a última dimensão."
      ]
    },
    {
      "cell_type": "code",
      "metadata": {
        "id": "Gy2PnNJy1BaT"
      },
      "source": [
        "y_train = np.stack(y_train*50)"
      ],
      "execution_count": null,
      "outputs": []
    },
    {
      "cell_type": "markdown",
      "metadata": {
        "id": "8jy8P5ZwHCC9"
      },
      "source": [
        "Exemplo de imagem com id 25:"
      ]
    },
    {
      "cell_type": "code",
      "metadata": {
        "colab": {
          "base_uri": "https://localhost:8080/",
          "height": 562
        },
        "id": "PL5K01Gl1Dtb",
        "outputId": "4b5f7a6d-b2c3-4584-a3f9-ebe0db8d1580"
      },
      "source": [
        "\n",
        "index = 25\n",
        "example = X_train[index]\n",
        "plt.imshow(X_train[index])\n",
        "print (\"y = \" + str(y_train[:, index]) + \", it's a '\" + classes[np.squeeze(y_train[:, index])].decode(\"utf-8\") +  \"' picture.\")"
      ],
      "execution_count": null,
      "outputs": [
        {
          "output_type": "error",
          "ename": "IndexError",
          "evalue": "ignored",
          "traceback": [
            "\u001b[0;31m---------------------------------------------------------------------------\u001b[0m",
            "\u001b[0;31mIndexError\u001b[0m                                Traceback (most recent call last)",
            "\u001b[0;32m<ipython-input-117-094ee90bdc01>\u001b[0m in \u001b[0;36m<module>\u001b[0;34m()\u001b[0m\n\u001b[1;32m      3\u001b[0m \u001b[0mexample\u001b[0m \u001b[0;34m=\u001b[0m \u001b[0mX_train\u001b[0m\u001b[0;34m[\u001b[0m\u001b[0mindex\u001b[0m\u001b[0;34m]\u001b[0m\u001b[0;34m\u001b[0m\u001b[0;34m\u001b[0m\u001b[0m\n\u001b[1;32m      4\u001b[0m \u001b[0mplt\u001b[0m\u001b[0;34m.\u001b[0m\u001b[0mimshow\u001b[0m\u001b[0;34m(\u001b[0m\u001b[0mX_train\u001b[0m\u001b[0;34m[\u001b[0m\u001b[0mindex\u001b[0m\u001b[0;34m]\u001b[0m\u001b[0;34m)\u001b[0m\u001b[0;34m\u001b[0m\u001b[0;34m\u001b[0m\u001b[0m\n\u001b[0;32m----> 5\u001b[0;31m \u001b[0mprint\u001b[0m \u001b[0;34m(\u001b[0m\u001b[0;34m\"y = \"\u001b[0m \u001b[0;34m+\u001b[0m \u001b[0mstr\u001b[0m\u001b[0;34m(\u001b[0m\u001b[0my_train\u001b[0m\u001b[0;34m[\u001b[0m\u001b[0;34m:\u001b[0m\u001b[0;34m,\u001b[0m \u001b[0mindex\u001b[0m\u001b[0;34m]\u001b[0m\u001b[0;34m)\u001b[0m \u001b[0;34m+\u001b[0m \u001b[0;34m\", it's a '\"\u001b[0m \u001b[0;34m+\u001b[0m \u001b[0mclasses\u001b[0m\u001b[0;34m[\u001b[0m\u001b[0mnp\u001b[0m\u001b[0;34m.\u001b[0m\u001b[0msqueeze\u001b[0m\u001b[0;34m(\u001b[0m\u001b[0my_train\u001b[0m\u001b[0;34m[\u001b[0m\u001b[0;34m:\u001b[0m\u001b[0;34m,\u001b[0m \u001b[0mindex\u001b[0m\u001b[0;34m]\u001b[0m\u001b[0;34m)\u001b[0m\u001b[0;34m]\u001b[0m\u001b[0;34m.\u001b[0m\u001b[0mdecode\u001b[0m\u001b[0;34m(\u001b[0m\u001b[0;34m\"utf-8\"\u001b[0m\u001b[0;34m)\u001b[0m \u001b[0;34m+\u001b[0m  \u001b[0;34m\"' picture.\"\u001b[0m\u001b[0;34m)\u001b[0m\u001b[0;34m\u001b[0m\u001b[0;34m\u001b[0m\u001b[0m\n\u001b[0m",
            "\u001b[0;31mIndexError\u001b[0m: index 50 is out of bounds for axis 0 with size 2"
          ]
        },
        {
          "output_type": "display_data",
          "data": {
            "image/png": "[encoded data removed]",
            "text/plain": [
              "<Figure size 576x396 with 1 Axes>"
            ]
          },
          "metadata": {
            "tags": []
          }
        }
      ]
    },
    {
      "cell_type": "markdown",
      "metadata": {
        "id": "EwYlkLddHpRZ"
      },
      "source": [
        "Na regressão logística aplicada a redes neurais, convenciona-se remodelar imagens de forma (num_px, num_px, 3) em uma matriz numpy de forma (num_px ∗ num_px ∗. Desta forma, o conjunto de dados de treinamento e teste são uma matriz numpy cujas colunas representam uma imagem achatada. \n",
        "\n",
        "Para cada coluna m_train deve haver uma correspondente m_test)."
      ]
    },
    {
      "cell_type": "code",
      "metadata": {
        "colab": {
          "base_uri": "https://localhost:8080/"
        },
        "id": "HZnzyPRq1UGO",
        "outputId": "e2428e14-891a-4d6e-e8e5-b7eabee19b62"
      },
      "source": [
        "train_set_x_flatten = X_train.reshape(X_train.shape[0], -1).T\n",
        "test_set_x_flatten = X_test.reshape(X_test.shape[0], -1).T\n",
        "\n",
        "print (\"train_set_x_flatten shape: \" + str(train_set_x_flatten.shape))\n",
        "print (\"train_set_y shape: \" + str(y_train.shape))\n",
        "print (\"test_set_x_flatten shape: \" + str(test_set_x_flatten.shape))\n",
        "print (\"test_set_y shape: \" + str(y_test.shape))\n",
        "print (\"sanity check after reshaping: \" + str(train_set_x_flatten[0:5,0]))"
      ],
      "execution_count": null,
      "outputs": [
        {
          "output_type": "stream",
          "text": [
            "train_set_x_flatten shape: (12288, 50)\n",
            "train_set_y shape: (1, 50)\n",
            "test_set_x_flatten shape: (209, 1)\n",
            "test_set_y shape: (1, 50)\n",
            "sanity check after reshaping: [158 104  83 161 106]\n"
          ],
          "name": "stdout"
        }
      ]
    },
    {
      "cell_type": "markdown",
      "metadata": {
        "id": "9_kUCvTzIIRY"
      },
      "source": [
        "Padronização do conjunto de dados: "
      ]
    },
    {
      "cell_type": "code",
      "metadata": {
        "id": "qPVI1I921XiU"
      },
      "source": [
        "train_set_x = train_set_x_flatten/255.\n",
        "test_set_x = test_set_x_flatten/255."
      ],
      "execution_count": null,
      "outputs": []
    },
    {
      "cell_type": "code",
      "metadata": {
        "colab": {
          "base_uri": "https://localhost:8080/",
          "height": 927
        },
        "id": "5g6eCOoA1a40",
        "outputId": "e17c01ff-b45f-4c05-a238-0e8392487663"
      },
      "source": [
        "from keras.models import Sequential\n",
        "from keras.layers import Dense, Dropout, Flatten\n",
        "from keras.layers import Conv2D, MaxPooling2D\n",
        "from keras.optimizers import Adam\n",
        "from keras.preprocessing.image import ImageDataGenerator\n",
        "from keras.callbacks import ReduceLROnPlateau\n",
        "\n",
        "## dado que o range de valores possível pra um pixél vai de 0-255 \n",
        "## escalonamos os valores entre 0-1\n",
        "## esse processo torna nosso modelo menos variante a pequenas alterações.\n",
        "x_train = train_set_x\n",
        "x_test = test_set_x\n",
        "\n",
        "\n",
        "model = Sequential()\n",
        "model.add(Conv2D(32, (5,5), activation='relu', padding='same', input_shape=(28, 28,1)))\n",
        "model.add(Conv2D(64, (5,5), activation='relu', padding='same'))\n",
        "model.add(MaxPooling2D(pool_size=(2,2)))\n",
        "model.add(Dropout(0.25))\n",
        "model.add(Flatten())\n",
        "model.add(Dense(128, activation='relu'))\n",
        "model.add(Dropout(0.5))\n",
        "model.add(Dense(10, activation='softmax'))\n",
        "\n",
        "optimizer = Adam()\n",
        "model.compile(loss='categorical_crossentropy', optimizer=optimizer, metrics=['accuracy'])\n",
        "print(model.summary())\n",
        "\n",
        "# reduz o parâmetro de learning rate se não houver \n",
        "# melhoras em determinado número de epocas\n",
        "# útil para encontrar o mínimo global.\n",
        "learning_rate_reduction = ReduceLROnPlateau(monitor='val_acc', \n",
        "                                            patience=3, \n",
        "                                            verbose=1, \n",
        "                                            factor=0.5, \n",
        "                                            min_lr=0.00001)\n",
        "\n",
        "batch_size = 32\n",
        "epochs = 10\n",
        "\n",
        "history = model.fit(x_train,\n",
        "                        y_train,\n",
        "                        batch_size = batch_size,\n",
        "                        epochs = epochs,\n",
        "                        validation_split=0.2,\n",
        "                        verbose = 1,\n",
        "                        callbacks=[learning_rate_reduction])\n",
        "\n",
        "history_dict = history.history\n",
        "acc = history_dict['acc']\n",
        "val_acc = history_dict['val_acc']\n",
        "range_epochs = range(1, len(acc) + 1)\n",
        "\n",
        "plt.style.use('default')\n",
        "accuracy_val = plt.plot(range_epochs, val_acc, label='Acurácia no conjunto de validação')\n",
        "accuracy_train = plt.plot(range_epochs, acc, label='Acurácia no conjunto de treino', color=\"r\")\n",
        "plt.setp(accuracy_val, linewidth=2.0)\n",
        "plt.setp(accuracy_train, linewidth=2.0)\n",
        "plt.xlabel('Épocas') \n",
        "plt.ylabel('Acurácia')\n",
        "plt.legend(loc=\"lower right\")\n",
        "plt.show()"
      ],
      "execution_count": null,
      "outputs": [
        {
          "output_type": "stream",
          "text": [
            "Model: \"sequential\"\n",
            "_________________________________________________________________\n",
            "Layer (type)                 Output Shape              Param #   \n",
            "=================================================================\n",
            "conv2d (Conv2D)              (None, 28, 28, 32)        832       \n",
            "_________________________________________________________________\n",
            "conv2d_1 (Conv2D)            (None, 28, 28, 64)        51264     \n",
            "_________________________________________________________________\n",
            "max_pooling2d (MaxPooling2D) (None, 14, 14, 64)        0         \n",
            "_________________________________________________________________\n",
            "dropout (Dropout)            (None, 14, 14, 64)        0         \n",
            "_________________________________________________________________\n",
            "flatten (Flatten)            (None, 12544)             0         \n",
            "_________________________________________________________________\n",
            "dense (Dense)                (None, 128)               1605760   \n",
            "_________________________________________________________________\n",
            "dropout_1 (Dropout)          (None, 128)               0         \n",
            "_________________________________________________________________\n",
            "dense_1 (Dense)              (None, 10)                1290      \n",
            "=================================================================\n",
            "Total params: 1,659,146\n",
            "Trainable params: 1,659,146\n",
            "Non-trainable params: 0\n",
            "_________________________________________________________________\n",
            "None\n"
          ],
          "name": "stdout"
        },
        {
          "output_type": "error",
          "ename": "ValueError",
          "evalue": "ignored",
          "traceback": [
            "\u001b[0;31m---------------------------------------------------------------------------\u001b[0m",
            "\u001b[0;31mValueError\u001b[0m                                Traceback (most recent call last)",
            "\u001b[0;32m<ipython-input-120-05f2315316f3>\u001b[0m in \u001b[0;36m<module>\u001b[0;34m()\u001b[0m\n\u001b[1;32m     45\u001b[0m                         \u001b[0mvalidation_split\u001b[0m\u001b[0;34m=\u001b[0m\u001b[0;36m0.2\u001b[0m\u001b[0;34m,\u001b[0m\u001b[0;34m\u001b[0m\u001b[0;34m\u001b[0m\u001b[0m\n\u001b[1;32m     46\u001b[0m                         \u001b[0mverbose\u001b[0m \u001b[0;34m=\u001b[0m \u001b[0;36m1\u001b[0m\u001b[0;34m,\u001b[0m\u001b[0;34m\u001b[0m\u001b[0;34m\u001b[0m\u001b[0m\n\u001b[0;32m---> 47\u001b[0;31m                         callbacks=[learning_rate_reduction])\n\u001b[0m\u001b[1;32m     48\u001b[0m \u001b[0;34m\u001b[0m\u001b[0m\n\u001b[1;32m     49\u001b[0m \u001b[0mhistory_dict\u001b[0m \u001b[0;34m=\u001b[0m \u001b[0mhistory\u001b[0m\u001b[0;34m.\u001b[0m\u001b[0mhistory\u001b[0m\u001b[0;34m\u001b[0m\u001b[0;34m\u001b[0m\u001b[0m\n",
            "\u001b[0;32m/usr/local/lib/python3.7/dist-packages/keras/engine/training.py\u001b[0m in \u001b[0;36mfit\u001b[0;34m(self, x, y, batch_size, epochs, verbose, callbacks, validation_split, validation_data, shuffle, class_weight, sample_weight, initial_epoch, steps_per_epoch, validation_steps, validation_batch_size, validation_freq, max_queue_size, workers, use_multiprocessing)\u001b[0m\n\u001b[1;32m   1120\u001b[0m           \u001b[0muse_multiprocessing\u001b[0m\u001b[0;34m=\u001b[0m\u001b[0muse_multiprocessing\u001b[0m\u001b[0;34m,\u001b[0m\u001b[0;34m\u001b[0m\u001b[0;34m\u001b[0m\u001b[0m\n\u001b[1;32m   1121\u001b[0m           \u001b[0mmodel\u001b[0m\u001b[0;34m=\u001b[0m\u001b[0mself\u001b[0m\u001b[0;34m,\u001b[0m\u001b[0;34m\u001b[0m\u001b[0;34m\u001b[0m\u001b[0m\n\u001b[0;32m-> 1122\u001b[0;31m           steps_per_execution=self._steps_per_execution)\n\u001b[0m\u001b[1;32m   1123\u001b[0m \u001b[0;34m\u001b[0m\u001b[0m\n\u001b[1;32m   1124\u001b[0m       \u001b[0;31m# Container that configures and calls `tf.keras.Callback`s.\u001b[0m\u001b[0;34m\u001b[0m\u001b[0;34m\u001b[0m\u001b[0;34m\u001b[0m\u001b[0m\n",
            "\u001b[0;32m/usr/local/lib/python3.7/dist-packages/keras/engine/data_adapter.py\u001b[0m in \u001b[0;36mget_data_handler\u001b[0;34m(*args, **kwargs)\u001b[0m\n\u001b[1;32m   1346\u001b[0m   \u001b[0;32mif\u001b[0m \u001b[0mgetattr\u001b[0m\u001b[0;34m(\u001b[0m\u001b[0mkwargs\u001b[0m\u001b[0;34m[\u001b[0m\u001b[0;34m\"model\"\u001b[0m\u001b[0;34m]\u001b[0m\u001b[0;34m,\u001b[0m \u001b[0;34m\"_cluster_coordinator\"\u001b[0m\u001b[0;34m,\u001b[0m \u001b[0;32mNone\u001b[0m\u001b[0;34m)\u001b[0m\u001b[0;34m:\u001b[0m\u001b[0;34m\u001b[0m\u001b[0;34m\u001b[0m\u001b[0m\n\u001b[1;32m   1347\u001b[0m     \u001b[0;32mreturn\u001b[0m \u001b[0m_ClusterCoordinatorDataHandler\u001b[0m\u001b[0;34m(\u001b[0m\u001b[0;34m*\u001b[0m\u001b[0margs\u001b[0m\u001b[0;34m,\u001b[0m \u001b[0;34m**\u001b[0m\u001b[0mkwargs\u001b[0m\u001b[0;34m)\u001b[0m\u001b[0;34m\u001b[0m\u001b[0;34m\u001b[0m\u001b[0m\n\u001b[0;32m-> 1348\u001b[0;31m   \u001b[0;32mreturn\u001b[0m \u001b[0mDataHandler\u001b[0m\u001b[0;34m(\u001b[0m\u001b[0;34m*\u001b[0m\u001b[0margs\u001b[0m\u001b[0;34m,\u001b[0m \u001b[0;34m**\u001b[0m\u001b[0mkwargs\u001b[0m\u001b[0;34m)\u001b[0m\u001b[0;34m\u001b[0m\u001b[0;34m\u001b[0m\u001b[0m\n\u001b[0m\u001b[1;32m   1349\u001b[0m \u001b[0;34m\u001b[0m\u001b[0m\n\u001b[1;32m   1350\u001b[0m \u001b[0;34m\u001b[0m\u001b[0m\n",
            "\u001b[0;32m/usr/local/lib/python3.7/dist-packages/keras/engine/data_adapter.py\u001b[0m in \u001b[0;36m__init__\u001b[0;34m(self, x, y, sample_weight, batch_size, steps_per_epoch, initial_epoch, epochs, shuffle, class_weight, max_queue_size, workers, use_multiprocessing, model, steps_per_execution, distribute)\u001b[0m\n\u001b[1;32m   1148\u001b[0m         \u001b[0muse_multiprocessing\u001b[0m\u001b[0;34m=\u001b[0m\u001b[0muse_multiprocessing\u001b[0m\u001b[0;34m,\u001b[0m\u001b[0;34m\u001b[0m\u001b[0;34m\u001b[0m\u001b[0m\n\u001b[1;32m   1149\u001b[0m         \u001b[0mdistribution_strategy\u001b[0m\u001b[0;34m=\u001b[0m\u001b[0mtf\u001b[0m\u001b[0;34m.\u001b[0m\u001b[0mdistribute\u001b[0m\u001b[0;34m.\u001b[0m\u001b[0mget_strategy\u001b[0m\u001b[0;34m(\u001b[0m\u001b[0;34m)\u001b[0m\u001b[0;34m,\u001b[0m\u001b[0;34m\u001b[0m\u001b[0;34m\u001b[0m\u001b[0m\n\u001b[0;32m-> 1150\u001b[0;31m         model=model)\n\u001b[0m\u001b[1;32m   1151\u001b[0m \u001b[0;34m\u001b[0m\u001b[0m\n\u001b[1;32m   1152\u001b[0m     \u001b[0mstrategy\u001b[0m \u001b[0;34m=\u001b[0m \u001b[0mtf\u001b[0m\u001b[0;34m.\u001b[0m\u001b[0mdistribute\u001b[0m\u001b[0;34m.\u001b[0m\u001b[0mget_strategy\u001b[0m\u001b[0;34m(\u001b[0m\u001b[0;34m)\u001b[0m\u001b[0;34m\u001b[0m\u001b[0;34m\u001b[0m\u001b[0m\n",
            "\u001b[0;32m/usr/local/lib/python3.7/dist-packages/keras/engine/data_adapter.py\u001b[0m in \u001b[0;36m__init__\u001b[0;34m(self, x, y, sample_weights, sample_weight_modes, batch_size, epochs, steps, shuffle, **kwargs)\u001b[0m\n\u001b[1;32m    240\u001b[0m \u001b[0;34m\u001b[0m\u001b[0m\n\u001b[1;32m    241\u001b[0m     \u001b[0mnum_samples\u001b[0m \u001b[0;34m=\u001b[0m \u001b[0mset\u001b[0m\u001b[0;34m(\u001b[0m\u001b[0mint\u001b[0m\u001b[0;34m(\u001b[0m\u001b[0mi\u001b[0m\u001b[0;34m.\u001b[0m\u001b[0mshape\u001b[0m\u001b[0;34m[\u001b[0m\u001b[0;36m0\u001b[0m\u001b[0;34m]\u001b[0m\u001b[0;34m)\u001b[0m \u001b[0;32mfor\u001b[0m \u001b[0mi\u001b[0m \u001b[0;32min\u001b[0m \u001b[0mtf\u001b[0m\u001b[0;34m.\u001b[0m\u001b[0mnest\u001b[0m\u001b[0;34m.\u001b[0m\u001b[0mflatten\u001b[0m\u001b[0;34m(\u001b[0m\u001b[0minputs\u001b[0m\u001b[0;34m)\u001b[0m\u001b[0;34m)\u001b[0m\u001b[0;34m.\u001b[0m\u001b[0mpop\u001b[0m\u001b[0;34m(\u001b[0m\u001b[0;34m)\u001b[0m\u001b[0;34m\u001b[0m\u001b[0;34m\u001b[0m\u001b[0m\n\u001b[0;32m--> 242\u001b[0;31m     \u001b[0m_check_data_cardinality\u001b[0m\u001b[0;34m(\u001b[0m\u001b[0minputs\u001b[0m\u001b[0;34m)\u001b[0m\u001b[0;34m\u001b[0m\u001b[0;34m\u001b[0m\u001b[0m\n\u001b[0m\u001b[1;32m    243\u001b[0m \u001b[0;34m\u001b[0m\u001b[0m\n\u001b[1;32m    244\u001b[0m     \u001b[0;31m# If batch_size is not passed but steps is, calculate from the input data.\u001b[0m\u001b[0;34m\u001b[0m\u001b[0;34m\u001b[0m\u001b[0;34m\u001b[0m\u001b[0m\n",
            "\u001b[0;32m/usr/local/lib/python3.7/dist-packages/keras/engine/data_adapter.py\u001b[0m in \u001b[0;36m_check_data_cardinality\u001b[0;34m(data)\u001b[0m\n\u001b[1;32m   1612\u001b[0m           label, \", \".join(str(i.shape[0]) for i in tf.nest.flatten(single_data)))\n\u001b[1;32m   1613\u001b[0m     \u001b[0mmsg\u001b[0m \u001b[0;34m+=\u001b[0m \u001b[0;34m\"Make sure all arrays contain the same number of samples.\"\u001b[0m\u001b[0;34m\u001b[0m\u001b[0;34m\u001b[0m\u001b[0m\n\u001b[0;32m-> 1614\u001b[0;31m     \u001b[0;32mraise\u001b[0m \u001b[0mValueError\u001b[0m\u001b[0;34m(\u001b[0m\u001b[0mmsg\u001b[0m\u001b[0;34m)\u001b[0m\u001b[0;34m\u001b[0m\u001b[0;34m\u001b[0m\u001b[0m\n\u001b[0m\u001b[1;32m   1615\u001b[0m \u001b[0;34m\u001b[0m\u001b[0m\n\u001b[1;32m   1616\u001b[0m \u001b[0;34m\u001b[0m\u001b[0m\n",
            "\u001b[0;31mValueError\u001b[0m: Data cardinality is ambiguous:\n  x sizes: 9830\n  y sizes: 1\nMake sure all arrays contain the same number of samples."
          ]
        }
      ]
    },
    {
      "cell_type": "markdown",
      "metadata": {
        "id": "tdVa-_XCFs-h"
      },
      "source": [
        "Devido aos erros de saída com a biblioteca Tensorflow (como pode ser visto acima), uma nova tentativa com Pytorch será executada abaixo:"
      ]
    },
    {
      "cell_type": "markdown",
      "metadata": {
        "id": "qtNppcIII6d3"
      },
      "source": [
        "Importação das bibliotecas:"
      ]
    },
    {
      "cell_type": "code",
      "metadata": {
        "id": "b7BS0PMjHeft"
      },
      "source": [
        "import h5py\n",
        "import numpy as np\n",
        "from matplotlib import pyplot as plt"
      ],
      "execution_count": null,
      "outputs": []
    },
    {
      "cell_type": "markdown",
      "metadata": {
        "id": "Xgb2RLmfJ4pJ"
      },
      "source": [
        "Carregamento e leitura dos dados:"
      ]
    },
    {
      "cell_type": "code",
      "metadata": {
        "id": "ndnLK5UmHgQ2"
      },
      "source": [
        "train_file = h5py.File('/content/train_catvnoncat.h5', 'r')\n",
        "test_file = h5py.File('/content/test_catvnoncat.h5', 'r')"
      ],
      "execution_count": null,
      "outputs": []
    },
    {
      "cell_type": "markdown",
      "metadata": {
        "id": "Oai-447uJ_zC"
      },
      "source": [
        "Checagem do Dataset:"
      ]
    },
    {
      "cell_type": "code",
      "metadata": {
        "colab": {
          "base_uri": "https://localhost:8080/"
        },
        "id": "mnom0NJeHh28",
        "outputId": "5b2fe211-dc28-4280-c415-df10551c6ed7"
      },
      "source": [
        "print('Dataset contains these objects: ', end = '')\n",
        "for key in train_file.keys():\n",
        "    print(key, end = ', ')"
      ],
      "execution_count": null,
      "outputs": [
        {
          "output_type": "stream",
          "text": [
            "Dataset contains these objects: list_classes, train_set_x, train_set_y, "
          ],
          "name": "stdout"
        }
      ]
    },
    {
      "cell_type": "markdown",
      "metadata": {
        "id": "IOK0Ggs7KF9I"
      },
      "source": [
        "Separação dos dados de treino e teste:"
      ]
    },
    {
      "cell_type": "code",
      "metadata": {
        "id": "Dmky5n80HkMl"
      },
      "source": [
        "# Load training data in numpy\n",
        "X_train = np.array(train_file['train_set_x'][:])\n",
        "y_train = np.array(train_file['train_set_y'][:])\n",
        "\n",
        "# Load development data in numpy\n",
        "X_test = np.array(test_file['test_set_x'][:])\n",
        "y_test = np.array(test_file['test_set_y'][:])"
      ],
      "execution_count": null,
      "outputs": []
    },
    {
      "cell_type": "markdown",
      "metadata": {
        "id": "EMj9rn2YKMdB"
      },
      "source": [
        "Comando para visualização de algumas imagens do dataset, bem como seu tamanho e dimensão dos dados de treino e teste: "
      ]
    },
    {
      "cell_type": "code",
      "metadata": {
        "colab": {
          "base_uri": "https://localhost:8080/",
          "height": 667
        },
        "id": "E4kO1qODHmm8",
        "outputId": "1ec5811c-28d4-4f1e-ab62-cd3228866aca"
      },
      "source": [
        "\n",
        "print('\\n\\nVisualização de algumas imagens do dataset:')\n",
        "n_rows = 3\n",
        "n_cols = 5\n",
        "\n",
        "f, axarr = plt.subplots(n_rows, n_cols, figsize = (9,9))\n",
        "idx = 0\n",
        "\n",
        "for i in range(n_rows):\n",
        "    for j in range(n_cols):\n",
        "        axarr[i,j].imshow(X_train[idx])\n",
        "        idx += 1\n",
        "plt.suptitle('Exemplos de imagens do dataset \"train_catvnoncat\"', fontweight='bold')\n",
        "\n",
        "print('Dimensões de cada imagem:', X_train[0].shape)\n",
        "print(f'Temos {X_train.shape[0]} imagens de treinamento e {X_test.shape[0]} imagens de teste')"
      ],
      "execution_count": null,
      "outputs": [
        {
          "output_type": "stream",
          "text": [
            "\n",
            "\n",
            "Visualização de algumas imagens do dataset:\n",
            "Dimensões de cada imagem: (64, 64, 3)\n",
            "Temos 209 imagens de treinamento e 50 imagens de teste\n"
          ],
          "name": "stdout"
        },
        {
          "output_type": "display_data",
          "data": {
            "image/png": "[encoded data removed]",
            "text/plain": [
              "<Figure size 648x648 with 15 Axes>"
            ]
          },
          "metadata": {
            "tags": [],
            "needs_background": "light"
          }
        }
      ]
    },
    {
      "cell_type": "code",
      "metadata": {
        "colab": {
          "base_uri": "https://localhost:8080/"
        },
        "id": "VGslG8rRHtju",
        "outputId": "bc566067-08f5-413e-ce9d-f1538eb8423c"
      },
      "source": [
        "print(X_train.shape,\n",
        "      y_train.shape,\n",
        "      X_test.shape,\n",
        "      y_test.shape, sep='\\n')"
      ],
      "execution_count": null,
      "outputs": [
        {
          "output_type": "stream",
          "text": [
            "(209, 64, 64, 3)\n",
            "(209,)\n",
            "(50, 64, 64, 3)\n",
            "(50,)\n"
          ],
          "name": "stdout"
        }
      ]
    },
    {
      "cell_type": "code",
      "metadata": {
        "colab": {
          "base_uri": "https://localhost:8080/"
        },
        "id": "lT_8AWn6HvW1",
        "outputId": "19cf9bfc-118b-4007-83e6-9e488ef9444a"
      },
      "source": [
        "X_train[0]"
      ],
      "execution_count": null,
      "outputs": [
        {
          "output_type": "execute_result",
          "data": {
            "text/plain": [
              "array([[[17, 31, 56],\n",
              "        [22, 33, 59],\n",
              "        [25, 35, 62],\n",
              "        ...,\n",
              "        [ 1, 28, 57],\n",
              "        [ 1, 26, 56],\n",
              "        [ 1, 22, 51]],\n",
              "\n",
              "       [[25, 36, 62],\n",
              "        [28, 38, 64],\n",
              "        [30, 40, 67],\n",
              "        ...,\n",
              "        [ 1, 27, 56],\n",
              "        [ 1, 25, 55],\n",
              "        [ 2, 21, 51]],\n",
              "\n",
              "       [[32, 40, 67],\n",
              "        [34, 42, 69],\n",
              "        [35, 42, 70],\n",
              "        ...,\n",
              "        [ 1, 25, 55],\n",
              "        [ 0, 24, 54],\n",
              "        [ 1, 21, 51]],\n",
              "\n",
              "       ...,\n",
              "\n",
              "       [[ 0,  0,  0],\n",
              "        [ 0,  0,  0],\n",
              "        [ 0,  0,  0],\n",
              "        ...,\n",
              "        [ 0,  0,  0],\n",
              "        [ 0,  0,  0],\n",
              "        [ 0,  0,  0]],\n",
              "\n",
              "       [[ 0,  0,  0],\n",
              "        [ 0,  0,  0],\n",
              "        [ 0,  0,  0],\n",
              "        ...,\n",
              "        [ 0,  0,  0],\n",
              "        [ 0,  0,  0],\n",
              "        [ 0,  0,  0]],\n",
              "\n",
              "       [[ 0,  0,  0],\n",
              "        [ 0,  0,  0],\n",
              "        [ 0,  0,  0],\n",
              "        ...,\n",
              "        [ 0,  0,  0],\n",
              "        [ 0,  0,  0],\n",
              "        [ 0,  0,  0]]], dtype=uint8)"
            ]
          },
          "metadata": {
            "tags": []
          },
          "execution_count": 31
        }
      ]
    },
    {
      "cell_type": "markdown",
      "metadata": {
        "id": "gSPZiWeyKuEp"
      },
      "source": [
        "Linearização para uso na MLP"
      ]
    },
    {
      "cell_type": "code",
      "metadata": {
        "colab": {
          "base_uri": "https://localhost:8080/"
        },
        "id": "v0dQrfjbHyDd",
        "outputId": "c698a8af-5718-40ed-df70-03ab311eda3f"
      },
      "source": [
        "\n",
        "X_trainMLP = X_train.reshape(X_train.shape[0], -1).astype(np.float32)\n",
        "X_testMLP = X_test.reshape(X_test.shape[0], -1).astype(np.float32)\n",
        "\n",
        "print(X_trainMLP.shape,\n",
        "      X_testMLP.shape)"
      ],
      "execution_count": null,
      "outputs": [
        {
          "output_type": "stream",
          "text": [
            "(209, 12288) (50, 12288)\n"
          ],
          "name": "stdout"
        }
      ]
    },
    {
      "cell_type": "markdown",
      "metadata": {
        "id": "5BMbPOwxKwg4"
      },
      "source": [
        "Criação do transformador para noramlização"
      ]
    },
    {
      "cell_type": "code",
      "metadata": {
        "id": "UIPg508nHz72"
      },
      "source": [
        "\n",
        "from sklearn.preprocessing import StandardScaler\n",
        "norm = StandardScaler()\n",
        "\n",
        "#Normalização das características\n",
        "X_trainMLP = norm.fit_transform(X_trainMLP)\n",
        "X_testMLP = norm.fit_transform(X_testMLP)"
      ],
      "execution_count": null,
      "outputs": []
    },
    {
      "cell_type": "code",
      "metadata": {
        "id": "P4L4lojUH2ZF"
      },
      "source": [
        "from torch.autograd import Variable\n",
        "from torch import Tensor"
      ],
      "execution_count": null,
      "outputs": []
    },
    {
      "cell_type": "code",
      "metadata": {
        "id": "VPHifiLYH5PX"
      },
      "source": [
        "\n",
        "X_trainMLP = Variable(Tensor(X_trainMLP).float())\n",
        "X_testMLP = Variable(Tensor(X_testMLP).float())\n",
        "y_trainMLP = Variable(Tensor(y_train).long())\n",
        "y_testMLP = Variable(Tensor(y_test).long())"
      ],
      "execution_count": null,
      "outputs": []
    },
    {
      "cell_type": "markdown",
      "metadata": {
        "id": "DPeiRbNBK2DC"
      },
      "source": [
        "Conferência das dimensões da entrada na camada inicial da rede"
      ]
    },
    {
      "cell_type": "code",
      "metadata": {
        "colab": {
          "base_uri": "https://localhost:8080/"
        },
        "id": "YV7CNaHOH7MU",
        "outputId": "a6a439ba-f4cc-4b5f-b31d-66797a3f672d"
      },
      "source": [
        "\n",
        "X_trainMLP.shape[1]"
      ],
      "execution_count": null,
      "outputs": [
        {
          "output_type": "execute_result",
          "data": {
            "text/plain": [
              "12288"
            ]
          },
          "metadata": {
            "tags": []
          },
          "execution_count": 36
        }
      ]
    },
    {
      "cell_type": "code",
      "metadata": {
        "id": "grv-ZRb-H9Gs"
      },
      "source": [
        "import torch\n",
        "import torch.nn.functional as F"
      ],
      "execution_count": null,
      "outputs": []
    },
    {
      "cell_type": "markdown",
      "metadata": {
        "id": "MZ-innqkK7NI"
      },
      "source": [
        "Criação da classe de Rede Neural Artificial MLP"
      ]
    },
    {
      "cell_type": "code",
      "metadata": {
        "id": "6oCeMzaQH_eW"
      },
      "source": [
        "\n",
        "class FcNet(torch.nn.Module):\n",
        "\n",
        "  def __init__(self):\n",
        "    super(FcNet, self).__init__()\n",
        "\n",
        "    # 12288 => X_trainMLP.shape[1]\n",
        "    self.fc1 = torch.nn.Linear(12288, 100)\n",
        "    self.fc2 = torch.nn.Linear(100, 2)\n",
        "    self.output = torch.nn.Softmax(dim=1)\n",
        "\n",
        "  def forward(self, X):\n",
        "    X = F.relu(self.fc1(X))\n",
        "    X = F.relu(self.fc2(X))\n",
        "    X = self.output(X)\n",
        "\n",
        "    return X"
      ],
      "execution_count": null,
      "outputs": []
    },
    {
      "cell_type": "markdown",
      "metadata": {
        "id": "CsgLCZTcLCYg"
      },
      "source": [
        "Chama-se a classe para criação da rede"
      ]
    },
    {
      "cell_type": "code",
      "metadata": {
        "colab": {
          "base_uri": "https://localhost:8080/"
        },
        "id": "oq638zHGIBeN",
        "outputId": "e32331a0-b4c2-4960-bc45-b5097594037d"
      },
      "source": [
        "\n",
        "model = FcNet()\n",
        "\n",
        "#Conferência da arquitetura da rede\n",
        "print(model)"
      ],
      "execution_count": null,
      "outputs": [
        {
          "output_type": "stream",
          "text": [
            "FcNet(\n",
            "  (fc1): Linear(in_features=12288, out_features=100, bias=True)\n",
            "  (fc2): Linear(in_features=100, out_features=2, bias=True)\n",
            "  (output): Softmax(dim=1)\n",
            ")\n"
          ],
          "name": "stdout"
        }
      ]
    },
    {
      "cell_type": "markdown",
      "metadata": {
        "id": "MKQ71WO5LIAY"
      },
      "source": [
        "A perda de entropia cruzada é adequada para problemas de classificação. Assim, é necessário executar os comandos abaixo:\n",
        "\n"
      ]
    },
    {
      "cell_type": "code",
      "metadata": {
        "id": "VtK3uk_WIDk9"
      },
      "source": [
        "\n",
        "criterion = torch.nn.CrossEntropyLoss()\n",
        "\n",
        "# Otimização de parâmentros:\n",
        "optimizer = torch.optim.SGD(model.parameters(), lr = 0.001)\n",
        "\n",
        "NUM_EPOCHS = 1000"
      ],
      "execution_count": null,
      "outputs": []
    },
    {
      "cell_type": "markdown",
      "metadata": {
        "id": "m-o6sYCJLsoX"
      },
      "source": [
        "Comandos para execução da rede neural:"
      ]
    },
    {
      "cell_type": "code",
      "metadata": {
        "colab": {
          "base_uri": "https://localhost:8080/"
        },
        "id": "Y3nKPfA_IFfM",
        "outputId": "43254235-5557-4440-b8f2-d7025f834dbf"
      },
      "source": [
        "\n",
        "for epoch in range(NUM_EPOCHS):\n",
        "    optimizer.zero_grad()\n",
        "    out = model(X_trainMLP)\n",
        "    loss = criterion(out, y_trainMLP)\n",
        "    loss.backward()\n",
        "    optimizer.step()\n",
        "    \n",
        "    if epoch % 100 == 0:\n",
        "        print('At epoch %d the loss is %f' % (epoch, loss.data.item()))"
      ],
      "execution_count": null,
      "outputs": [
        {
          "output_type": "stream",
          "text": [
            "At epoch 0 the loss is 0.704819\n",
            "At epoch 100 the loss is 0.679255\n",
            "At epoch 200 the loss is 0.666408\n",
            "At epoch 300 the loss is 0.631987\n",
            "At epoch 400 the loss is 0.603616\n",
            "At epoch 500 the loss is 0.586012\n",
            "At epoch 600 the loss is 0.572221\n",
            "At epoch 700 the loss is 0.560413\n",
            "At epoch 800 the loss is 0.550037\n",
            "At epoch 900 the loss is 0.540566\n"
          ],
          "name": "stdout"
        }
      ]
    },
    {
      "cell_type": "markdown",
      "metadata": {
        "id": "MfJbhkurMNRJ"
      },
      "source": [
        "Executando predições no conjunto de teste. Cada predição é composta por um par (predição para cada classe)"
      ]
    },
    {
      "cell_type": "code",
      "metadata": {
        "id": "Yj5NAqWxIMm2"
      },
      "source": [
        "\n",
        "predict_out = model(X_testMLP)\n",
        "\n",
        "\n",
        "#Recupera como valor predito o maior de cada par predito\n",
        "_, predict_y = torch.max(predict_out, 1)"
      ],
      "execution_count": null,
      "outputs": []
    },
    {
      "cell_type": "code",
      "metadata": {
        "id": "-40Gw4dwIOh0"
      },
      "source": [
        "from sklearn.metrics import confusion_matrix, classification_report"
      ],
      "execution_count": null,
      "outputs": []
    },
    {
      "cell_type": "markdown",
      "metadata": {
        "id": "IRg2Z7S6MVoI"
      },
      "source": [
        "A fim de acaviar-se a Rede Neural, printa-se a matriz de confusão e classification report:"
      ]
    },
    {
      "cell_type": "markdown",
      "metadata": {
        "id": "CXg1_IhyMVXk"
      },
      "source": [
        ""
      ]
    },
    {
      "cell_type": "code",
      "metadata": {
        "colab": {
          "base_uri": "https://localhost:8080/"
        },
        "id": "j0nBwNU7IQ-e",
        "outputId": "09505103-f0a0-490f-8cc2-7ec30188305b"
      },
      "source": [
        "\n",
        "\n",
        "#Matriz de confusão\n",
        "print('Matriz de confusão')\n",
        "print(confusion_matrix(y_testMLP.data, predict_y.data))\n",
        "\n",
        "#Relatório de avaliação da classificação\n",
        "print('-' * 60, end='\\n\\n')\n",
        "print('Relatório de avaliação da classificação')\n",
        "print(classification_report(y_testMLP.data, predict_y.data,\n",
        "                            zero_division=0))"
      ],
      "execution_count": null,
      "outputs": [
        {
          "output_type": "stream",
          "text": [
            "Matriz de confusão\n",
            "[[13  4]\n",
            " [ 7 26]]\n",
            "------------------------------------------------------------\n",
            "\n",
            "Relatório de avaliação da classificação\n",
            "              precision    recall  f1-score   support\n",
            "\n",
            "           0       0.65      0.76      0.70        17\n",
            "           1       0.87      0.79      0.83        33\n",
            "\n",
            "    accuracy                           0.78        50\n",
            "   macro avg       0.76      0.78      0.76        50\n",
            "weighted avg       0.79      0.78      0.78        50\n",
            "\n"
          ],
          "name": "stdout"
        }
      ]
    },
    {
      "cell_type": "markdown",
      "metadata": {
        "id": "tpRhEDl2MkBo"
      },
      "source": [
        "Comandos para visualização e análise da imagem 23 do dataset:"
      ]
    },
    {
      "cell_type": "code",
      "metadata": {
        "colab": {
          "base_uri": "https://localhost:8080/",
          "height": 287
        },
        "id": "PWo7QW-ZITw0",
        "outputId": "4f5b2b84-f2e0-43c6-9b90-1170a494275b"
      },
      "source": [
        "#Imagem analisada\n",
        "idx = 23\n",
        "\n",
        "#Análise do resultado\n",
        "if predict_y[idx] == 1:\n",
        "  analise = 'Há um gato na imagem'\n",
        "else:\n",
        "  analise = 'Não há um gato na imagem'\n",
        "\n",
        "#Geração do gráfico\n",
        "plt.imshow(X_test[idx])\n",
        "plt.annotate(analise, (10,30),\n",
        "             bbox=dict(boxstyle=\"round\", fc=\"w\"))\n",
        "  \n",
        "print(analise)"
      ],
      "execution_count": null,
      "outputs": [
        {
          "output_type": "stream",
          "text": [
            "Há um gato na imagem\n"
          ],
          "name": "stdout"
        },
        {
          "output_type": "display_data",
          "data": {
            "image/png": "[encoded data removed]",
            "text/plain": [
              "<Figure size 432x288 with 1 Axes>"
            ]
          },
          "metadata": {
            "tags": [],
            "needs_background": "light"
          }
        }
      ]
    },
    {
      "cell_type": "markdown",
      "metadata": {
        "id": "jPNupr4GMpXI"
      },
      "source": [
        "Comandos para visualização e análise da imagem 39 do dataset:"
      ]
    },
    {
      "cell_type": "code",
      "metadata": {
        "colab": {
          "base_uri": "https://localhost:8080/",
          "height": 287
        },
        "id": "heRiYa3QIWx1",
        "outputId": "ad722e98-4b2d-4627-d52e-3b623f40c0d7"
      },
      "source": [
        "#Imagem analisada\n",
        "idx = 39\n",
        "\n",
        "#Análise do resultado\n",
        "if predict_y[idx] == 1:\n",
        "  analise = 'Há um gato na imagem'\n",
        "else:\n",
        "  analise = 'Não há um gato na imagem'\n",
        "\n",
        "#Geração do gráfico\n",
        "plt.imshow(X_test[idx])\n",
        "plt.annotate(analise, (10,30),\n",
        "             bbox=dict(boxstyle=\"round\", fc=\"w\"))\n",
        "\n",
        "print(analise)\n"
      ],
      "execution_count": null,
      "outputs": [
        {
          "output_type": "stream",
          "text": [
            "Não há um gato na imagem\n"
          ],
          "name": "stdout"
        },
        {
          "output_type": "display_data",
          "data": {
            "image/png": "[encoded data removed]",
            "text/plain": [
              "<Figure size 432x288 with 1 Axes>"
            ]
          },
          "metadata": {
            "tags": [],
            "needs_background": "light"
          }
        }
      ]
    },
    {
      "cell_type": "markdown",
      "metadata": {
        "id": "7PFEyQKlMr7X"
      },
      "source": [
        "Comandos para anaálise da imagem aleatória do dataset:"
      ]
    },
    {
      "cell_type": "code",
      "metadata": {
        "colab": {
          "base_uri": "https://localhost:8080/",
          "height": 287
        },
        "id": "CdZyZbYSIZju",
        "outputId": "0fe988da-e0a5-45c1-98bc-210a4b02ee51"
      },
      "source": [
        "#Imagem analisada\n",
        "idx = np.random.randint(0,50)\n",
        "\n",
        "#Análise do resultado\n",
        "if predict_y[idx] == 1:\n",
        "  analise = 'Há um gato na imagem'\n",
        "else:\n",
        "  analise = 'Não há um gato na imagem'\n",
        "\n",
        "\n",
        "#Geração do gráfico\n",
        "plt.imshow(X_test[idx])\n",
        "plt.annotate(analise, (10,30),\n",
        "             bbox=dict(boxstyle=\"round\", fc=\"w\"))\n",
        "\n",
        "print(analise)"
      ],
      "execution_count": null,
      "outputs": [
        {
          "output_type": "stream",
          "text": [
            "Há um gato na imagem\n"
          ],
          "name": "stdout"
        },
        {
          "output_type": "display_data",
          "data": {
            "image/png": "[encoded data removed]",
            "text/plain": [
              "<Figure size 432x288 with 1 Axes>"
            ]
          },
          "metadata": {
            "tags": [],
            "needs_background": "light"
          }
        }
      ]
    },
    {
      "cell_type": "markdown",
      "metadata": {
        "id": "rLw8aSq8Mxco"
      },
      "source": [
        "Comandos para anaálise da imagem aleatória do dataset:"
      ]
    },
    {
      "cell_type": "code",
      "metadata": {
        "colab": {
          "base_uri": "https://localhost:8080/",
          "height": 287
        },
        "id": "KEVXO9UYIc48",
        "outputId": "61940fd9-1347-4369-8629-1370ca2cdee5"
      },
      "source": [
        "#Imagem analisada\n",
        "idx = np.random.randint(0,50)\n",
        "\n",
        "#Análise do resultado\n",
        "if predict_y[idx] == 1:\n",
        "  analise = 'Há um gato na imagem'\n",
        "else:\n",
        "  analise = 'Não há um gato na imagem'\n",
        "\n",
        "\n",
        "#Geração do gráfico\n",
        "plt.imshow(X_test[idx])\n",
        "plt.annotate(analise, (10,30),\n",
        "             bbox=dict(boxstyle=\"round\", fc=\"w\"))\n",
        "\n",
        "print(analise)"
      ],
      "execution_count": null,
      "outputs": [
        {
          "output_type": "stream",
          "text": [
            "Há um gato na imagem\n"
          ],
          "name": "stdout"
        },
        {
          "output_type": "display_data",
          "data": {
            "image/png": "[encoded data removed]",
            "text/plain": [
              "<Figure size 432x288 with 1 Axes>"
            ]
          },
          "metadata": {
            "tags": [],
            "needs_background": "light"
          }
        }
      ]
    },
    {
      "cell_type": "markdown",
      "metadata": {
        "id": "1jrHRpQSJ4bc"
      },
      "source": [
        "Bibliografia: \n",
        "\n",
        "\n",
        "https://qastack.com.br/datascience/15135/train-test-validation-set-splitting-in-sklearn\n",
        "\n",
        "https://datascience.stackexchange.com/questions/15135/train-test-validation-set-splitting-in-sklearn\n",
        "\n",
        "https://www.dropbox.com/s/qucvn1ylb9zx82h/AM09%20%28Aprendizado%20de%20Comit%C3%AAs%29.pptx?dl=0\n",
        "\n",
        "https://www.upgrad.com/blog/bagging-vs-boosting/\n",
        "\n",
        "https://www.tutorialspoint.com/scikit_learn/scikit_learn_support_vector_machines.htm\n",
        "\n",
        "http://www.each.usp.br/petsi/jornal/?p=2684\n",
        "\n",
        "https://sites.icmc.usp.br/andre/research/neural/\n",
        "\n",
        "https://www.deeplearningbook.com.br/introducao-as-redes-neurais-convolucionais/\n",
        "\n",
        "https://medium.com/ensina-ai/rede-neural-perceptron-multicamadas-f9de8471f1a9\n",
        "\n",
        "https://datascience-enthusiast.com/DL/Logistic-Regression-with-a-Neural-Network-mindset.html"
      ]
    }
  ]
}